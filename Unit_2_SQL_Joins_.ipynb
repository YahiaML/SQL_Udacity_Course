{
  "nbformat": 4,
  "nbformat_minor": 0,
  "metadata": {
    "colab": {
      "name": "Unit_2_SQL_Joins .ipynb",
      "provenance": [],
      "collapsed_sections": [],
      "authorship_tag": "ABX9TyMGVUm5x9rkKCWpuHvgHL8C",
      "include_colab_link": true
    },
    "kernelspec": {
      "name": "python3",
      "display_name": "Python 3"
    },
    "language_info": {
      "name": "python"
    }
  },
  "cells": [
    {
      "cell_type": "markdown",
      "metadata": {
        "id": "view-in-github",
        "colab_type": "text"
      },
      "source": [
        "<a href=\"https://colab.research.google.com/github/YahiaML/SQL_Udacity_Course/blob/main/Unit_2_SQL_Joins_.ipynb\" target=\"_parent\"><img src=\"https://colab.research.google.com/assets/colab-badge.svg\" alt=\"Open In Colab\"/></a>"
      ]
    },
    {
      "cell_type": "code",
      "source": [
        "import sqlite3\n",
        "import pandas as pd"
      ],
      "metadata": {
        "id": "N5R4p7i7ggyw"
      },
      "execution_count": 1,
      "outputs": []
    },
    {
      "cell_type": "code",
      "source": [
        "db = sqlite3.connect('/content/parch_and_posey.db')"
      ],
      "metadata": {
        "id": "xu4mBSeMYjSY"
      },
      "execution_count": 2,
      "outputs": []
    },
    {
      "cell_type": "markdown",
      "source": [
        "# **L_1:** JOIN & ON\n",
        "\n",
        "**JOIN:** Combines rows from two or more tables, based on a related column between them"
      ],
      "metadata": {
        "id": "VXpce29qbfhL"
      }
    },
    {
      "cell_type": "code",
      "source": [
        "SQL_code = '''\n",
        "SELECT *\n",
        "FROM accounts\n",
        "LIMIT 10\n",
        "'''\n",
        "\n",
        "code_execution = db.execute(SQL_code)\n",
        "\n",
        "for row in code_execution:\n",
        "  print(row)"
      ],
      "metadata": {
        "colab": {
          "base_uri": "https://localhost:8080/"
        },
        "id": "8dUSjqtAQuAR",
        "outputId": "a6b44da2-3b91-4ef0-8a77-f7f96e2c1511"
      },
      "execution_count": 8,
      "outputs": [
        {
          "output_type": "stream",
          "name": "stdout",
          "text": [
            "(1001, 'Walmart', 'www.walmart.com', 40.23849561, -75.10329704, 'Tamara Tuma', 321500)\n",
            "(1011, 'Exxon Mobil', 'www.exxonmobil.com', 41.1691563, -73.84937379, 'Sung Shields', 321510)\n",
            "(1021, 'Apple', 'www.apple.com', 42.29049481, -76.08400942, 'Jodee Lupo', 321520)\n",
            "(1031, 'Berkshire Hathaway', 'www.berkshirehathaway.com', 40.94902131, -75.76389759, 'Serafina Banda', 321530)\n",
            "(1041, 'McKesson', 'www.mckesson.com', 42.21709326, -75.28499823, 'Angeles Crusoe', 321540)\n",
            "(1051, 'UnitedHealth Group', 'www.unitedhealthgroup.com', 40.08792542, -75.57569396, 'Savanna Gayman', 321550)\n",
            "(1061, 'CVS Health', 'www.cvshealth.com', 41.46779585, -73.76763638, 'Anabel Haskell', 321560)\n",
            "(1071, 'General Motors', 'www.gm.com', 40.80551762, -76.7101814, 'Barrie Omeara', 321570)\n",
            "(1081, 'Ford Motor', 'www.ford.com', 41.113942, -75.85422452, 'Kym Hagerman', 321580)\n",
            "(1091, 'AT&ampT', 'www.att.com', 42.4974627, -74.90271225, 'Jamel Mosqueda', 321590)\n"
          ]
        }
      ]
    },
    {
      "cell_type": "code",
      "source": [
        "SQL_code = '''\n",
        "SELECT *\n",
        "FROM accounts A\n",
        "JOIN orders O ON A.id = O.account_id\n",
        "LIMIT 10\n",
        "'''\n",
        "\n",
        "code_execution = db.execute(SQL_code)\n",
        "\n",
        "for row in code_execution:\n",
        "  print(row)"
      ],
      "metadata": {
        "colab": {
          "base_uri": "https://localhost:8080/"
        },
        "id": "SFu3QpfZbpmD",
        "outputId": "c9179e05-95f2-4c8d-e398-84dd70a92cd8"
      },
      "execution_count": 9,
      "outputs": [
        {
          "output_type": "stream",
          "name": "stdout",
          "text": [
            "(1001, 'Walmart', 'www.walmart.com', 40.23849561, -75.10329704, 'Tamara Tuma', 321500, 1, 1001, '2015-10-06 17:31:14', 123, 22, 24, 169, 613.77, 164.78, 194.88, 973.43)\n",
            "(1001, 'Walmart', 'www.walmart.com', 40.23849561, -75.10329704, 'Tamara Tuma', 321500, 2, 1001, '2015-11-05 03:34:33', 190, 41, 57, 288, 948.1, 307.09, 462.84, 1718.03)\n",
            "(1001, 'Walmart', 'www.walmart.com', 40.23849561, -75.10329704, 'Tamara Tuma', 321500, 3, 1001, '2015-12-04 04:21:55', 85, 47, 0, 132, 424.15, 352.03, 0, 776.18)\n",
            "(1001, 'Walmart', 'www.walmart.com', 40.23849561, -75.10329704, 'Tamara Tuma', 321500, 4, 1001, '2016-01-02 01:18:24', 144, 32, 0, 176, 718.56, 239.68, 0, 958.24)\n",
            "(1001, 'Walmart', 'www.walmart.com', 40.23849561, -75.10329704, 'Tamara Tuma', 321500, 5, 1001, '2016-02-01 19:27:27', 108, 29, 28, 165, 538.92, 217.21, 227.36, 983.49)\n",
            "(1001, 'Walmart', 'www.walmart.com', 40.23849561, -75.10329704, 'Tamara Tuma', 321500, 6, 1001, '2016-03-02 15:29:32', 103, 24, 46, 173, 513.97, 179.76, 373.52, 1067.25)\n",
            "(1001, 'Walmart', 'www.walmart.com', 40.23849561, -75.10329704, 'Tamara Tuma', 321500, 7, 1001, '2016-04-01 11:20:18', 101, 33, 92, 226, 503.99, 247.17, 747.04, 1498.2)\n",
            "(1001, 'Walmart', 'www.walmart.com', 40.23849561, -75.10329704, 'Tamara Tuma', 321500, 8, 1001, '2016-05-01 15:55:51', 95, 47, 151, 293, 474.05, 352.03, 1226.12, 2052.2)\n",
            "(1001, 'Walmart', 'www.walmart.com', 40.23849561, -75.10329704, 'Tamara Tuma', 321500, 9, 1001, '2016-05-31 21:22:48', 91, 16, 22, 129, 454.09, 119.84, 178.64, 752.57)\n",
            "(1001, 'Walmart', 'www.walmart.com', 40.23849561, -75.10329704, 'Tamara Tuma', 321500, 10, 1001, '2016-06-30 12:32:05', 94, 46, 8, 148, 469.06, 344.54, 64.96, 878.56)\n"
          ]
        }
      ]
    },
    {
      "cell_type": "code",
      "source": [
        "SQL_code = '''\n",
        "SELECT A.name account_name, R.name region_name,SR.name sales_rep_name\n",
        "FROM accounts A \n",
        "JOIN sales_reps SR ON A.sales_rep_id = SR.id\n",
        "JOIN region R ON SR.region_id = R.id\n",
        "ORDER BY A.name\n",
        "LIMIT 10\n",
        "'''\n",
        "\n",
        "code_execution = db.execute(SQL_code)\n",
        "\n",
        "for row in code_execution:\n",
        "  print(row)"
      ],
      "metadata": {
        "colab": {
          "base_uri": "https://localhost:8080/"
        },
        "id": "dmmtl-6RjyWH",
        "outputId": "33d8f259-761b-4402-b8e0-ecbc1f0d8572"
      },
      "execution_count": 11,
      "outputs": [
        {
          "output_type": "stream",
          "name": "stdout",
          "text": [
            "('3M', 'Northeast', 'Sibyl Lauria')\n",
            "('ADP', 'Southeast', 'Earlie Schleusner')\n",
            "('AECOM', 'Southeast', 'Moon Torian')\n",
            "('AES', 'Southeast', 'Calvin Ollison')\n",
            "('AIG', 'Northeast', 'Elba Felder')\n",
            "('AT&ampT', 'Northeast', 'Necole Victory')\n",
            "('AbbVie', 'Midwest', 'Julie Starr')\n",
            "('Abbott Laboratories', 'Midwest', 'Chau Rowles')\n",
            "('Advance Auto Parts', 'West', 'Marquetta Laycock')\n",
            "('Aetna', 'Northeast', 'Renetta Carew')\n"
          ]
        }
      ]
    },
    {
      "cell_type": "markdown",
      "source": [
        "# **L_2:** LEFT JOIN & RIGHT JOIN\n",
        "\n",
        "\n",
        "\n",
        "```\n",
        "SELECT *\n",
        "FROM LEFT_TABLE\n",
        "LEFT JOIN RIGHT_TABLE    # returns all the rows from left table\n",
        "```\n",
        "And vise versa"
      ],
      "metadata": {
        "id": "041hcULowBtc"
      }
    },
    {
      "cell_type": "markdown",
      "source": [
        "**Let's create a small database to make this example clear**"
      ],
      "metadata": {
        "id": "rF0Jhh5zzuIZ"
      }
    },
    {
      "cell_type": "code",
      "source": [
        "temp_database = sqlite3.connect('temp_database.db')\n",
        "\n",
        "temp_database.execute('''\n",
        "CREATE TABLE IF NOT EXISTS team(team_name text, \n",
        "                      country text);''')\n",
        "\n",
        "temp_database.execute(\"INSERT INTO team VALUES('Real Madrid', 'Spain');\")\n",
        "temp_database.execute(\"INSERT INTO team VALUES('Barcelona', 'Spain');\")\n",
        "temp_database.execute(\"INSERT INTO team VALUES('Liverpool', 'UK');\")\n",
        "temp_database.execute(\"INSERT INTO team VALUES('Manchester city', 'UK');\")\n",
        "temp_database.execute(\"INSERT INTO team VALUES('Bayern Munich', 'DE');\")\n",
        "temp_database.execute(\"INSERT INTO team VALUES('Arsenal', 'UK');\")\n",
        "\n",
        "temp_database.execute('''\n",
        "CREATE TABLE IF NOT EXISTS season(team_name text, \n",
        "                      season integer, \n",
        "                      played_matches integer);''')\n",
        "\n",
        "temp_database.execute(\"INSERT INTO season VALUES('Real Madrid', 2019, 52);\")\n",
        "temp_database.execute(\"INSERT INTO season VALUES('Barcelona', 2019, 47);\")\n",
        "temp_database.execute(\"INSERT INTO season VALUES('Paris St Germain', 2018, 45);\")\n",
        "temp_database.execute(\"INSERT INTO season VALUES('Tottenham', 2019, 52);\")\n",
        "temp_database.execute(\"INSERT INTO season VALUES('Bayern Leverkusen', 2018, 50 );\")\n",
        "\n",
        "# This is a DataBase of fiction ^^. Unless otherwise indicated, all the names, characters, businesses, places, \n",
        "# events and incidents in this book are either the product of the author's imagination or used in a fictitious manner. \n",
        "# Any resemblance to actual persons, living or dead, or actual events is purely coincidental."
      ],
      "metadata": {
        "colab": {
          "base_uri": "https://localhost:8080/"
        },
        "id": "A27NaI2H067H",
        "outputId": "21044e13-481f-4147-c061-d86a42f7748b"
      },
      "execution_count": 22,
      "outputs": [
        {
          "output_type": "execute_result",
          "data": {
            "text/plain": [
              "<sqlite3.Cursor at 0x7fe8ef000880>"
            ]
          },
          "metadata": {},
          "execution_count": 22
        }
      ]
    },
    {
      "cell_type": "code",
      "source": [
        "SQL_code = '''\n",
        "SELECT *\n",
        "FROM team T\n",
        "LEFT JOIN season S ON T.team_name = S.team_name\n",
        "'''\n",
        "\n",
        "code_execution = temp_database.execute(SQL_code)\n",
        "\n",
        "for row in code_execution:\n",
        "  print(row)"
      ],
      "metadata": {
        "colab": {
          "base_uri": "https://localhost:8080/"
        },
        "outputId": "2b779dd5-1b2b-4a54-b9d4-3e8e1fbd1db0",
        "id": "WlRjl1r_wBtm"
      },
      "execution_count": 23,
      "outputs": [
        {
          "output_type": "stream",
          "name": "stdout",
          "text": [
            "('Real Madrid', 'Spain', 'Real Madrid', 2019, 52)\n",
            "('Barcelona', 'Spain', 'Barcelona', 2019, 47)\n",
            "('Liverpool', 'UK', None, None, None)\n",
            "('Manchester city', 'UK', None, None, None)\n",
            "('Bayern Munich', 'DE', None, None, None)\n",
            "('Arsenal', 'UK', None, None, None)\n"
          ]
        }
      ]
    },
    {
      "cell_type": "markdown",
      "source": [
        "Returned rows that contain **Liverpool**, **Manchester city**, **Bayern Munich**, and **Arsenal** despite that they have no link to the season table"
      ],
      "metadata": {
        "id": "HyAcXvjw6SAm"
      }
    },
    {
      "cell_type": "code",
      "source": [
        "SQL_code = '''\n",
        "SELECT *\n",
        "FROM season S\n",
        "LEFT JOIN team T ON T.team_name = S.team_name\n",
        "'''\n",
        "\n",
        "code_execution = temp_database.execute(SQL_code)\n",
        "\n",
        "for row in code_execution:\n",
        "  print(row)"
      ],
      "metadata": {
        "colab": {
          "base_uri": "https://localhost:8080/"
        },
        "outputId": "58beaf27-8d6c-4dfa-cbbb-739b70f5f6ee",
        "id": "KPoRUQHN688B"
      },
      "execution_count": 24,
      "outputs": [
        {
          "output_type": "stream",
          "name": "stdout",
          "text": [
            "('Real Madrid', 2019, 52, 'Real Madrid', 'Spain')\n",
            "('Barcelona', 2019, 47, 'Barcelona', 'Spain')\n",
            "('Paris St Germain', 2018, 45, None, None)\n",
            "('Tottenham', 2019, 52, None, None)\n",
            "('Bayern Leverkusen', 2018, 50, None, None)\n"
          ]
        }
      ]
    },
    {
      "cell_type": "markdown",
      "source": [
        "Returned rows that contain **Paris St Germain**, **Tottenham** and **Bayern Leverkusen** despite that they have no link to the team table"
      ],
      "metadata": {
        "id": "q5o41tL87EUc"
      }
    }
  ]
}