{
  "nbformat": 4,
  "nbformat_minor": 0,
  "metadata": {
    "colab": {
      "name": "Unit_1 Basic SQL.ipynb",
      "provenance": [],
      "collapsed_sections": [],
      "authorship_tag": "ABX9TyMt128cZ1f9rNDfLMwdQ7Oc",
      "include_colab_link": true
    },
    "kernelspec": {
      "name": "python3",
      "display_name": "Python 3"
    },
    "language_info": {
      "name": "python"
    }
  },
  "cells": [
    {
      "cell_type": "markdown",
      "metadata": {
        "id": "view-in-github",
        "colab_type": "text"
      },
      "source": [
        "<a href=\"https://colab.research.google.com/github/YahiaML/SQL_Udacity_Course/blob/main/Unit_1_Basic_SQL.ipynb\" target=\"_parent\"><img src=\"https://colab.research.google.com/assets/colab-badge.svg\" alt=\"Open In Colab\"/></a>"
      ]
    },
    {
      "cell_type": "code",
      "source": [
        "import sqlite3\n",
        "import pandas as pd"
      ],
      "metadata": {
        "id": "N5R4p7i7ggyw"
      },
      "execution_count": 1,
      "outputs": []
    },
    {
      "cell_type": "code",
      "source": [
        "db = sqlite3.connect('/content/parch_and_posey.db')"
      ],
      "metadata": {
        "id": "xu4mBSeMYjSY"
      },
      "execution_count": 2,
      "outputs": []
    },
    {
      "cell_type": "markdown",
      "source": [
        "# **L_1:** SELECT FROM\n",
        "\n",
        "**SELECT:** choose the columns that you want\n",
        "\n",
        "**FROM:** choose the table that contains the columns that you want"
      ],
      "metadata": {
        "id": "VXpce29qbfhL"
      }
    },
    {
      "cell_type": "code",
      "source": [
        "SQL_code = '''\n",
        "\n",
        "SELECT * \n",
        "FROM accounts\n",
        "LIMIT 15;\n",
        "'''\n",
        "\n",
        "code_execution = db.execute(SQL_code)\n",
        "\n",
        "for row in code_execution:\n",
        "  print(row)"
      ],
      "metadata": {
        "colab": {
          "base_uri": "https://localhost:8080/"
        },
        "id": "SFu3QpfZbpmD",
        "outputId": "5e6d5db5-6f6f-45d8-d8c1-c1110c4b16a5"
      },
      "execution_count": 14,
      "outputs": [
        {
          "output_type": "stream",
          "name": "stdout",
          "text": [
            "(1001, 'Walmart', 'www.walmart.com', 40.23849561, -75.10329704, 'Tamara Tuma', 321500)\n",
            "(1011, 'Exxon Mobil', 'www.exxonmobil.com', 41.1691563, -73.84937379, 'Sung Shields', 321510)\n",
            "(1021, 'Apple', 'www.apple.com', 42.29049481, -76.08400942, 'Jodee Lupo', 321520)\n",
            "(1031, 'Berkshire Hathaway', 'www.berkshirehathaway.com', 40.94902131, -75.76389759, 'Serafina Banda', 321530)\n",
            "(1041, 'McKesson', 'www.mckesson.com', 42.21709326, -75.28499823, 'Angeles Crusoe', 321540)\n",
            "(1051, 'UnitedHealth Group', 'www.unitedhealthgroup.com', 40.08792542, -75.57569396, 'Savanna Gayman', 321550)\n",
            "(1061, 'CVS Health', 'www.cvshealth.com', 41.46779585, -73.76763638, 'Anabel Haskell', 321560)\n",
            "(1071, 'General Motors', 'www.gm.com', 40.80551762, -76.7101814, 'Barrie Omeara', 321570)\n",
            "(1081, 'Ford Motor', 'www.ford.com', 41.113942, -75.85422452, 'Kym Hagerman', 321580)\n",
            "(1091, 'AT&ampT', 'www.att.com', 42.4974627, -74.90271225, 'Jamel Mosqueda', 321590)\n",
            "(1101, 'General Electric', 'www.ge.com', 41.1697121, -77.29713174, 'Parker Hoggan', 321600)\n",
            "(1111, 'AmerisourceBergen', 'www.amerisourcebergen.com', 41.91146908, -74.4762077, 'Tuan Trainer', 321610)\n",
            "(1121, 'Verizon', 'www.verizon.com', 41.3414106, -75.77193559, 'Chantell Drescher', 321620)\n",
            "(1131, 'Chevron', 'www.chevron.com', 42.6119413, -76.36123105, 'Paige Bartos', 321630)\n",
            "(1141, 'Costco', 'www.costco.com', 42.26304566, -74.80916921, 'Dominique Favela', 321640)\n"
          ]
        }
      ]
    },
    {
      "cell_type": "markdown",
      "source": [
        "# **L_2:** LIMIT\n",
        "Only show the first x rows"
      ],
      "metadata": {
        "id": "uoQbxu-gcWvP"
      }
    },
    {
      "cell_type": "code",
      "source": [
        "sql_code = db.execute('''\n",
        "SELECT occurred_at, account_id, channel\n",
        "FROM web_events\n",
        "LIMIT 15;\n",
        "''')\n",
        "\n",
        "# print output as a table (data frame)\n",
        "data = []\n",
        "for row in sql_code:\n",
        "  data.append(list(row))\n",
        "df= pd.DataFrame(data,columns=[\"occurred_at\",\"account_id\", \"channel\"])  # inset columns names that you want\n",
        "df"
      ],
      "metadata": {
        "colab": {
          "base_uri": "https://localhost:8080/",
          "height": 520
        },
        "id": "sD0BG6KxYqUQ",
        "outputId": "7671ca0e-ba90-4fe7-ff5a-eb49697eeb9d"
      },
      "execution_count": 8,
      "outputs": [
        {
          "output_type": "execute_result",
          "data": {
            "text/plain": [
              "            occurred_at  account_id channel\n",
              "0   2015-10-06 17:13:58        1001  direct\n",
              "1   2015-11-05 03:08:26        1001  direct\n",
              "2   2015-12-04 03:57:24        1001  direct\n",
              "3   2016-01-02 00:55:03        1001  direct\n",
              "4   2016-02-01 19:02:33        1001  direct\n",
              "5   2016-03-02 15:15:22        1001  direct\n",
              "6   2016-04-01 10:58:55        1001  direct\n",
              "7   2016-05-01 15:26:44        1001  direct\n",
              "8   2016-05-31 20:53:47        1001  direct\n",
              "9   2016-06-30 12:09:45        1001  direct\n",
              "10  2016-07-30 03:06:26        1001  direct\n",
              "11  2016-08-28 06:42:42        1001  direct\n",
              "12  2016-09-26 23:14:59        1001  direct\n",
              "13  2016-10-26 20:21:09        1001  direct\n",
              "14  2016-11-25 22:52:29        1001  direct"
            ],
            "text/html": [
              "\n",
              "  <div id=\"df-5d35c4d1-a43e-4d32-8a2d-152ba0ebd2b2\">\n",
              "    <div class=\"colab-df-container\">\n",
              "      <div>\n",
              "<style scoped>\n",
              "    .dataframe tbody tr th:only-of-type {\n",
              "        vertical-align: middle;\n",
              "    }\n",
              "\n",
              "    .dataframe tbody tr th {\n",
              "        vertical-align: top;\n",
              "    }\n",
              "\n",
              "    .dataframe thead th {\n",
              "        text-align: right;\n",
              "    }\n",
              "</style>\n",
              "<table border=\"1\" class=\"dataframe\">\n",
              "  <thead>\n",
              "    <tr style=\"text-align: right;\">\n",
              "      <th></th>\n",
              "      <th>occurred_at</th>\n",
              "      <th>account_id</th>\n",
              "      <th>channel</th>\n",
              "    </tr>\n",
              "  </thead>\n",
              "  <tbody>\n",
              "    <tr>\n",
              "      <th>0</th>\n",
              "      <td>2015-10-06 17:13:58</td>\n",
              "      <td>1001</td>\n",
              "      <td>direct</td>\n",
              "    </tr>\n",
              "    <tr>\n",
              "      <th>1</th>\n",
              "      <td>2015-11-05 03:08:26</td>\n",
              "      <td>1001</td>\n",
              "      <td>direct</td>\n",
              "    </tr>\n",
              "    <tr>\n",
              "      <th>2</th>\n",
              "      <td>2015-12-04 03:57:24</td>\n",
              "      <td>1001</td>\n",
              "      <td>direct</td>\n",
              "    </tr>\n",
              "    <tr>\n",
              "      <th>3</th>\n",
              "      <td>2016-01-02 00:55:03</td>\n",
              "      <td>1001</td>\n",
              "      <td>direct</td>\n",
              "    </tr>\n",
              "    <tr>\n",
              "      <th>4</th>\n",
              "      <td>2016-02-01 19:02:33</td>\n",
              "      <td>1001</td>\n",
              "      <td>direct</td>\n",
              "    </tr>\n",
              "    <tr>\n",
              "      <th>5</th>\n",
              "      <td>2016-03-02 15:15:22</td>\n",
              "      <td>1001</td>\n",
              "      <td>direct</td>\n",
              "    </tr>\n",
              "    <tr>\n",
              "      <th>6</th>\n",
              "      <td>2016-04-01 10:58:55</td>\n",
              "      <td>1001</td>\n",
              "      <td>direct</td>\n",
              "    </tr>\n",
              "    <tr>\n",
              "      <th>7</th>\n",
              "      <td>2016-05-01 15:26:44</td>\n",
              "      <td>1001</td>\n",
              "      <td>direct</td>\n",
              "    </tr>\n",
              "    <tr>\n",
              "      <th>8</th>\n",
              "      <td>2016-05-31 20:53:47</td>\n",
              "      <td>1001</td>\n",
              "      <td>direct</td>\n",
              "    </tr>\n",
              "    <tr>\n",
              "      <th>9</th>\n",
              "      <td>2016-06-30 12:09:45</td>\n",
              "      <td>1001</td>\n",
              "      <td>direct</td>\n",
              "    </tr>\n",
              "    <tr>\n",
              "      <th>10</th>\n",
              "      <td>2016-07-30 03:06:26</td>\n",
              "      <td>1001</td>\n",
              "      <td>direct</td>\n",
              "    </tr>\n",
              "    <tr>\n",
              "      <th>11</th>\n",
              "      <td>2016-08-28 06:42:42</td>\n",
              "      <td>1001</td>\n",
              "      <td>direct</td>\n",
              "    </tr>\n",
              "    <tr>\n",
              "      <th>12</th>\n",
              "      <td>2016-09-26 23:14:59</td>\n",
              "      <td>1001</td>\n",
              "      <td>direct</td>\n",
              "    </tr>\n",
              "    <tr>\n",
              "      <th>13</th>\n",
              "      <td>2016-10-26 20:21:09</td>\n",
              "      <td>1001</td>\n",
              "      <td>direct</td>\n",
              "    </tr>\n",
              "    <tr>\n",
              "      <th>14</th>\n",
              "      <td>2016-11-25 22:52:29</td>\n",
              "      <td>1001</td>\n",
              "      <td>direct</td>\n",
              "    </tr>\n",
              "  </tbody>\n",
              "</table>\n",
              "</div>\n",
              "      <button class=\"colab-df-convert\" onclick=\"convertToInteractive('df-5d35c4d1-a43e-4d32-8a2d-152ba0ebd2b2')\"\n",
              "              title=\"Convert this dataframe to an interactive table.\"\n",
              "              style=\"display:none;\">\n",
              "        \n",
              "  <svg xmlns=\"http://www.w3.org/2000/svg\" height=\"24px\"viewBox=\"0 0 24 24\"\n",
              "       width=\"24px\">\n",
              "    <path d=\"M0 0h24v24H0V0z\" fill=\"none\"/>\n",
              "    <path d=\"M18.56 5.44l.94 2.06.94-2.06 2.06-.94-2.06-.94-.94-2.06-.94 2.06-2.06.94zm-11 1L8.5 8.5l.94-2.06 2.06-.94-2.06-.94L8.5 2.5l-.94 2.06-2.06.94zm10 10l.94 2.06.94-2.06 2.06-.94-2.06-.94-.94-2.06-.94 2.06-2.06.94z\"/><path d=\"M17.41 7.96l-1.37-1.37c-.4-.4-.92-.59-1.43-.59-.52 0-1.04.2-1.43.59L10.3 9.45l-7.72 7.72c-.78.78-.78 2.05 0 2.83L4 21.41c.39.39.9.59 1.41.59.51 0 1.02-.2 1.41-.59l7.78-7.78 2.81-2.81c.8-.78.8-2.07 0-2.86zM5.41 20L4 18.59l7.72-7.72 1.47 1.35L5.41 20z\"/>\n",
              "  </svg>\n",
              "      </button>\n",
              "      \n",
              "  <style>\n",
              "    .colab-df-container {\n",
              "      display:flex;\n",
              "      flex-wrap:wrap;\n",
              "      gap: 12px;\n",
              "    }\n",
              "\n",
              "    .colab-df-convert {\n",
              "      background-color: #E8F0FE;\n",
              "      border: none;\n",
              "      border-radius: 50%;\n",
              "      cursor: pointer;\n",
              "      display: none;\n",
              "      fill: #1967D2;\n",
              "      height: 32px;\n",
              "      padding: 0 0 0 0;\n",
              "      width: 32px;\n",
              "    }\n",
              "\n",
              "    .colab-df-convert:hover {\n",
              "      background-color: #E2EBFA;\n",
              "      box-shadow: 0px 1px 2px rgba(60, 64, 67, 0.3), 0px 1px 3px 1px rgba(60, 64, 67, 0.15);\n",
              "      fill: #174EA6;\n",
              "    }\n",
              "\n",
              "    [theme=dark] .colab-df-convert {\n",
              "      background-color: #3B4455;\n",
              "      fill: #D2E3FC;\n",
              "    }\n",
              "\n",
              "    [theme=dark] .colab-df-convert:hover {\n",
              "      background-color: #434B5C;\n",
              "      box-shadow: 0px 1px 3px 1px rgba(0, 0, 0, 0.15);\n",
              "      filter: drop-shadow(0px 1px 2px rgba(0, 0, 0, 0.3));\n",
              "      fill: #FFFFFF;\n",
              "    }\n",
              "  </style>\n",
              "\n",
              "      <script>\n",
              "        const buttonEl =\n",
              "          document.querySelector('#df-5d35c4d1-a43e-4d32-8a2d-152ba0ebd2b2 button.colab-df-convert');\n",
              "        buttonEl.style.display =\n",
              "          google.colab.kernel.accessAllowed ? 'block' : 'none';\n",
              "\n",
              "        async function convertToInteractive(key) {\n",
              "          const element = document.querySelector('#df-5d35c4d1-a43e-4d32-8a2d-152ba0ebd2b2');\n",
              "          const dataTable =\n",
              "            await google.colab.kernel.invokeFunction('convertToInteractive',\n",
              "                                                     [key], {});\n",
              "          if (!dataTable) return;\n",
              "\n",
              "          const docLinkHtml = 'Like what you see? Visit the ' +\n",
              "            '<a target=\"_blank\" href=https://colab.research.google.com/notebooks/data_table.ipynb>data table notebook</a>'\n",
              "            + ' to learn more about interactive tables.';\n",
              "          element.innerHTML = '';\n",
              "          dataTable['output_type'] = 'display_data';\n",
              "          await google.colab.output.renderOutput(dataTable, element);\n",
              "          const docLink = document.createElement('div');\n",
              "          docLink.innerHTML = docLinkHtml;\n",
              "          element.appendChild(docLink);\n",
              "        }\n",
              "      </script>\n",
              "    </div>\n",
              "  </div>\n",
              "  "
            ]
          },
          "metadata": {},
          "execution_count": 8
        }
      ]
    },
    {
      "cell_type": "markdown",
      "source": [
        "# **L_3:** ORDER BY & ORDER BY X DESC\n",
        "**ORDER BY:** Used to arrange the outputs ascendingly according to column X\n",
        "\n",
        "**ORDER BY X DESC:** Used to arrange the outputs descendingly according to column X\n",
        "\n"
      ],
      "metadata": {
        "id": "ekL5oaWzfAMi"
      }
    },
    {
      "cell_type": "code",
      "source": [
        "SQL_code = '''\n",
        "SELECT id, occurred_at, total_amt_usd\n",
        "FROM orders \n",
        "ORDER BY occurred_at\n",
        "LIMIT 10\n",
        "'''\n",
        "\n",
        "code_execution = db.execute(SQL_code)\n",
        "\n",
        "for row in code_execution:\n",
        "  print(row)"
      ],
      "metadata": {
        "colab": {
          "base_uri": "https://localhost:8080/"
        },
        "outputId": "b7d1bf53-e440-4c28-a74a-f332da800da0",
        "id": "WFKqcgFRfAMj"
      },
      "execution_count": 15,
      "outputs": [
        {
          "output_type": "stream",
          "name": "stdout",
          "text": [
            "(5786, '2013-12-04 04:22:44', 627.48)\n",
            "(2415, '2013-12-04 04:45:54', 2646.77)\n",
            "(4108, '2013-12-04 04:53:25', 2709.62)\n",
            "(4489, '2013-12-05 20:29:16', 277.13)\n",
            "(287, '2013-12-05 20:33:56', 3001.85)\n",
            "(1946, '2013-12-06 02:13:20', 2802.9)\n",
            "(6197, '2013-12-06 12:55:22', 7009.18)\n",
            "(3122, '2013-12-06 12:57:41', 1992.13)\n",
            "(6078, '2013-12-06 13:14:47', 6680.06)\n",
            "(2932, '2013-12-06 13:17:25', 2075.94)\n"
          ]
        }
      ]
    },
    {
      "cell_type": "code",
      "source": [
        "SQL_code = '''\n",
        "SELECT id, occurred_at, total_amt_usd\n",
        "FROM orders \n",
        "ORDER BY occurred_at DESC\n",
        "LIMIT 10\n",
        "'''\n",
        "\n",
        "code_execution = db.execute(SQL_code)\n",
        "\n",
        "for row in code_execution:\n",
        "  print(row)"
      ],
      "metadata": {
        "colab": {
          "base_uri": "https://localhost:8080/"
        },
        "id": "03kQ9ZAUgIQD",
        "outputId": "cc42a290-40be-4966-f91d-f0485dec461f"
      },
      "execution_count": 16,
      "outputs": [
        {
          "output_type": "stream",
          "name": "stdout",
          "text": [
            "(6451, '2017-01-02 00:02:40', 6451.76)\n",
            "(3546, '2017-01-01 23:50:16', 1932.85)\n",
            "(6454, '2017-01-01 22:29:50', 1854.57)\n",
            "(3554, '2017-01-01 22:17:26', 2666.79)\n",
            "(6556, '2017-01-01 21:04:25', 892.85)\n",
            "(3745, '2017-01-01 20:52:23', 2582.4)\n",
            "(1092, '2017-01-01 17:34:10', 1525.98)\n",
            "(1364, '2017-01-01 16:40:57', 1036.57)\n",
            "(3159, '2017-01-01 14:05:39', 1870.35)\n",
            "(6223, '2017-01-01 13:57:21', 4676.25)\n"
          ]
        }
      ]
    }
  ]
}