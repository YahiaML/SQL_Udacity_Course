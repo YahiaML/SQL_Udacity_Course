{
  "nbformat": 4,
  "nbformat_minor": 0,
  "metadata": {
    "colab": {
      "name": "Unit_1 Basic SQL.ipynb",
      "provenance": [],
      "collapsed_sections": [],
      "authorship_tag": "ABX9TyPk+K0D20kEkdeJ/lYQlXqv",
      "include_colab_link": true
    },
    "kernelspec": {
      "name": "python3",
      "display_name": "Python 3"
    },
    "language_info": {
      "name": "python"
    }
  },
  "cells": [
    {
      "cell_type": "markdown",
      "metadata": {
        "id": "view-in-github",
        "colab_type": "text"
      },
      "source": [
        "<a href=\"https://colab.research.google.com/github/YahiaML/SQL_Udacity_Course/blob/main/Unit_1_Basic_SQL.ipynb\" target=\"_parent\"><img src=\"https://colab.research.google.com/assets/colab-badge.svg\" alt=\"Open In Colab\"/></a>"
      ]
    },
    {
      "cell_type": "code",
      "source": [
        "import sqlite3\n",
        "import pandas as pd"
      ],
      "metadata": {
        "id": "N5R4p7i7ggyw"
      },
      "execution_count": 3,
      "outputs": []
    },
    {
      "cell_type": "code",
      "source": [
        "db = sqlite3.connect('/content/parch_and_posey.db')"
      ],
      "metadata": {
        "id": "xu4mBSeMYjSY"
      },
      "execution_count": 9,
      "outputs": []
    },
    {
      "cell_type": "markdown",
      "source": [
        "# **L_1:** SELECT FROM\n",
        "\n",
        "**SELECT:** choose the columns that you want\n",
        "\n",
        "**FROM:** choose the table that contains the columns that you want"
      ],
      "metadata": {
        "id": "VXpce29qbfhL"
      }
    },
    {
      "cell_type": "code",
      "source": [
        "SQL_code = '''\n",
        "\n",
        "SELECT * \n",
        "FROM accounts\n",
        "LIMIT 15;\n",
        "'''\n",
        "\n",
        "code_execution = db.execute(SQL_code)\n",
        "\n",
        "for row in code_execution:\n",
        "  print(row)"
      ],
      "metadata": {
        "colab": {
          "base_uri": "https://localhost:8080/"
        },
        "id": "SFu3QpfZbpmD",
        "outputId": "5bdcfb26-83fb-4447-b9f2-9ad1d39725d6"
      },
      "execution_count": 10,
      "outputs": [
        {
          "output_type": "stream",
          "name": "stdout",
          "text": [
            "(1001, 'Walmart', 'www.walmart.com', 40.23849561, -75.10329704, 'Tamara Tuma', 321500)\n",
            "(1011, 'Exxon Mobil', 'www.exxonmobil.com', 41.1691563, -73.84937379, 'Sung Shields', 321510)\n",
            "(1021, 'Apple', 'www.apple.com', 42.29049481, -76.08400942, 'Jodee Lupo', 321520)\n",
            "(1031, 'Berkshire Hathaway', 'www.berkshirehathaway.com', 40.94902131, -75.76389759, 'Serafina Banda', 321530)\n",
            "(1041, 'McKesson', 'www.mckesson.com', 42.21709326, -75.28499823, 'Angeles Crusoe', 321540)\n",
            "(1051, 'UnitedHealth Group', 'www.unitedhealthgroup.com', 40.08792542, -75.57569396, 'Savanna Gayman', 321550)\n",
            "(1061, 'CVS Health', 'www.cvshealth.com', 41.46779585, -73.76763638, 'Anabel Haskell', 321560)\n",
            "(1071, 'General Motors', 'www.gm.com', 40.80551762, -76.7101814, 'Barrie Omeara', 321570)\n",
            "(1081, 'Ford Motor', 'www.ford.com', 41.113942, -75.85422452, 'Kym Hagerman', 321580)\n",
            "(1091, 'AT&ampT', 'www.att.com', 42.4974627, -74.90271225, 'Jamel Mosqueda', 321590)\n",
            "(1101, 'General Electric', 'www.ge.com', 41.1697121, -77.29713174, 'Parker Hoggan', 321600)\n",
            "(1111, 'AmerisourceBergen', 'www.amerisourcebergen.com', 41.91146908, -74.4762077, 'Tuan Trainer', 321610)\n",
            "(1121, 'Verizon', 'www.verizon.com', 41.3414106, -75.77193559, 'Chantell Drescher', 321620)\n",
            "(1131, 'Chevron', 'www.chevron.com', 42.6119413, -76.36123105, 'Paige Bartos', 321630)\n",
            "(1141, 'Costco', 'www.costco.com', 42.26304566, -74.80916921, 'Dominique Favela', 321640)\n"
          ]
        }
      ]
    },
    {
      "cell_type": "markdown",
      "source": [
        "# **L_2:** LIMIT\n",
        "Only show the first x rows"
      ],
      "metadata": {
        "id": "uoQbxu-gcWvP"
      }
    },
    {
      "cell_type": "code",
      "source": [
        "sql_code = db.execute('''\n",
        "SELECT occurred_at, account_id, channel\n",
        "FROM web_events\n",
        "LIMIT 15;\n",
        "''')\n",
        "\n",
        "# print output as a table (data frame)\n",
        "data = []\n",
        "for row in sql_code:\n",
        "  data.append(list(row))\n",
        "df= pd.DataFrame(data,columns=[\"occurred_at\",\"account_id\", \"channel\"])  # inset columns names that you want\n",
        "df"
      ],
      "metadata": {
        "colab": {
          "base_uri": "https://localhost:8080/",
          "height": 520
        },
        "id": "sD0BG6KxYqUQ",
        "outputId": "f96b5866-7e2a-4525-d889-44c74562c37e"
      },
      "execution_count": 11,
      "outputs": [
        {
          "output_type": "execute_result",
          "data": {
            "text/plain": [
              "            occurred_at  account_id channel\n",
              "0   2015-10-06 17:13:58        1001  direct\n",
              "1   2015-11-05 03:08:26        1001  direct\n",
              "2   2015-12-04 03:57:24        1001  direct\n",
              "3   2016-01-02 00:55:03        1001  direct\n",
              "4   2016-02-01 19:02:33        1001  direct\n",
              "5   2016-03-02 15:15:22        1001  direct\n",
              "6   2016-04-01 10:58:55        1001  direct\n",
              "7   2016-05-01 15:26:44        1001  direct\n",
              "8   2016-05-31 20:53:47        1001  direct\n",
              "9   2016-06-30 12:09:45        1001  direct\n",
              "10  2016-07-30 03:06:26        1001  direct\n",
              "11  2016-08-28 06:42:42        1001  direct\n",
              "12  2016-09-26 23:14:59        1001  direct\n",
              "13  2016-10-26 20:21:09        1001  direct\n",
              "14  2016-11-25 22:52:29        1001  direct"
            ],
            "text/html": [
              "\n",
              "  <div id=\"df-fa4e925a-d483-452c-8697-574e2b450f83\">\n",
              "    <div class=\"colab-df-container\">\n",
              "      <div>\n",
              "<style scoped>\n",
              "    .dataframe tbody tr th:only-of-type {\n",
              "        vertical-align: middle;\n",
              "    }\n",
              "\n",
              "    .dataframe tbody tr th {\n",
              "        vertical-align: top;\n",
              "    }\n",
              "\n",
              "    .dataframe thead th {\n",
              "        text-align: right;\n",
              "    }\n",
              "</style>\n",
              "<table border=\"1\" class=\"dataframe\">\n",
              "  <thead>\n",
              "    <tr style=\"text-align: right;\">\n",
              "      <th></th>\n",
              "      <th>occurred_at</th>\n",
              "      <th>account_id</th>\n",
              "      <th>channel</th>\n",
              "    </tr>\n",
              "  </thead>\n",
              "  <tbody>\n",
              "    <tr>\n",
              "      <th>0</th>\n",
              "      <td>2015-10-06 17:13:58</td>\n",
              "      <td>1001</td>\n",
              "      <td>direct</td>\n",
              "    </tr>\n",
              "    <tr>\n",
              "      <th>1</th>\n",
              "      <td>2015-11-05 03:08:26</td>\n",
              "      <td>1001</td>\n",
              "      <td>direct</td>\n",
              "    </tr>\n",
              "    <tr>\n",
              "      <th>2</th>\n",
              "      <td>2015-12-04 03:57:24</td>\n",
              "      <td>1001</td>\n",
              "      <td>direct</td>\n",
              "    </tr>\n",
              "    <tr>\n",
              "      <th>3</th>\n",
              "      <td>2016-01-02 00:55:03</td>\n",
              "      <td>1001</td>\n",
              "      <td>direct</td>\n",
              "    </tr>\n",
              "    <tr>\n",
              "      <th>4</th>\n",
              "      <td>2016-02-01 19:02:33</td>\n",
              "      <td>1001</td>\n",
              "      <td>direct</td>\n",
              "    </tr>\n",
              "    <tr>\n",
              "      <th>5</th>\n",
              "      <td>2016-03-02 15:15:22</td>\n",
              "      <td>1001</td>\n",
              "      <td>direct</td>\n",
              "    </tr>\n",
              "    <tr>\n",
              "      <th>6</th>\n",
              "      <td>2016-04-01 10:58:55</td>\n",
              "      <td>1001</td>\n",
              "      <td>direct</td>\n",
              "    </tr>\n",
              "    <tr>\n",
              "      <th>7</th>\n",
              "      <td>2016-05-01 15:26:44</td>\n",
              "      <td>1001</td>\n",
              "      <td>direct</td>\n",
              "    </tr>\n",
              "    <tr>\n",
              "      <th>8</th>\n",
              "      <td>2016-05-31 20:53:47</td>\n",
              "      <td>1001</td>\n",
              "      <td>direct</td>\n",
              "    </tr>\n",
              "    <tr>\n",
              "      <th>9</th>\n",
              "      <td>2016-06-30 12:09:45</td>\n",
              "      <td>1001</td>\n",
              "      <td>direct</td>\n",
              "    </tr>\n",
              "    <tr>\n",
              "      <th>10</th>\n",
              "      <td>2016-07-30 03:06:26</td>\n",
              "      <td>1001</td>\n",
              "      <td>direct</td>\n",
              "    </tr>\n",
              "    <tr>\n",
              "      <th>11</th>\n",
              "      <td>2016-08-28 06:42:42</td>\n",
              "      <td>1001</td>\n",
              "      <td>direct</td>\n",
              "    </tr>\n",
              "    <tr>\n",
              "      <th>12</th>\n",
              "      <td>2016-09-26 23:14:59</td>\n",
              "      <td>1001</td>\n",
              "      <td>direct</td>\n",
              "    </tr>\n",
              "    <tr>\n",
              "      <th>13</th>\n",
              "      <td>2016-10-26 20:21:09</td>\n",
              "      <td>1001</td>\n",
              "      <td>direct</td>\n",
              "    </tr>\n",
              "    <tr>\n",
              "      <th>14</th>\n",
              "      <td>2016-11-25 22:52:29</td>\n",
              "      <td>1001</td>\n",
              "      <td>direct</td>\n",
              "    </tr>\n",
              "  </tbody>\n",
              "</table>\n",
              "</div>\n",
              "      <button class=\"colab-df-convert\" onclick=\"convertToInteractive('df-fa4e925a-d483-452c-8697-574e2b450f83')\"\n",
              "              title=\"Convert this dataframe to an interactive table.\"\n",
              "              style=\"display:none;\">\n",
              "        \n",
              "  <svg xmlns=\"http://www.w3.org/2000/svg\" height=\"24px\"viewBox=\"0 0 24 24\"\n",
              "       width=\"24px\">\n",
              "    <path d=\"M0 0h24v24H0V0z\" fill=\"none\"/>\n",
              "    <path d=\"M18.56 5.44l.94 2.06.94-2.06 2.06-.94-2.06-.94-.94-2.06-.94 2.06-2.06.94zm-11 1L8.5 8.5l.94-2.06 2.06-.94-2.06-.94L8.5 2.5l-.94 2.06-2.06.94zm10 10l.94 2.06.94-2.06 2.06-.94-2.06-.94-.94-2.06-.94 2.06-2.06.94z\"/><path d=\"M17.41 7.96l-1.37-1.37c-.4-.4-.92-.59-1.43-.59-.52 0-1.04.2-1.43.59L10.3 9.45l-7.72 7.72c-.78.78-.78 2.05 0 2.83L4 21.41c.39.39.9.59 1.41.59.51 0 1.02-.2 1.41-.59l7.78-7.78 2.81-2.81c.8-.78.8-2.07 0-2.86zM5.41 20L4 18.59l7.72-7.72 1.47 1.35L5.41 20z\"/>\n",
              "  </svg>\n",
              "      </button>\n",
              "      \n",
              "  <style>\n",
              "    .colab-df-container {\n",
              "      display:flex;\n",
              "      flex-wrap:wrap;\n",
              "      gap: 12px;\n",
              "    }\n",
              "\n",
              "    .colab-df-convert {\n",
              "      background-color: #E8F0FE;\n",
              "      border: none;\n",
              "      border-radius: 50%;\n",
              "      cursor: pointer;\n",
              "      display: none;\n",
              "      fill: #1967D2;\n",
              "      height: 32px;\n",
              "      padding: 0 0 0 0;\n",
              "      width: 32px;\n",
              "    }\n",
              "\n",
              "    .colab-df-convert:hover {\n",
              "      background-color: #E2EBFA;\n",
              "      box-shadow: 0px 1px 2px rgba(60, 64, 67, 0.3), 0px 1px 3px 1px rgba(60, 64, 67, 0.15);\n",
              "      fill: #174EA6;\n",
              "    }\n",
              "\n",
              "    [theme=dark] .colab-df-convert {\n",
              "      background-color: #3B4455;\n",
              "      fill: #D2E3FC;\n",
              "    }\n",
              "\n",
              "    [theme=dark] .colab-df-convert:hover {\n",
              "      background-color: #434B5C;\n",
              "      box-shadow: 0px 1px 3px 1px rgba(0, 0, 0, 0.15);\n",
              "      filter: drop-shadow(0px 1px 2px rgba(0, 0, 0, 0.3));\n",
              "      fill: #FFFFFF;\n",
              "    }\n",
              "  </style>\n",
              "\n",
              "      <script>\n",
              "        const buttonEl =\n",
              "          document.querySelector('#df-fa4e925a-d483-452c-8697-574e2b450f83 button.colab-df-convert');\n",
              "        buttonEl.style.display =\n",
              "          google.colab.kernel.accessAllowed ? 'block' : 'none';\n",
              "\n",
              "        async function convertToInteractive(key) {\n",
              "          const element = document.querySelector('#df-fa4e925a-d483-452c-8697-574e2b450f83');\n",
              "          const dataTable =\n",
              "            await google.colab.kernel.invokeFunction('convertToInteractive',\n",
              "                                                     [key], {});\n",
              "          if (!dataTable) return;\n",
              "\n",
              "          const docLinkHtml = 'Like what you see? Visit the ' +\n",
              "            '<a target=\"_blank\" href=https://colab.research.google.com/notebooks/data_table.ipynb>data table notebook</a>'\n",
              "            + ' to learn more about interactive tables.';\n",
              "          element.innerHTML = '';\n",
              "          dataTable['output_type'] = 'display_data';\n",
              "          await google.colab.output.renderOutput(dataTable, element);\n",
              "          const docLink = document.createElement('div');\n",
              "          docLink.innerHTML = docLinkHtml;\n",
              "          element.appendChild(docLink);\n",
              "        }\n",
              "      </script>\n",
              "    </div>\n",
              "  </div>\n",
              "  "
            ]
          },
          "metadata": {},
          "execution_count": 11
        }
      ]
    },
    {
      "cell_type": "markdown",
      "source": [
        "# **L_3:** ORDER BY & ORDER BY column_X DESC\n",
        "**ORDER BY:** Used to arrange outputs ascendingly according to column X\n",
        "\n",
        "**ORDER BY column_X DESC:** Used to arrange outputs descendingly according to column X\n",
        "\n"
      ],
      "metadata": {
        "id": "ekL5oaWzfAMi"
      }
    },
    {
      "cell_type": "code",
      "source": [
        "SQL_code = '''\n",
        "SELECT id, occurred_at, total_amt_usd\n",
        "FROM orders \n",
        "ORDER BY occurred_at\n",
        "LIMIT 10\n",
        "'''\n",
        "\n",
        "code_execution = db.execute(SQL_code)\n",
        "\n",
        "for row in code_execution:\n",
        "  print(row)"
      ],
      "metadata": {
        "colab": {
          "base_uri": "https://localhost:8080/"
        },
        "outputId": "c07cea78-3a0f-4553-bf81-15754ed727c1",
        "id": "WFKqcgFRfAMj"
      },
      "execution_count": 12,
      "outputs": [
        {
          "output_type": "stream",
          "name": "stdout",
          "text": [
            "(5786, '2013-12-04 04:22:44', 627.48)\n",
            "(2415, '2013-12-04 04:45:54', 2646.77)\n",
            "(4108, '2013-12-04 04:53:25', 2709.62)\n",
            "(4489, '2013-12-05 20:29:16', 277.13)\n",
            "(287, '2013-12-05 20:33:56', 3001.85)\n",
            "(1946, '2013-12-06 02:13:20', 2802.9)\n",
            "(6197, '2013-12-06 12:55:22', 7009.18)\n",
            "(3122, '2013-12-06 12:57:41', 1992.13)\n",
            "(6078, '2013-12-06 13:14:47', 6680.06)\n",
            "(2932, '2013-12-06 13:17:25', 2075.94)\n"
          ]
        }
      ]
    },
    {
      "cell_type": "code",
      "source": [
        "SQL_code = '''\n",
        "SELECT id, occurred_at, total_amt_usd\n",
        "FROM orders \n",
        "ORDER BY total_amt_usd DESC\n",
        "LIMIT 5\n",
        "'''\n",
        "\n",
        "code_execution = db.execute(SQL_code)\n",
        "\n",
        "for row in code_execution:\n",
        "  print(row)"
      ],
      "metadata": {
        "colab": {
          "base_uri": "https://localhost:8080/"
        },
        "id": "03kQ9ZAUgIQD",
        "outputId": "ff2f1085-94c9-4c1c-9f6f-538f4717ad0a"
      },
      "execution_count": 17,
      "outputs": [
        {
          "output_type": "stream",
          "name": "stdout",
          "text": [
            "(4016, '2016-12-26 08:53:24', 232207.07)\n",
            "(3892, '2016-06-24 13:32:55', 112875.18)\n",
            "(3963, '2015-03-30 00:05:30', 107533.55)\n",
            "(5791, '2014-10-24 12:06:22', 95005.82)\n",
            "(3778, '2016-07-17 14:50:43', 93547.84)\n"
          ]
        }
      ]
    },
    {
      "cell_type": "code",
      "source": [
        "# we can order by more than 1 column with respect to there order in the ORDER BY query\n",
        "SQL_code = '''\n",
        "SELECT id, account_id, total_amt_usd\n",
        "FROM orders \n",
        "ORDER BY account_id, total_amt_usd DESC\n",
        "LIMIT 5\n",
        "'''\n",
        "\n",
        "code_execution = db.execute(SQL_code)\n",
        "\n",
        "for row in code_execution:\n",
        "  print(row)"
      ],
      "metadata": {
        "colab": {
          "base_uri": "https://localhost:8080/"
        },
        "outputId": "afd6f39c-a63b-40b6-c649-c88435f44df4",
        "id": "Zn0mhRfumswU"
      },
      "execution_count": 15,
      "outputs": [
        {
          "output_type": "stream",
          "name": "stdout",
          "text": [
            "(4308, 1001, 9426.71)\n",
            "(4309, 1001, 9230.67)\n",
            "(4316, 1001, 9134.31)\n",
            "(4317, 1001, 8963.91)\n",
            "(4314, 1001, 8863.24)\n"
          ]
        }
      ]
    },
    {
      "cell_type": "markdown",
      "source": [
        "# **L_4:** WHERE\n",
        "Used to extract only those rows that fulfill a specified condition\n",
        "\n",
        ".> (greater than), < (less than), >= (greater than or equal to), <= (less than or equal to), = (equal to), != (not equal to)"
      ],
      "metadata": {
        "id": "MLSsfvrpn5Dp"
      }
    },
    {
      "cell_type": "code",
      "source": [
        "SQL_code = '''\n",
        "SELECT *\n",
        "FROM orders \n",
        "WHERE gloss_amt_usd >= 1000\n",
        "LIMIT 5\n",
        "'''\n",
        "\n",
        "code_execution = db.execute(SQL_code)\n",
        "\n",
        "for row in code_execution:\n",
        "  print(row)"
      ],
      "metadata": {
        "colab": {
          "base_uri": "https://localhost:8080/"
        },
        "outputId": "7d0dd058-677c-4fde-cffe-5c08e3920a82",
        "id": "l393Qhv7n5Dz"
      },
      "execution_count": 19,
      "outputs": [
        {
          "output_type": "stream",
          "name": "stdout",
          "text": [
            "(14, 1001, '2016-10-26 20:31:30', 97, 143, 54, 294, 484.03, 1071.07, 438.48, 1993.58)\n",
            "(62, 1091, '2014-10-13 12:12:55', 146, 196, 3, 345, 728.54, 1468.04, 24.36, 2220.94)\n",
            "(88, 1101, '2015-06-24 13:08:15', 182, 339, 17, 538, 908.18, 2539.11, 138.04, 3585.33)\n",
            "(121, 1131, '2016-08-10 23:47:41', 273, 134, 0, 407, 1362.27, 1003.66, 0, 2365.93)\n",
            "(129, 1141, '2016-12-21 15:52:58', 143, 1045, 2157, 3345, 713.57, 7827.05, 17514.84, 26055.46)\n"
          ]
        }
      ]
    },
    {
      "cell_type": "code",
      "source": [
        "SQL_code = '''\n",
        "SELECT name, website, primary_poc\n",
        "FROM accounts \n",
        "WHERE name = 'Exxon Mobil'\n",
        "'''\n",
        "# strings must be placed in single quotes ( ' ) NOT double quotes ( \" )\n",
        "\n",
        "code_execution = db.execute(SQL_code)\n",
        "\n",
        "for row in code_execution:\n",
        "  print(row)"
      ],
      "metadata": {
        "colab": {
          "base_uri": "https://localhost:8080/"
        },
        "id": "DrbcJA5vqLmB",
        "outputId": "1f40d575-6bb6-4f3c-a6fe-816392448112"
      },
      "execution_count": 20,
      "outputs": [
        {
          "output_type": "stream",
          "name": "stdout",
          "text": [
            "('Exxon Mobil', 'www.exxonmobil.com', 'Sung Shields')\n"
          ]
        }
      ]
    },
    {
      "cell_type": "markdown",
      "source": [
        "# **L_5:** Arithmetic Operations (+, -, *, / )\n",
        "Creat a new column that is a combination of existing columns"
      ],
      "metadata": {
        "id": "wugAHuDqpoGu"
      }
    },
    {
      "cell_type": "code",
      "source": [
        "SQL_code = '''\n",
        "SELECT id, account_id, standard_amt_usd,standard_qty, standard_amt_usd/standard_qty AS unit_price\n",
        "FROM orders \n",
        "LIMIT 10\n",
        "'''\n",
        "\n",
        "code_execution = db.execute(SQL_code)\n",
        "\n",
        "data = []\n",
        "for row in code_execution:\n",
        "  data.append(list(row))\n",
        "df= pd.DataFrame(data,columns=[\"id\",\"account_id\", \"standard_amt_usd\", \"standard_qty\", \"unit_price\" ])  # inset columns names that you want\n",
        "df"
      ],
      "metadata": {
        "colab": {
          "base_uri": "https://localhost:8080/",
          "height": 363
        },
        "outputId": "7e5e09cd-74ca-4ae5-c098-55caf7af890c",
        "id": "OULNeOUDpoG3"
      },
      "execution_count": 22,
      "outputs": [
        {
          "output_type": "execute_result",
          "data": {
            "text/plain": [
              "   id  account_id  standard_amt_usd  standard_qty  unit_price\n",
              "0   1        1001            613.77           123        4.99\n",
              "1   2        1001            948.10           190        4.99\n",
              "2   3        1001            424.15            85        4.99\n",
              "3   4        1001            718.56           144        4.99\n",
              "4   5        1001            538.92           108        4.99\n",
              "5   6        1001            513.97           103        4.99\n",
              "6   7        1001            503.99           101        4.99\n",
              "7   8        1001            474.05            95        4.99\n",
              "8   9        1001            454.09            91        4.99\n",
              "9  10        1001            469.06            94        4.99"
            ],
            "text/html": [
              "\n",
              "  <div id=\"df-b32aac08-2198-4b95-b9ec-e5674285170d\">\n",
              "    <div class=\"colab-df-container\">\n",
              "      <div>\n",
              "<style scoped>\n",
              "    .dataframe tbody tr th:only-of-type {\n",
              "        vertical-align: middle;\n",
              "    }\n",
              "\n",
              "    .dataframe tbody tr th {\n",
              "        vertical-align: top;\n",
              "    }\n",
              "\n",
              "    .dataframe thead th {\n",
              "        text-align: right;\n",
              "    }\n",
              "</style>\n",
              "<table border=\"1\" class=\"dataframe\">\n",
              "  <thead>\n",
              "    <tr style=\"text-align: right;\">\n",
              "      <th></th>\n",
              "      <th>id</th>\n",
              "      <th>account_id</th>\n",
              "      <th>standard_amt_usd</th>\n",
              "      <th>standard_qty</th>\n",
              "      <th>unit_price</th>\n",
              "    </tr>\n",
              "  </thead>\n",
              "  <tbody>\n",
              "    <tr>\n",
              "      <th>0</th>\n",
              "      <td>1</td>\n",
              "      <td>1001</td>\n",
              "      <td>613.77</td>\n",
              "      <td>123</td>\n",
              "      <td>4.99</td>\n",
              "    </tr>\n",
              "    <tr>\n",
              "      <th>1</th>\n",
              "      <td>2</td>\n",
              "      <td>1001</td>\n",
              "      <td>948.10</td>\n",
              "      <td>190</td>\n",
              "      <td>4.99</td>\n",
              "    </tr>\n",
              "    <tr>\n",
              "      <th>2</th>\n",
              "      <td>3</td>\n",
              "      <td>1001</td>\n",
              "      <td>424.15</td>\n",
              "      <td>85</td>\n",
              "      <td>4.99</td>\n",
              "    </tr>\n",
              "    <tr>\n",
              "      <th>3</th>\n",
              "      <td>4</td>\n",
              "      <td>1001</td>\n",
              "      <td>718.56</td>\n",
              "      <td>144</td>\n",
              "      <td>4.99</td>\n",
              "    </tr>\n",
              "    <tr>\n",
              "      <th>4</th>\n",
              "      <td>5</td>\n",
              "      <td>1001</td>\n",
              "      <td>538.92</td>\n",
              "      <td>108</td>\n",
              "      <td>4.99</td>\n",
              "    </tr>\n",
              "    <tr>\n",
              "      <th>5</th>\n",
              "      <td>6</td>\n",
              "      <td>1001</td>\n",
              "      <td>513.97</td>\n",
              "      <td>103</td>\n",
              "      <td>4.99</td>\n",
              "    </tr>\n",
              "    <tr>\n",
              "      <th>6</th>\n",
              "      <td>7</td>\n",
              "      <td>1001</td>\n",
              "      <td>503.99</td>\n",
              "      <td>101</td>\n",
              "      <td>4.99</td>\n",
              "    </tr>\n",
              "    <tr>\n",
              "      <th>7</th>\n",
              "      <td>8</td>\n",
              "      <td>1001</td>\n",
              "      <td>474.05</td>\n",
              "      <td>95</td>\n",
              "      <td>4.99</td>\n",
              "    </tr>\n",
              "    <tr>\n",
              "      <th>8</th>\n",
              "      <td>9</td>\n",
              "      <td>1001</td>\n",
              "      <td>454.09</td>\n",
              "      <td>91</td>\n",
              "      <td>4.99</td>\n",
              "    </tr>\n",
              "    <tr>\n",
              "      <th>9</th>\n",
              "      <td>10</td>\n",
              "      <td>1001</td>\n",
              "      <td>469.06</td>\n",
              "      <td>94</td>\n",
              "      <td>4.99</td>\n",
              "    </tr>\n",
              "  </tbody>\n",
              "</table>\n",
              "</div>\n",
              "      <button class=\"colab-df-convert\" onclick=\"convertToInteractive('df-b32aac08-2198-4b95-b9ec-e5674285170d')\"\n",
              "              title=\"Convert this dataframe to an interactive table.\"\n",
              "              style=\"display:none;\">\n",
              "        \n",
              "  <svg xmlns=\"http://www.w3.org/2000/svg\" height=\"24px\"viewBox=\"0 0 24 24\"\n",
              "       width=\"24px\">\n",
              "    <path d=\"M0 0h24v24H0V0z\" fill=\"none\"/>\n",
              "    <path d=\"M18.56 5.44l.94 2.06.94-2.06 2.06-.94-2.06-.94-.94-2.06-.94 2.06-2.06.94zm-11 1L8.5 8.5l.94-2.06 2.06-.94-2.06-.94L8.5 2.5l-.94 2.06-2.06.94zm10 10l.94 2.06.94-2.06 2.06-.94-2.06-.94-.94-2.06-.94 2.06-2.06.94z\"/><path d=\"M17.41 7.96l-1.37-1.37c-.4-.4-.92-.59-1.43-.59-.52 0-1.04.2-1.43.59L10.3 9.45l-7.72 7.72c-.78.78-.78 2.05 0 2.83L4 21.41c.39.39.9.59 1.41.59.51 0 1.02-.2 1.41-.59l7.78-7.78 2.81-2.81c.8-.78.8-2.07 0-2.86zM5.41 20L4 18.59l7.72-7.72 1.47 1.35L5.41 20z\"/>\n",
              "  </svg>\n",
              "      </button>\n",
              "      \n",
              "  <style>\n",
              "    .colab-df-container {\n",
              "      display:flex;\n",
              "      flex-wrap:wrap;\n",
              "      gap: 12px;\n",
              "    }\n",
              "\n",
              "    .colab-df-convert {\n",
              "      background-color: #E8F0FE;\n",
              "      border: none;\n",
              "      border-radius: 50%;\n",
              "      cursor: pointer;\n",
              "      display: none;\n",
              "      fill: #1967D2;\n",
              "      height: 32px;\n",
              "      padding: 0 0 0 0;\n",
              "      width: 32px;\n",
              "    }\n",
              "\n",
              "    .colab-df-convert:hover {\n",
              "      background-color: #E2EBFA;\n",
              "      box-shadow: 0px 1px 2px rgba(60, 64, 67, 0.3), 0px 1px 3px 1px rgba(60, 64, 67, 0.15);\n",
              "      fill: #174EA6;\n",
              "    }\n",
              "\n",
              "    [theme=dark] .colab-df-convert {\n",
              "      background-color: #3B4455;\n",
              "      fill: #D2E3FC;\n",
              "    }\n",
              "\n",
              "    [theme=dark] .colab-df-convert:hover {\n",
              "      background-color: #434B5C;\n",
              "      box-shadow: 0px 1px 3px 1px rgba(0, 0, 0, 0.15);\n",
              "      filter: drop-shadow(0px 1px 2px rgba(0, 0, 0, 0.3));\n",
              "      fill: #FFFFFF;\n",
              "    }\n",
              "  </style>\n",
              "\n",
              "      <script>\n",
              "        const buttonEl =\n",
              "          document.querySelector('#df-b32aac08-2198-4b95-b9ec-e5674285170d button.colab-df-convert');\n",
              "        buttonEl.style.display =\n",
              "          google.colab.kernel.accessAllowed ? 'block' : 'none';\n",
              "\n",
              "        async function convertToInteractive(key) {\n",
              "          const element = document.querySelector('#df-b32aac08-2198-4b95-b9ec-e5674285170d');\n",
              "          const dataTable =\n",
              "            await google.colab.kernel.invokeFunction('convertToInteractive',\n",
              "                                                     [key], {});\n",
              "          if (!dataTable) return;\n",
              "\n",
              "          const docLinkHtml = 'Like what you see? Visit the ' +\n",
              "            '<a target=\"_blank\" href=https://colab.research.google.com/notebooks/data_table.ipynb>data table notebook</a>'\n",
              "            + ' to learn more about interactive tables.';\n",
              "          element.innerHTML = '';\n",
              "          dataTable['output_type'] = 'display_data';\n",
              "          await google.colab.output.renderOutput(dataTable, element);\n",
              "          const docLink = document.createElement('div');\n",
              "          docLink.innerHTML = docLinkHtml;\n",
              "          element.appendChild(docLink);\n",
              "        }\n",
              "      </script>\n",
              "    </div>\n",
              "  </div>\n",
              "  "
            ]
          },
          "metadata": {},
          "execution_count": 22
        }
      ]
    },
    {
      "cell_type": "code",
      "source": [
        "SQL_code = '''\n",
        "SELECT id, account_id, poster_amt_usd/(standard_amt_usd + gloss_amt_usd + poster_amt_usd) AS post_per\n",
        "FROM orders\n",
        "LIMIT 10;\n",
        "'''\n",
        "\n",
        "code_execution = db.execute(SQL_code)\n",
        "\n",
        "data = []\n",
        "for row in code_execution:\n",
        "  data.append(list(row))\n",
        "df= pd.DataFrame(data,columns=[\"id\",\"account_id\", \"post_per\"])  # inset columns names that you want\n",
        "df"
      ],
      "metadata": {
        "colab": {
          "base_uri": "https://localhost:8080/",
          "height": 363
        },
        "outputId": "928f4dfe-ca86-40ca-d11d-81df94055a78",
        "id": "vJw5W7kRs7hY"
      },
      "execution_count": 23,
      "outputs": [
        {
          "output_type": "execute_result",
          "data": {
            "text/plain": [
              "   id  account_id  post_per\n",
              "0   1        1001  0.200199\n",
              "1   2        1001  0.269402\n",
              "2   3        1001  0.000000\n",
              "3   4        1001  0.000000\n",
              "4   5        1001  0.231177\n",
              "5   6        1001  0.349984\n",
              "6   7        1001  0.498625\n",
              "7   8        1001  0.597466\n",
              "8   9        1001  0.237373\n",
              "9  10        1001  0.073939"
            ],
            "text/html": [
              "\n",
              "  <div id=\"df-20ad7458-a3bd-4704-ae4d-8e18702b5b7e\">\n",
              "    <div class=\"colab-df-container\">\n",
              "      <div>\n",
              "<style scoped>\n",
              "    .dataframe tbody tr th:only-of-type {\n",
              "        vertical-align: middle;\n",
              "    }\n",
              "\n",
              "    .dataframe tbody tr th {\n",
              "        vertical-align: top;\n",
              "    }\n",
              "\n",
              "    .dataframe thead th {\n",
              "        text-align: right;\n",
              "    }\n",
              "</style>\n",
              "<table border=\"1\" class=\"dataframe\">\n",
              "  <thead>\n",
              "    <tr style=\"text-align: right;\">\n",
              "      <th></th>\n",
              "      <th>id</th>\n",
              "      <th>account_id</th>\n",
              "      <th>post_per</th>\n",
              "    </tr>\n",
              "  </thead>\n",
              "  <tbody>\n",
              "    <tr>\n",
              "      <th>0</th>\n",
              "      <td>1</td>\n",
              "      <td>1001</td>\n",
              "      <td>0.200199</td>\n",
              "    </tr>\n",
              "    <tr>\n",
              "      <th>1</th>\n",
              "      <td>2</td>\n",
              "      <td>1001</td>\n",
              "      <td>0.269402</td>\n",
              "    </tr>\n",
              "    <tr>\n",
              "      <th>2</th>\n",
              "      <td>3</td>\n",
              "      <td>1001</td>\n",
              "      <td>0.000000</td>\n",
              "    </tr>\n",
              "    <tr>\n",
              "      <th>3</th>\n",
              "      <td>4</td>\n",
              "      <td>1001</td>\n",
              "      <td>0.000000</td>\n",
              "    </tr>\n",
              "    <tr>\n",
              "      <th>4</th>\n",
              "      <td>5</td>\n",
              "      <td>1001</td>\n",
              "      <td>0.231177</td>\n",
              "    </tr>\n",
              "    <tr>\n",
              "      <th>5</th>\n",
              "      <td>6</td>\n",
              "      <td>1001</td>\n",
              "      <td>0.349984</td>\n",
              "    </tr>\n",
              "    <tr>\n",
              "      <th>6</th>\n",
              "      <td>7</td>\n",
              "      <td>1001</td>\n",
              "      <td>0.498625</td>\n",
              "    </tr>\n",
              "    <tr>\n",
              "      <th>7</th>\n",
              "      <td>8</td>\n",
              "      <td>1001</td>\n",
              "      <td>0.597466</td>\n",
              "    </tr>\n",
              "    <tr>\n",
              "      <th>8</th>\n",
              "      <td>9</td>\n",
              "      <td>1001</td>\n",
              "      <td>0.237373</td>\n",
              "    </tr>\n",
              "    <tr>\n",
              "      <th>9</th>\n",
              "      <td>10</td>\n",
              "      <td>1001</td>\n",
              "      <td>0.073939</td>\n",
              "    </tr>\n",
              "  </tbody>\n",
              "</table>\n",
              "</div>\n",
              "      <button class=\"colab-df-convert\" onclick=\"convertToInteractive('df-20ad7458-a3bd-4704-ae4d-8e18702b5b7e')\"\n",
              "              title=\"Convert this dataframe to an interactive table.\"\n",
              "              style=\"display:none;\">\n",
              "        \n",
              "  <svg xmlns=\"http://www.w3.org/2000/svg\" height=\"24px\"viewBox=\"0 0 24 24\"\n",
              "       width=\"24px\">\n",
              "    <path d=\"M0 0h24v24H0V0z\" fill=\"none\"/>\n",
              "    <path d=\"M18.56 5.44l.94 2.06.94-2.06 2.06-.94-2.06-.94-.94-2.06-.94 2.06-2.06.94zm-11 1L8.5 8.5l.94-2.06 2.06-.94-2.06-.94L8.5 2.5l-.94 2.06-2.06.94zm10 10l.94 2.06.94-2.06 2.06-.94-2.06-.94-.94-2.06-.94 2.06-2.06.94z\"/><path d=\"M17.41 7.96l-1.37-1.37c-.4-.4-.92-.59-1.43-.59-.52 0-1.04.2-1.43.59L10.3 9.45l-7.72 7.72c-.78.78-.78 2.05 0 2.83L4 21.41c.39.39.9.59 1.41.59.51 0 1.02-.2 1.41-.59l7.78-7.78 2.81-2.81c.8-.78.8-2.07 0-2.86zM5.41 20L4 18.59l7.72-7.72 1.47 1.35L5.41 20z\"/>\n",
              "  </svg>\n",
              "      </button>\n",
              "      \n",
              "  <style>\n",
              "    .colab-df-container {\n",
              "      display:flex;\n",
              "      flex-wrap:wrap;\n",
              "      gap: 12px;\n",
              "    }\n",
              "\n",
              "    .colab-df-convert {\n",
              "      background-color: #E8F0FE;\n",
              "      border: none;\n",
              "      border-radius: 50%;\n",
              "      cursor: pointer;\n",
              "      display: none;\n",
              "      fill: #1967D2;\n",
              "      height: 32px;\n",
              "      padding: 0 0 0 0;\n",
              "      width: 32px;\n",
              "    }\n",
              "\n",
              "    .colab-df-convert:hover {\n",
              "      background-color: #E2EBFA;\n",
              "      box-shadow: 0px 1px 2px rgba(60, 64, 67, 0.3), 0px 1px 3px 1px rgba(60, 64, 67, 0.15);\n",
              "      fill: #174EA6;\n",
              "    }\n",
              "\n",
              "    [theme=dark] .colab-df-convert {\n",
              "      background-color: #3B4455;\n",
              "      fill: #D2E3FC;\n",
              "    }\n",
              "\n",
              "    [theme=dark] .colab-df-convert:hover {\n",
              "      background-color: #434B5C;\n",
              "      box-shadow: 0px 1px 3px 1px rgba(0, 0, 0, 0.15);\n",
              "      filter: drop-shadow(0px 1px 2px rgba(0, 0, 0, 0.3));\n",
              "      fill: #FFFFFF;\n",
              "    }\n",
              "  </style>\n",
              "\n",
              "      <script>\n",
              "        const buttonEl =\n",
              "          document.querySelector('#df-20ad7458-a3bd-4704-ae4d-8e18702b5b7e button.colab-df-convert');\n",
              "        buttonEl.style.display =\n",
              "          google.colab.kernel.accessAllowed ? 'block' : 'none';\n",
              "\n",
              "        async function convertToInteractive(key) {\n",
              "          const element = document.querySelector('#df-20ad7458-a3bd-4704-ae4d-8e18702b5b7e');\n",
              "          const dataTable =\n",
              "            await google.colab.kernel.invokeFunction('convertToInteractive',\n",
              "                                                     [key], {});\n",
              "          if (!dataTable) return;\n",
              "\n",
              "          const docLinkHtml = 'Like what you see? Visit the ' +\n",
              "            '<a target=\"_blank\" href=https://colab.research.google.com/notebooks/data_table.ipynb>data table notebook</a>'\n",
              "            + ' to learn more about interactive tables.';\n",
              "          element.innerHTML = '';\n",
              "          dataTable['output_type'] = 'display_data';\n",
              "          await google.colab.output.renderOutput(dataTable, element);\n",
              "          const docLink = document.createElement('div');\n",
              "          docLink.innerHTML = docLinkHtml;\n",
              "          element.appendChild(docLink);\n",
              "        }\n",
              "      </script>\n",
              "    </div>\n",
              "  </div>\n",
              "  "
            ]
          },
          "metadata": {},
          "execution_count": 23
        }
      ]
    },
    {
      "cell_type": "markdown",
      "source": [
        "# **L_6:** LIKE & NOT LIKE\n",
        "\n",
        "**LIKE:** Used in a WHERE clause to search for a specified pattern in a column.\n",
        "\n",
        "**NOT LIKE:** Used in a WHERE clause to avoid a specified pattern in a column.\n",
        "\n",
        "There are two wildcards often used in conjunction with the LIKE operator:\n",
        "\n",
        " The percent sign (%) represents any number of characters\n",
        "\n",
        " The underscore sign (_) represents one, single character\n"
      ],
      "metadata": {
        "id": "96N-ATu1txs3"
      }
    },
    {
      "cell_type": "code",
      "source": [
        "# \"X_charecter%\" : Starts with X_charecter\n",
        "SQL_code = '''\n",
        "SELECT name\n",
        "FROM accounts \n",
        "WHERE name LIKE 'C%'\n",
        "LIMIT 5\n",
        "'''\n",
        "\n",
        "code_execution = db.execute(SQL_code)\n",
        "\n",
        "for row in code_execution:\n",
        "  print(row)"
      ],
      "metadata": {
        "colab": {
          "base_uri": "https://localhost:8080/"
        },
        "outputId": "686e72c8-b77c-4308-a887-65e812da7ee1",
        "id": "eRaCb1KMtxs3"
      },
      "execution_count": 25,
      "outputs": [
        {
          "output_type": "stream",
          "name": "stdout",
          "text": [
            "('CVS Health',)\n",
            "('Chevron',)\n",
            "('Costco',)\n",
            "('Cardinal Health',)\n",
            "('Citigroup',)\n"
          ]
        }
      ]
    },
    {
      "cell_type": "code",
      "source": [
        "# \"%X_charecter%\" : has X_charecter in it\n",
        "SQL_code = '''\n",
        "SELECT name\n",
        "FROM accounts \n",
        "WHERE name LIKE '%one%'\n",
        "'''\n",
        "\n",
        "code_execution = db.execute(SQL_code)\n",
        "\n",
        "for row in code_execution:\n",
        "  print(row)"
      ],
      "metadata": {
        "colab": {
          "base_uri": "https://localhost:8080/"
        },
        "outputId": "6d89ddfe-bde2-492e-f94c-c61fcb80f530",
        "id": "BAPMuOGqtxs4"
      },
      "execution_count": 26,
      "outputs": [
        {
          "output_type": "stream",
          "name": "stdout",
          "text": [
            "('Honeywell International',)\n",
            "('INTL FCStone',)\n",
            "('Capital One Financial',)\n",
            "('AutoZone',)\n",
            "('Oneok',)\n"
          ]
        }
      ]
    },
    {
      "cell_type": "code",
      "source": [
        "# \"%X_charecter\" : Ends with X_charecter\n",
        "SQL_code = '''\n",
        "SELECT name\n",
        "FROM accounts \n",
        "WHERE name LIKE '%s'\n",
        "LIMIT 5\n",
        "'''\n",
        "\n",
        "code_execution = db.execute(SQL_code)\n",
        "\n",
        "for row in code_execution:\n",
        "  print(row)"
      ],
      "metadata": {
        "colab": {
          "base_uri": "https://localhost:8080/"
        },
        "outputId": "48ecb628-1838-4c16-b9f5-57b5ec09f646",
        "id": "bU6C_poHvlbE"
      },
      "execution_count": 28,
      "outputs": [
        {
          "output_type": "stream",
          "name": "stdout",
          "text": [
            "('General Motors',)\n",
            "('United Technologies',)\n",
            "(\"Lowe's\",)\n",
            "('UPS',)\n",
            "('Cisco Systems',)\n"
          ]
        }
      ]
    },
    {
      "cell_type": "code",
      "source": [
        "SQL_code = '''\n",
        "SELECT name\n",
        "FROM accounts \n",
        "WHERE name NOT LIKE '%one%'\n",
        "LIMIT 5\n",
        "'''\n",
        "\n",
        "code_execution = db.execute(SQL_code)\n",
        "\n",
        "for row in code_execution:\n",
        "  print(row)"
      ],
      "metadata": {
        "colab": {
          "base_uri": "https://localhost:8080/"
        },
        "outputId": "a993a0b3-e517-4662-949c-028569b6c48a",
        "id": "xfEH3kWa5G0S"
      },
      "execution_count": 31,
      "outputs": [
        {
          "output_type": "stream",
          "name": "stdout",
          "text": [
            "('Walmart',)\n",
            "('Exxon Mobil',)\n",
            "('Apple',)\n",
            "('Berkshire Hathaway',)\n",
            "('McKesson',)\n"
          ]
        }
      ]
    },
    {
      "cell_type": "markdown",
      "source": [
        "# **L_7:** IN & NOT IN\n",
        "\n",
        "**IN:** Used to specify multiple values in a WHERE clause.\n",
        "\n",
        "**NOT IN:** Used to avoid multiple values in a WHERE clause.\n",
        "\n"
      ],
      "metadata": {
        "id": "XuZkCfJk38mc"
      }
    },
    {
      "cell_type": "code",
      "source": [
        "SQL_code = '''\n",
        "SELECT name, primary_poc, sales_rep_id\n",
        "FROM accounts\n",
        "WHERE name IN ('Walmart', 'Target', 'Nordstrom')\n",
        "'''\n",
        "\n",
        "code_execution = db.execute(SQL_code)\n",
        "\n",
        "for row in code_execution:\n",
        "  print(row)"
      ],
      "metadata": {
        "colab": {
          "base_uri": "https://localhost:8080/"
        },
        "outputId": "d42ba470-e900-4b6c-b5f3-30bac09c6b82",
        "id": "HpJcTGpy38md"
      },
      "execution_count": 29,
      "outputs": [
        {
          "output_type": "stream",
          "name": "stdout",
          "text": [
            "('Walmart', 'Tamara Tuma', 321500)\n",
            "('Target', 'Luba Streett', 321660)\n",
            "('Nordstrom', 'Yan Crater', 321820)\n"
          ]
        }
      ]
    },
    {
      "cell_type": "code",
      "source": [
        "SQL_code = '''\n",
        "SELECT name, primary_poc, sales_rep_id\n",
        "FROM accounts\n",
        "WHERE name NOT IN ('Walmart', 'Target', 'Nordstrom')\n",
        "LIMIT 5\n",
        "'''\n",
        "\n",
        "code_execution = db.execute(SQL_code)\n",
        "\n",
        "for row in code_execution:\n",
        "  print(row)"
      ],
      "metadata": {
        "colab": {
          "base_uri": "https://localhost:8080/"
        },
        "outputId": "89f03c51-5fc1-4558-a539-599babe58b94",
        "id": "gG2DP8sC5arB"
      },
      "execution_count": 32,
      "outputs": [
        {
          "output_type": "stream",
          "name": "stdout",
          "text": [
            "('Exxon Mobil', 'Sung Shields', 321510)\n",
            "('Apple', 'Jodee Lupo', 321520)\n",
            "('Berkshire Hathaway', 'Serafina Banda', 321530)\n",
            "('McKesson', 'Angeles Crusoe', 321540)\n",
            "('UnitedHealth Group', 'Savanna Gayman', 321550)\n"
          ]
        }
      ]
    },
    {
      "cell_type": "markdown",
      "source": [
        "# **L_8:** AND & BETWEEN\n",
        "\n",
        "**AND:** Shows the row if all the conditions separated by AND are TRUE\n",
        "\n",
        "**BETWEEN:** elects values within a given range. The values can be numbers, text, or dates\n",
        "\n",
        "$NOTE:$ BETWEEN operator included the begin and end values"
      ],
      "metadata": {
        "id": "2A5iZE6y6Lmv"
      }
    },
    {
      "cell_type": "code",
      "source": [
        "SQL_code = '''\n",
        "SELECT id, standard_qty, poster_qty, gloss_qty\n",
        "FROM orders \n",
        "WHERE standard_qty > 1000 AND poster_qty = 0 AND gloss_qty = 0\n",
        "'''\n",
        "\n",
        "code_execution = db.execute(SQL_code)\n",
        "\n",
        "for row in code_execution:\n",
        "  print(row)"
      ],
      "metadata": {
        "colab": {
          "base_uri": "https://localhost:8080/"
        },
        "outputId": "3da41aed-f4e8-493e-ec7b-87cacc4f953d",
        "id": "LVPyxfO06Lmv"
      },
      "execution_count": 33,
      "outputs": [
        {
          "output_type": "stream",
          "name": "stdout",
          "text": [
            "(2613, 1171, 0, 0)\n",
            "(3260, 1552, 0, 0)\n"
          ]
        }
      ]
    },
    {
      "cell_type": "code",
      "source": [
        "SQL_code = '''\n",
        "SELECT occurred_at, gloss_qty\n",
        "FROM orders   \n",
        "WHERE gloss_qty BETWEEN 24 AND 29\n",
        "LIMIT 5\n",
        "'''\n",
        "\n",
        "code_execution = db.execute(SQL_code)\n",
        "\n",
        "for row in code_execution:\n",
        "  print(row)"
      ],
      "metadata": {
        "colab": {
          "base_uri": "https://localhost:8080/"
        },
        "outputId": "fb645ec5-8683-440a-e773-ad9577de1264",
        "id": "2_hno99q6Lmv"
      },
      "execution_count": 34,
      "outputs": [
        {
          "output_type": "stream",
          "name": "stdout",
          "text": [
            "('2016-02-01 19:27:27', 29)\n",
            "('2016-03-02 15:29:32', 24)\n",
            "('2016-10-14 23:54:21', 28)\n",
            "('2015-08-09 18:29:20', 24)\n",
            "('2016-02-01 20:00:37', 26)\n"
          ]
        }
      ]
    },
    {
      "cell_type": "code",
      "source": [
        "SQL_code = '''\n",
        "SELECT *\n",
        "FROM web_events    \n",
        "WHERE channel IN ('organic','adwords') AND occurred_at BETWEEN '2016-01-01' AND '2016-12-30'\n",
        "ORDER BY occurred_at \n",
        "LIMIT 10\n",
        "'''\n",
        "\n",
        "code_execution = db.execute(SQL_code)\n",
        "\n",
        "for row in code_execution:\n",
        "  print(row)"
      ],
      "metadata": {
        "colab": {
          "base_uri": "https://localhost:8080/"
        },
        "outputId": "a0ea1f8d-ee50-4b81-b16b-552b512c44e0",
        "id": "2PaTGGJe_HBv"
      },
      "execution_count": 36,
      "outputs": [
        {
          "output_type": "stream",
          "name": "stdout",
          "text": [
            "(4399, 1001, '2016-01-01 15:45:54', 'adwords')\n",
            "(5581, 1831, '2016-01-02 21:27:39', 'organic')\n",
            "(8775, 4281, '2016-01-04 22:51:01', 'adwords')\n",
            "(6567, 2541, '2016-01-06 00:15:28', 'organic')\n",
            "(7846, 3471, '2016-01-06 08:23:05', 'adwords')\n",
            "(5641, 1851, '2016-01-06 13:37:28', 'adwords')\n",
            "(6307, 2351, '2016-01-08 07:35:24', 'adwords')\n",
            "(8372, 4031, '2016-01-08 11:04:04', 'adwords')\n",
            "(7787, 3421, '2016-01-09 09:37:19', 'organic')\n",
            "(8753, 4241, '2016-01-09 16:20:50', 'organic')\n"
          ]
        }
      ]
    },
    {
      "cell_type": "code",
      "source": [
        "SQL_code = '''\n",
        "SELECT *\n",
        "FROM web_events    \n",
        "WHERE (channel = 'organic' OR channel = 'adwords') AND occurred_at BETWEEN '2016-01-01' AND '2016-12-30'\n",
        "ORDER BY occurred_at \n",
        "LIMIT 10\n",
        "'''\n",
        "\n",
        "code_execution = db.execute(SQL_code)\n",
        "\n",
        "for row in code_execution:\n",
        "  print(row)"
      ],
      "metadata": {
        "colab": {
          "base_uri": "https://localhost:8080/"
        },
        "outputId": "032be990-e7b7-46bc-da82-964f1d99c753",
        "id": "By54OseR_oMF"
      },
      "execution_count": 37,
      "outputs": [
        {
          "output_type": "stream",
          "name": "stdout",
          "text": [
            "(4399, 1001, '2016-01-01 15:45:54', 'adwords')\n",
            "(5581, 1831, '2016-01-02 21:27:39', 'organic')\n",
            "(8775, 4281, '2016-01-04 22:51:01', 'adwords')\n",
            "(6567, 2541, '2016-01-06 00:15:28', 'organic')\n",
            "(7846, 3471, '2016-01-06 08:23:05', 'adwords')\n",
            "(5641, 1851, '2016-01-06 13:37:28', 'adwords')\n",
            "(6307, 2351, '2016-01-08 07:35:24', 'adwords')\n",
            "(8372, 4031, '2016-01-08 11:04:04', 'adwords')\n",
            "(7787, 3421, '2016-01-09 09:37:19', 'organic')\n",
            "(8753, 4241, '2016-01-09 16:20:50', 'organic')\n"
          ]
        }
      ]
    }
  ]
}