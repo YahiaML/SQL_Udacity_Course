{
  "nbformat": 4,
  "nbformat_minor": 0,
  "metadata": {
    "colab": {
      "name": "Unit_3_SQL Aggregations .ipynb",
      "provenance": [],
      "collapsed_sections": [],
      "authorship_tag": "ABX9TyPo2yvSPqHnmD8txFegDxcZ",
      "include_colab_link": true
    },
    "kernelspec": {
      "name": "python3",
      "display_name": "Python 3"
    },
    "language_info": {
      "name": "python"
    }
  },
  "cells": [
    {
      "cell_type": "markdown",
      "metadata": {
        "id": "view-in-github",
        "colab_type": "text"
      },
      "source": [
        "<a href=\"https://colab.research.google.com/github/YahiaML/SQL_Udacity_Course/blob/main/Unit_3_SQL_Aggregations_.ipynb\" target=\"_parent\"><img src=\"https://colab.research.google.com/assets/colab-badge.svg\" alt=\"Open In Colab\"/></a>"
      ]
    },
    {
      "cell_type": "code",
      "source": [
        "import sqlite3\n",
        "import pandas as pd"
      ],
      "metadata": {
        "id": "N5R4p7i7ggyw"
      },
      "execution_count": 1,
      "outputs": []
    },
    {
      "cell_type": "code",
      "source": [
        "db = sqlite3.connect('/content/parch_and_posey.db')"
      ],
      "metadata": {
        "id": "xu4mBSeMYjSY"
      },
      "execution_count": 2,
      "outputs": []
    },
    {
      "cell_type": "markdown",
      "source": [
        "# **L_1:** SUM\n",
        "\n",
        "A NULL value is different from a zero value or a field that contains spaces. A field with a NULL value is one that has been left blank during record creation"
      ],
      "metadata": {
        "id": "VXpce29qbfhL"
      }
    },
    {
      "cell_type": "code",
      "source": [
        "SQL_code = '''\n",
        "SELECT SUM(poster_qty) poster_qty_sum, SUM(standard_qty ) standard_qty_sum, SUM(total_amt_usd) total_amt_usd_sum\n",
        "FROM orders \n",
        "'''\n",
        "\n",
        "code_execution = db.execute(SQL_code)\n",
        "\n",
        "for row in code_execution:\n",
        "  print(row)"
      ],
      "metadata": {
        "colab": {
          "base_uri": "https://localhost:8080/"
        },
        "id": "8dUSjqtAQuAR",
        "outputId": "c8b917c1-4084-4fe8-9331-d80497f39f2c"
      },
      "execution_count": 3,
      "outputs": [
        {
          "output_type": "stream",
          "name": "stdout",
          "text": [
            "(723646, 1938346, 23141511.830000006)\n"
          ]
        }
      ]
    },
    {
      "cell_type": "markdown",
      "source": [
        "# **L_2:** MIN, MAX, & AVERAGE\n"
      ],
      "metadata": {
        "id": "GsRwympK_LEH"
      }
    },
    {
      "cell_type": "code",
      "source": [
        "SQL_code = '''\n",
        "SELECT MIN(occurred_at) \n",
        "FROM orders \n",
        "'''\n",
        "\n",
        "code_execution = db.execute(SQL_code)\n",
        "\n",
        "for row in code_execution:\n",
        "  print(row)"
      ],
      "metadata": {
        "colab": {
          "base_uri": "https://localhost:8080/"
        },
        "outputId": "8098318a-bd04-4c2f-becd-bea5043e07c6",
        "id": "yJd87uL-_LER"
      },
      "execution_count": 4,
      "outputs": [
        {
          "output_type": "stream",
          "name": "stdout",
          "text": [
            "('2013-12-04 04:22:44',)\n"
          ]
        }
      ]
    },
    {
      "cell_type": "code",
      "source": [
        "SQL_code = '''\n",
        "SELECT MAX(occurred_at)\n",
        "FROM web_events\n",
        "'''\n",
        "\n",
        "code_execution = db.execute(SQL_code)\n",
        "\n",
        "for row in code_execution:\n",
        "  print(row)"
      ],
      "metadata": {
        "colab": {
          "base_uri": "https://localhost:8080/"
        },
        "outputId": "f4efdc10-3b9f-48a7-88a1-e9b929850590",
        "id": "p4VPJAgRA2_U"
      },
      "execution_count": 5,
      "outputs": [
        {
          "output_type": "stream",
          "name": "stdout",
          "text": [
            "('2017-01-01 23:51:09',)\n"
          ]
        }
      ]
    },
    {
      "cell_type": "code",
      "source": [
        "SQL_code = '''\n",
        "SELECT AVG(standard_qty) mean_standard\n",
        "FROM orders\n",
        "'''\n",
        "\n",
        "code_execution = db.execute(SQL_code)\n",
        "\n",
        "for row in code_execution:\n",
        "  print(row)"
      ],
      "metadata": {
        "colab": {
          "base_uri": "https://localhost:8080/"
        },
        "outputId": "94b2009c-d6d5-40d5-b696-604559f0c46e",
        "id": "564VSgWHA-xc"
      },
      "execution_count": 6,
      "outputs": [
        {
          "output_type": "stream",
          "name": "stdout",
          "text": [
            "(280.43200231481484,)\n"
          ]
        }
      ]
    },
    {
      "cell_type": "markdown",
      "source": [
        "# **L_3:** GROUP BY\n",
        "\n",
        "A NULL value is different from a zero value or a field that contains spaces. A field with a NULL value is one that has been left blank during record creation"
      ],
      "metadata": {
        "id": "R1wC_SgaBF6b"
      }
    },
    {
      "cell_type": "code",
      "source": [
        "SQL_code = '''\n",
        "SELECT w.channel, COUNT(*)\n",
        "FROM web_events w\n",
        "GROUP BY w.channel\n",
        "'''\n",
        "\n",
        "code_execution = db.execute(SQL_code)\n",
        "\n",
        "for row in code_execution:\n",
        "  print(row)"
      ],
      "metadata": {
        "colab": {
          "base_uri": "https://localhost:8080/"
        },
        "outputId": "99889228-4700-48d2-a891-d9c829bdba3a",
        "id": "EW0bmvBHBF6c"
      },
      "execution_count": 7,
      "outputs": [
        {
          "output_type": "stream",
          "name": "stdout",
          "text": [
            "('adwords', 906)\n",
            "('banner', 476)\n",
            "('direct', 5298)\n",
            "('facebook', 967)\n",
            "('organic', 952)\n",
            "('twitter', 474)\n"
          ]
        }
      ]
    },
    {
      "cell_type": "code",
      "source": [
        "SQL_code = '''\n",
        "SELECT R.name region_name ,W.channel, COUNT(W.occurred_at) num_of_occurrences\n",
        "FROM web_events W\n",
        "\n",
        "JOIN accounts A     ON W.account_id   = A.id\n",
        "\n",
        "JOIN sales_reps SR  ON A.sales_rep_id = SR.id\n",
        "\n",
        "JOIN region R       ON SR.region_id   = R.id\n",
        "\n",
        "GROUP BY R.name, W.channel\n",
        "ORDER BY num_of_occurrences DESC\n",
        "\n",
        "'''\n",
        "\n",
        "code_execution = db.execute(SQL_code)\n",
        "\n",
        "for row in code_execution:\n",
        "  print(row)"
      ],
      "metadata": {
        "colab": {
          "base_uri": "https://localhost:8080/"
        },
        "outputId": "1ae13d1e-2613-4804-edcc-6f0d8f37ff98",
        "id": "-9_IcccD9L7t"
      },
      "execution_count": 8,
      "outputs": [
        {
          "output_type": "stream",
          "name": "stdout",
          "text": [
            "('Northeast', 'direct', 1800)\n",
            "('Southeast', 'direct', 1548)\n",
            "('West', 'direct', 1254)\n",
            "('Midwest', 'direct', 696)\n",
            "('Northeast', 'facebook', 335)\n",
            "('Northeast', 'organic', 317)\n",
            "('Northeast', 'adwords', 300)\n",
            "('Southeast', 'facebook', 278)\n",
            "('Southeast', 'organic', 275)\n",
            "('Southeast', 'adwords', 264)\n",
            "('West', 'organic', 243)\n",
            "('West', 'adwords', 241)\n",
            "('West', 'facebook', 229)\n",
            "('Northeast', 'banner', 155)\n",
            "('Northeast', 'twitter', 154)\n",
            "('Southeast', 'banner', 146)\n",
            "('Southeast', 'twitter', 127)\n",
            "('Midwest', 'facebook', 125)\n",
            "('West', 'twitter', 122)\n",
            "('Midwest', 'organic', 117)\n",
            "('West', 'banner', 116)\n",
            "('Midwest', 'adwords', 101)\n",
            "('Midwest', 'twitter', 71)\n",
            "('Midwest', 'banner', 59)\n"
          ]
        }
      ]
    },
    {
      "cell_type": "markdown",
      "source": [
        "# **L_4:** SELECT DISTINCT\n",
        "\n",
        "used to return only distinct (different) values"
      ],
      "metadata": {
        "id": "UJTJut9kpeab"
      }
    },
    {
      "cell_type": "code",
      "source": [
        "SQL_code = '''\n",
        "SELECT DISTINCT id, name\n",
        "FROM sales_reps\n",
        "LIMIT 10\n",
        "'''\n",
        "\n",
        "code_execution = db.execute(SQL_code)\n",
        "\n",
        "for row in code_execution:\n",
        "  print(row)"
      ],
      "metadata": {
        "colab": {
          "base_uri": "https://localhost:8080/"
        },
        "outputId": "52faeb12-1dd3-4323-9395-7123c9af29a0",
        "id": "5gD8q6A5peak"
      },
      "execution_count": 9,
      "outputs": [
        {
          "output_type": "stream",
          "name": "stdout",
          "text": [
            "(321500, 'Samuel Racine')\n",
            "(321510, 'Eugena Esser')\n",
            "(321520, 'Michel Averette')\n",
            "(321530, 'Renetta Carew')\n",
            "(321540, 'Cara Clarke')\n",
            "(321550, 'Lavera Oles')\n",
            "(321560, 'Elba Felder')\n",
            "(321570, 'Shawanda Selke')\n",
            "(321580, 'Sibyl Lauria')\n",
            "(321590, 'Necole Victory')\n"
          ]
        }
      ]
    },
    {
      "cell_type": "code",
      "source": [
        "SQL_code = '''\n",
        "SELECT R.name region_name ,W.channel, COUNT(W.occurred_at) num_of_occurrences\n",
        "FROM web_events W\n",
        "\n",
        "JOIN accounts A     ON W.account_id   = A.id\n",
        "\n",
        "JOIN sales_reps SR  ON A.sales_rep_id = SR.id\n",
        "\n",
        "JOIN region R       ON SR.region_id   = R.id\n",
        "\n",
        "GROUP BY R.name, W.channel\n",
        "ORDER BY num_of_occurrences DESC\n",
        "\n",
        "'''\n",
        "\n",
        "code_execution = db.execute(SQL_code)\n",
        "\n",
        "for row in code_execution:\n",
        "  print(row)"
      ],
      "metadata": {
        "colab": {
          "base_uri": "https://localhost:8080/"
        },
        "outputId": "183f5e17-b8ee-478e-c9f0-34c32d44010f",
        "id": "sGFyzvftpeal"
      },
      "execution_count": 10,
      "outputs": [
        {
          "output_type": "stream",
          "name": "stdout",
          "text": [
            "('Northeast', 'direct', 1800)\n",
            "('Southeast', 'direct', 1548)\n",
            "('West', 'direct', 1254)\n",
            "('Midwest', 'direct', 696)\n",
            "('Northeast', 'facebook', 335)\n",
            "('Northeast', 'organic', 317)\n",
            "('Northeast', 'adwords', 300)\n",
            "('Southeast', 'facebook', 278)\n",
            "('Southeast', 'organic', 275)\n",
            "('Southeast', 'adwords', 264)\n",
            "('West', 'organic', 243)\n",
            "('West', 'adwords', 241)\n",
            "('West', 'facebook', 229)\n",
            "('Northeast', 'banner', 155)\n",
            "('Northeast', 'twitter', 154)\n",
            "('Southeast', 'banner', 146)\n",
            "('Southeast', 'twitter', 127)\n",
            "('Midwest', 'facebook', 125)\n",
            "('West', 'twitter', 122)\n",
            "('Midwest', 'organic', 117)\n",
            "('West', 'banner', 116)\n",
            "('Midwest', 'adwords', 101)\n",
            "('Midwest', 'twitter', 71)\n",
            "('Midwest', 'banner', 59)\n"
          ]
        }
      ]
    },
    {
      "cell_type": "markdown",
      "source": [
        "# **L_5:** HAVING\n",
        "\n",
        "It was added to SQL because the WHERE keyword cannot be used with aggregate functions (count, sum, min, ...etc.)."
      ],
      "metadata": {
        "id": "Eo43DMY2rpX_"
      }
    },
    {
      "cell_type": "code",
      "source": [
        "SQL_code = '''\n",
        "SELECT SR.name rep_name, COUNT(A.name) as number_of_accounts\n",
        "FROM accounts A    \n",
        "JOIN sales_reps SR  ON A.sales_rep_id = SR.id\n",
        "GROUP BY rep_name\n",
        "HAVING COUNT(A.name) > 5\n",
        "LIMIT 10\n",
        "'''\n",
        "\n",
        "code_execution = db.execute(SQL_code)\n",
        "\n",
        "for row in code_execution:\n",
        "  print(row)"
      ],
      "metadata": {
        "colab": {
          "base_uri": "https://localhost:8080/"
        },
        "outputId": "eae62618-15a6-4145-993c-9a8782582efe",
        "id": "kGDKcjvjrpYI"
      },
      "execution_count": 11,
      "outputs": [
        {
          "output_type": "stream",
          "name": "stdout",
          "text": [
            "('Arica Stoltzfus', 10)\n",
            "('Babette Soukup', 7)\n",
            "('Brandie Riva', 10)\n",
            "('Calvin Ollison', 11)\n",
            "('Charles Bidwell', 7)\n",
            "('Cliff Meints', 7)\n",
            "('Dawna Agnew', 9)\n",
            "('Debroah Wardle', 6)\n",
            "('Delilah Krum', 8)\n",
            "('Derrick Boggess', 7)\n"
          ]
        }
      ]
    },
    {
      "cell_type": "code",
      "source": [
        "SQL_code = '''\n",
        "SELECT R.name region_name ,W.channel, COUNT(W.occurred_at) num_of_occurrences\n",
        "FROM web_events W\n",
        "\n",
        "JOIN accounts A     ON W.account_id   = A.id\n",
        "\n",
        "JOIN sales_reps SR  ON A.sales_rep_id = SR.id\n",
        "\n",
        "JOIN region R       ON SR.region_id   = R.id\n",
        "\n",
        "GROUP BY R.name, W.channel\n",
        "ORDER BY num_of_occurrences DESC\n",
        "\n",
        "'''\n",
        "\n",
        "code_execution = db.execute(SQL_code)\n",
        "\n",
        "for row in code_execution:\n",
        "  print(row)"
      ],
      "metadata": {
        "colab": {
          "base_uri": "https://localhost:8080/"
        },
        "outputId": "82b9d19d-42e4-402d-d52d-0914d4dab2c0",
        "id": "KxJusDdErpYJ"
      },
      "execution_count": 12,
      "outputs": [
        {
          "output_type": "stream",
          "name": "stdout",
          "text": [
            "('Northeast', 'direct', 1800)\n",
            "('Southeast', 'direct', 1548)\n",
            "('West', 'direct', 1254)\n",
            "('Midwest', 'direct', 696)\n",
            "('Northeast', 'facebook', 335)\n",
            "('Northeast', 'organic', 317)\n",
            "('Northeast', 'adwords', 300)\n",
            "('Southeast', 'facebook', 278)\n",
            "('Southeast', 'organic', 275)\n",
            "('Southeast', 'adwords', 264)\n",
            "('West', 'organic', 243)\n",
            "('West', 'adwords', 241)\n",
            "('West', 'facebook', 229)\n",
            "('Northeast', 'banner', 155)\n",
            "('Northeast', 'twitter', 154)\n",
            "('Southeast', 'banner', 146)\n",
            "('Southeast', 'twitter', 127)\n",
            "('Midwest', 'facebook', 125)\n",
            "('West', 'twitter', 122)\n",
            "('Midwest', 'organic', 117)\n",
            "('West', 'banner', 116)\n",
            "('Midwest', 'adwords', 101)\n",
            "('Midwest', 'twitter', 71)\n",
            "('Midwest', 'banner', 59)\n"
          ]
        }
      ]
    },
    {
      "cell_type": "markdown",
      "source": [
        "# **L_6:** DATE_TRUNC\n",
        "\n",
        "used to truncate a date or datetime value to the start of a given unit of duration. Takes two arguments, the date to truncate and the unit of duration.\n",
        "\n",
        "**unit of duration** ( \"century\", \"decade\", \"year\", \"quarter\", \"month\", \"week\", \"day\", \"hour\", \"minute\", \"second\", or \"millisecond\")\n",
        "\n",
        "$NOTE:$ DATE_TRUNC can not be used in colab for unknown reason"
      ],
      "metadata": {
        "id": "xkF7m5M0ZNtw"
      }
    },
    {
      "cell_type": "code",
      "source": [
        "#SQL_code = '''\n",
        "#SELECT DATE_TRUNC('year', occurred_at) Year_ , SUM(total_amt_usd) \n",
        "#FROM orders\n",
        "#GROUP BY Year_\n",
        "#ORDER BY Year_\n",
        "\n",
        "#'''\n",
        "\n",
        "#code_execution = db.execute(SQL_code)\n",
        "\n",
        "#for row in code_execution:\n",
        "#  print(row)"
      ],
      "metadata": {
        "id": "OSfMwSkaZNt5"
      },
      "execution_count": 18,
      "outputs": []
    },
    {
      "cell_type": "markdown",
      "source": [
        "![Capture.PNG](data:image/png;base64,iVBORw0KGgoAAAANSUhEUgAAAwwAAAKbCAYAAABYaw00AAAAAXNSR0IArs4c6QAAAARnQU1BAACxjwv8YQUAAAAJcEhZcwAADsMAAA7DAcdvqGQAAI1lSURBVHhe7f1tUFRnvu+NU+fdeXfmFXW/su5X1v1m+7+rpm7qTNWU+0zVOc6umgrnZE8d9pmhjjG1CUdjRGNGdKLJEDNCYgzGMSKJiA9jMDEODMrg0xYVEWIMD5IgapRoJIhPqEEImj3f/3WtXg2rm7XobnloHj6fqc/Eta7V12qaZvXvu9Z1rU758cd/15MnP+rJj65Pnjg+fvzY9YkGBh4P+sMPA0MODKj/hx8C7evvR0RERETEJOlXo4e1tby3tvfW/DYDhPNAymBYGCEoeDvy7mTwifSbZY99fWY9IiIiIiJOCofV6z6Bwlvze4NDil9YGBYUPFcSvAHB78lYHz3qQ0RERETESaJfzW71BojB4OC58mAzQcqIYcE75MgnJEQ/kd7eRyEfISIiIiLipNGt06Prd29tH673o4ODExj8wkJ4w/AVBb+QMPQk+vS9eQKIiIiIiDi5tbV7uI731vbe4OC94pDiDQvhSw9O4+Mf1fv43/Xg8d91HxERERERZ4w2A9gsYDOBExgihyE91vem0e+BiIiIiIg4s0yJHob0gLCAiIiIiIiuTmAIh4W+xz/6boSIiIiIiDPTFO+8hfs/PPHdCBERERERZ6ZOYHCuLvT3q+cHhiMhIiIiIuKQKYPftdD/g+8GiIiIiIg4c00JX12w91z12wAREREREWeuTmAIfzGb3waIiIiIiDhzTQlfXbDf7ua3ASIiIiIizlxTwlcXCAyIiIiIiBgtgQEREREREQNNCYeF3t5HvhsgIiIiIuLMdSgwPCIwICIiIiJipJ7AwJAkRERERESMlMCAiIiIiIiBDgaG75nDgIiIiIiIUTqBwU54JjAgIiIiImK0KeEJzxMWGL7+WP/yi/n68GufNkREREREnFQSGAb9Wh++8Kr23/RrQ0RExPHxhsp37Ne7NTc8657oUs1BrdlxRpdibmv9QddaalW8o1x/KNqvP5QcVMmxS+ocbO/Skd37tca0RZt/uMPTj/V7Xfrc9LXb7euDSm2p/Fytd59EbRd6LuF+wtu13fduc0+nPzX9fPyFrg2u+17nKs263Q26OrgOEzf8+ldq3+UfItuundF6+3spqVVrn2d91O/M8YPjavLb5oNq/VuX53fe164dReXae9m77or2frBfW+ruDK2z791jlVpjfr+R792pLYHBtbutRP/ySwIDIiLixOoXAhIMDF2fa5Mp5rYca1fbtetqavlCRxq7PNv8oJu3unT1Rpcu1R0zQaBalZdDy1fveovNJ7p6qtq0V6r42Hk1Xb2u1i+/0J9t2Nhhis/vw9tZQ89lfVW76eeG2r5sUHGJCSBVV3RncJu/687VWlO8eoraGw3Oc/3zl98PbpOIxRUn9adPjqm7d8C33Wrb7DYfVJzybZ8ehl7/Nz8od0Lf0Gv+RG3HDjrrgwKD8zvrMr97x3sRv6/wNjZMvPlp81DonMDAMBl/x5MiMFw5vEL/uOaIrtxsU9n7r+p/P/dr/eyX/0v/snKT9rc9jHi8s+3KI7pgty1coWefeUY/e2a+/vWtEh2+HpkwW/Zn6acvfKwWz7qQzSr49TP61wP2YPKDWg68qmd/+U/6h597/E2JPh/2OERERBxb/UJAgoHhwkm9aULAv93yrAvywnETCA7r5F2ftu8v6c+m6F8fUYAanUCyX8Wf3/NsH/1cftC5clNofvyF58qG1XuVwb268NHnT311wRaTtpjd+bd633brjqozzjZ2W7/26WHo9S+uPKY3bZgLB4O+62Z9pXaUH9YfAgLDsPdPhHabcpUcPukEvT9fcIPdBAeGyfY7njSB4We/Xqp/XbxIqw/Uqa7ta33eXKMP1/wv/fSZyLP+4W0XvbxIb4S3PXtE76/8tX766zwd8GwbX2AwKe1ely4cz9fPfrFUO9u6THCxRgYVREREHA9DRZw963vJnvF3vKFzVaboijcw3D2vHaZwe/OjWp2+9iCyLdqRAoMzlMUWhVFDXNwhTX+ovOQJEkPP256pvuReYdjkU4zeMf2+a68yfH7GBI9K7b3w9Leyv36vV2+WmNfGFIvlp1qGtdt1ts1uY7eNbp8+hl7/krpmE/LMa3vVLeTtFZ2Sk2qoCw4MEe+1W9FXetx+G7udcGffg222jwkMDJPxdzxpAsNPf/6Mlh72Xj403qvRil/a9XeHbbto2Laf643f/JOe3dmmbnddvIHB8ew7JjAwJAkREXFiDRVotgAaZtxzGP6um9e+0N6PTIFnHrf+0zM6d8tT2HkdKTBcrlV+0UFVXot+7D2d/Ng8n0/P6+bguujnXa7img5Pu9cHaigPPbfI+QxP5+WbPYP7rftqaA6G/Xd4vd3G+5jpZ+j1L3YLe3tVyBmOdLhS+Yev6FpjcGAIv0aOw64Ihfs1wfPWFyo2gWDTKVMvTvAchsn2O548gcG3WP9aO194Rv9S9vXgutC2K3y2/UF17/86IiAQGBARESe7fiEgwSFJg/6gzstfaIctCoMKthhXGN4NuMJQuXu/3vS5whB6LqErEOuj5i94Dc1lKNefR3F1wWt04RhUYE5fhwr7O18ed4YltX3foX07QvNFOkcIDMHvH+tQv8770M5p+eCYTne1688f+ASGkuGBoW2MJj1Ppt/x5AkMv3xHNb2e7RyvaefiZ/RsdGDw3fbvunBgqX76zCbVucsEBkRExMmuXxH3tIEh5J0WO7HZFHkRdyxyHSkwuAWg3xyGLaZIG2kOw01TtOYXVevIjYArG848CM/QmTHQOzRlpCEs01NPYe/MPanU3pqTWm+DgwkJN8ckMJhlJ4TsV375SZVEBwazbaVpC13dCK/r0zl7NWnYlYunc7L8jidRYBgq9Iccx8DwDIEBEREx+foVcYkFhpuXP1dlnb2r0Q1dunZJRz41BdvTXGEw+71aF7pLUklNu1qv2bsf2bsk2dug2jPY3m2jn0u3/u0jU9h576zjdRwCgzU8+dVq/+23zfTUW9ibIt3ONzCvQbh4HykwRM6X8b9L0mBgMIbCoH2NowND6H36hw+qta/xinnvXVdT3XHnSlJJozdcjs7J8DuemoEhaEhS4a/108V/iRyS9JzP3Y7s3Ihf/BOBARERMen6hYDEAsOdyw0q3l1pCn1TVH1Qrnc/rVVDV/SwItcRA4M1se9h8D6XO5dPmsKy0hSVPsOOxikw2Ntrbvr4mONIt+GcfkYW9s6wJPP6lruv70iBIVx8OwZ8D4M3MNx/fEcnbQgdFhiMfXfUVGNe/5JQYHlzR7X21l0PmMvydE6G3/HUDAy+E6TrtPrXoUnPQ9u+avrN04F7nu2M3x7P0z/+PCowNG/SP/5iqcquR26LiIiIiDiTnZqB4Zks/csLi/TG4c/1+dfX9HnzERW8/Gv99Df5Ouy9QnDziJY+80/61dqPdbjta7V83aaaw5v0r4uX6n//JmpIkr3qYLZ99q2DqjN9trRd07fhNkRERETEGerUDAy/3qq6659r51tLQ1/c9mv7xW0fqybqi9us37Yd1Bsrs/TffvmM/vE3WVpU+BfV3ezSgTVRgcF45WyJVrzwv/SzXzyjXy3+mC9uQ0RERMQZ78QHhlEaHC4QEREREXGsJTAgIiIiImKgBAZERERERAyUwICIiIiIiIFOucCAiIiIiIgTJ4EBEREREREDJTAgIiIiImKgBAZERERERAyUwICIiIiIiIESGBARERERMVACAyIiIiIiBkpgQERERETEQAkMiIiIiIgYKIEBEREREREDJTAgIiIiImKgBAZERERERAw0IjBcvn4TERERERFx0IjAAABTE/vHDAAAADAeEBgApgEEBgAAABgvCAwA0wACAwAAAIwXBAaAaQCBAQAAAMYLAgPANIDAAAAAAOMFgQFgGkBgAAAAgPGCwAAwDSAwAAAAwHhBYACYBhAYAAAAYLwgMABMAwgMAAAAMF4QGACmAQQGAAAAGC8IDADTAAIDwDjy5LGeuP8ESD7m/cgbEiYYAgPANIDAEMQT9XVcVHPNeV3r6XfXDfG4574eDtO73fdRy9GY/v366I/+NDfbdV1R+7DnYfv3ebzjSPuNpL+nRz2uIz+q33cb7+OjHdo29Njg9hj0D3/soIOdRO1jWOe2fdizj1jn/CxRm9h1w7oy9HddUH1NvS4M39EQj9p1aM9aHbr82F3h4f5Znd6yReeuucuTlanyPKcg9fkpSi/rcpcmhifXK7WndKfan7Zss3+Lvn8QAesBDAQGgGnApAgMPR1qOlWlT3cVa8+p2+7KJNLfpk/mFejVtA9Ukrtd76SZf88/pGuDH4g3VZNu2wu1dq7HnBrdc7dQ/R7lph9St7s4nPPamWL68D7eWtTmthvM8/iLs58/aXPuLr0zu8Ds42xoH00VQ48xzy83df3Qsvd5jEi98lNSNXvuXM01ps0y/84oUpPPB39/Ta5mpaYqu7rHXWPpUnVO6LHW2akpmpU2tFzU5G5Wn6+U1NmD64e1x6CrOmfocbNTlTIrbWg53En0PtJmada8QtWHfxbbnl5mnrGHiHVdKktPUcr8cg39hKF1+fXuoqW/SUXppu+0dGXn5ihj9izNzamO7NehW3UmLFS297nLUdzcr7/+5Cc6dtZdnqxMlec5BRmvwNBVlj5iv4/ad6p0T405ij0FTYVKM8e9yD9d+3cyx/ydkBjAHwIDwBjS8/jv+n9Pduu/nJnYgnkyBIYfbl7WV199pYbK0kkRGDpL/6RcU5gPlXpP1Nl0xbMcCgw7vYVkNHEFhi2qCfxcN/vIKNDGUu9+76uz4477bw8x9xWEDQzpGqotekw9MM8pojvcNSH6VZObpsLSQs3JrvYU1F58iuswfsX6U2KLoRS/nfjs40LRXKWGt40rMMzRnDlzVDhYDUX/TF0qz5iljNILnqsOPeroGP6KPDpfotLKZgV+OjqF+G9VP9nP3E+V5zkFSVZgsHQcet0caxM/Ytj3e3V2quaXD73n+83f0Zwx+vuG6QmBAWCMCIeF/3Dghv6x7pa7dmKYTEOSbp/aMykCw5XC9VGBIZoJCAxN+/X6nP1qdxdHZMwCg6VJhXNSo86q1yh3Vr7Z2rZlK+IiwyCTLzCoPndoXVyBwbwW5SYUDV5liPqZmkzbnOizq35069SetarpdBd9OatjP1mmc/fdRZevtz+vw8eiVpr3ysnf/kEtnhO4d85u0cH/+g/65Cez9ek/r1L9xcizuw8uHtSxRb/Sp7N/ok/+4b/q4JazioiaN4+petUx80zv68KWRfr0H+x2/6zTF932Qfyf55jRU6/C+WmalWKvTs1XfnVkVLX0XChTTnpom9TZ85RTdiEqtHappnB+6OpTyiylzS8c+rvqqlbO3KLI35ldF3FVqElFzjb9ulCWo3m2n9TZyq0Zek3tVa6cavMI7/OdV6oLbrsN1YOPdZ9DfdTfSU9TkeanzXL6npdTrtLcRAOD+TmLspVu+7BXBuflqOxC5HMMX4VLne1eabP6XQHrqdXe0kqN+BYNoqNU8wb/DkJBeyhkh+ipLwz9rD7P09JzoVz580NXJe0Vw/mF9ZG/08HfUY/qze82bZbdbp5MVocpCIEBYIz4/7lhwetPqjudqw07vh3fvy8Cgw9d9Sq2w5DS96i26b6Gj0APBYbNRY1qrgl7RQ/dVoe4AkOhdpZ7+mi6Mbiv7rItys0/7y7FYEwDg1kbVcg4w5Fya5yz6vX50cOSwsQIDHNzVV5ToxrXpq7IAiJe4g8MParJnaO0IrfCiCsw2MIn9N/Q8IrInylw39E8rNfebZ9EXaWJ5rxqfl7oKThdru1R+X/doq/dRUt/7R/0yR9qB69q9Bxbpk/+eYsuukX8wLX9+us/eIv6+2rZs0cXb/brR7P0Y/81nf7tT3TwoKfqt1cOfrVKhxf9Vsdqr6nXrBrov++5chIm4HmOBSaI5qSmKb/GfT/1XFCpvYJT7nnvmd9RWlq2yprcbfq7VF1a7XltO1RmHjMvv0bht1RPU5nKwsNjusqUnmLDrge7LuK9YP8O5is3N13ZZU2hsfj9kXNX7O9+bk6u5qfnq6Yj1NLvGbTfVJimtOxyuU2mYLbP2xMu7VCe1AxT8IZ+jn5TEOemJRgYzM9VVD0UlnrM32VEgHXn+lTbv19TWQ/N6fH+JGFMqN31jp7ucNuvmpzQVQbn9xN11bGnOjs0HDC8sqNMGbO8JxrM32ZpqerDv7D+DpWavzPvVQvndzQ3R7nz0837oyP0u4j6ncDUYYICw4DufXlaJTvKlVe0X3klB7Xz+OXID2aHAd1qP6M9ZZX6o7Ndpd7f/5mu/uA2O3Sqasd+vXfSm6l/1HcnD2rNjjP6zl0TIrTtGtPXoB8c16WI+YjhbSr116sD7jqXzjPaYB9TclpX/e5I8MNlffzBCO0wo7BXFaIDg1cbHOxViPGAwBDETX1ZtkfvzCpQ7uwt+qTee342FBgKsj/WnsKw9ZFn6+IKDOu1MdfTR+n5wWNbe77Zb7ICQ8RQCTscKVU54bOtpkBI9R2WFCMwzMlQbmGhCl1Lo0+/xsmIgcEzh2F2qikiczyFpW2PGRhCz39oiEXkz9RkwlJcgaGz0hkj/nTv5H41rfoHHa4Nl0b39dmin6tm8K1giv9feZdDfL3l5/rrQb+/5X49uH9fF7f/Sp8UeiYiOEONfq7DZ5NXgjm/y5xQEB0k4iqOKSTnpkac6Y+mvyZHKfNKg8NZ3IHBvueDI57zXOfkDs2J8WKDjwkc3nrXFsV26E6+W83boD23NLL/UQ1JsuGgq1zZMf9+g3is8+W5qozrEqYP9iqDCXLZ6WlRVxfs72z4FYemwjkRQXCI0M0KmormRv5tOb+3OcplXsS0YGICw+3P9X5RuYqPt+t653Vd+rJRp1qGv+nutRwzQaFcJcebddVsd/1yq06dbo+a+Jd4YNhQ3a5bt7tce6LONIa2+eMH5XrryDeeth91/fhBZ31QIOj78rj+aELNhg8qtT86bMCMw4aB8FUGOzQpTM2dHwbDxHjNbSAwxKJf3TUfqyC1UJ8MfgiO/5Ak5wpDzlmfqxs+jGlgsGcPU4Y+3O1wpNShidFz585WaorfsKQYgSG6WH9KRgwM6aW6YM+o1tuzuTmKqDMTCAy22Cufb68ydET8TL4Frh8dn2jbUwcG8wlyfos+XXQwFMrsFYd/3qMbTovFDhH6iT7x8a/7h/6WH1zcr8O//ZXKF61SzZY9Ov0Hv8AwTlcO4sS3sI0o8P0DrZfA90OYuAPDKPbj7CNFKT6GHuL/t5F4YHCHXs21E+4LVVRWqPlPHRik9spRBAbzV1CfP0cp2dVRfw+h8OX3WnifU2iYmTmezM9RYWGpSnP9AkPU7w2mLBMTGC6fNEGgWmdGuuXHk2/015L9eqv6SowP18QDQ+S20YS2KTlowsoOTzB4ct2sr9Sevx5Wnm9g6NX5v5brjwebdXa/CRsxnzfMBMKhwRpNODSUXh/7vzUCQ3w05xbonbLwazVBcxhSd+lcPCfYxjIwOMNE5il8MtQOR0qdX6aOweENXSrPTvEZljQZAkN4H6FiJs17mtNt957jtUMnhgJA1PO3Z7rnF6owI2pddBDxo6dGe552fLiDvarwzzp9Tbqx558jhxI5Q4R+5bQFYkPGz/+gFs/Duvf/dhwDQ/9T3VKzo9QzKT1MR6nmpua7VxjsnJnhZ6u9OL/DiDtbRdFTreyUqN/ZWAcGv31EYK82DP+bSSwwhK70pUdcpfB/3vZKWOx+7TybAp0axeHf/zWxv7O5g8cPX5w5ELkKj0SzDOtrQgPD071/IX4mJjA8bNWeD/brj2Wn1dg5fCCSw83P9F5RufZftaM1R2LoqsF3N7t0y7FTbdWVI15hGNz2nh3l6SW0zc76Zn1cUqm/XnP3f+20NpSc1Pn6gMDwqFU7zc+0s+Wh7jXabY7rUsTQKYBI7JUGGxjGY0I0gSEaEwbmb9EnNTeHgnxPo3amrZ/QKwzSHdVnF+j17BpP4XlNtfkV+jL6w22sAkNPk0ozUpVmPrhDuwgVKdGFjjMMZNiwpMkUGAy2iEs1P1u4cHGulKSZ5xd+8ey4ae/PFv38Q1cZ5syJXGeHmaTZseruGttPeX5R1FCVKzq07WnHh4ew8xY+LdyiY/81crKz5ZoJEZ88v99z1UEauH/fmYfgcL5Qn/zWe1Ximj5b9vNxCgwXVJSWopTUoMnwI2CLwtSMod+ReX2deSeehNBROk+pGaXyzpntsnNgwsvuPIhcb/XZc0HV9eF3QpPyU+d4hrZ0qGz+bKWOZWCwfyc5ob8b70tgA3aYnvL5SplXNPR6m1CZ2BwGe4euFPNzuouGHhNg5/k8bydEDTvzH8UP51RevDO+myoEEPSahH5nUXdaM6/F4PNpyjevv3cYmfkbyp6TpMAQ+ptOSYkeWgVjyYRNeu7rbNT+snJnHsGG/WfUdi8qGFw9rbeKDurwzfgCQ8S8hLDxzGH4pDFq7kRom5KWW2o7WK4NR74x637U9SOVeuvIFd1r8Q8MD+36osM6aztzh1x93B4dRmCmYENArOFG9uqDDQx2IvRYk/TAcPuU9hQXq3iYlaP6MBsNfRcOqWRe+LsN1pv/Fqq4bPhtVXNTot2jL90tnCJ+WLs3ZNjAMLw9svA3ASHnT3rVrH/dPI9Xhz0Pl1EFhqEhA/YONNlFnqLHKbKjx2YbnDOq0etjBAbPfsLGXywNEXdgMDiFiyfY9DcVKX1W6LsiZqemaq6pvoZ+BJ/nbyeqmucZuTtT3OTM0yx7J5y5aZqVOte5a090cdZZU6BdNaO5F+k1nf7nn+jTLefNp0o0dk7C8/r0H/4/ffqrX6n8V/9Vnz4/NAnaCQiL/kGf/H+27VdOW8vBP4xTYDCFrC3Ah71O8WHvHJQ+y76WczV39mxn8nLk282Ob8/Q7Fnu/BTney/KIgKEOsqVM89+N4YdMmd+J7PSVeiZI9NhivXQ72uu0ublqqajWjljGhgs7vsi/B0haWnOnZC8RbH9zpJUpz1NafNLVV44N6G/ATu3Zm6q+1rNtXeLqlaRvbNXdBeD3xVitzM/c9rwwvv2qXdUeuiKu/R0BL8mUb8z+/NmFCo8b915rebPGrqTk2mrKc+NvNo0YYGh3/yZ27/npzseQXxMWGAIMaCHVxu1xxbxf/4ssrh3JhjHf4VhzIcktTzU4/bjzrCk6z98o7/uCE2CdoLBsMDQo7OfmJ/BbNvW2anvOlv1ccl+/fGv7SPcwhGmM//JhAAbBkYiHBjstmPNZLrCMOnot9+m/P0kGDI4WZ7H9MDvG50TJzRZM7ibKzpU+s4ohnzYwBAalhRMaELzg4AnYe96NDFDLewZ9pGHDsUi9u8k9HqPuI1zl6CADUZqG1NivC/s8xjV04j1vhsi9C3sPlvetEPmRvFtz3ET43c26tdi7LDD4/zv/gZjwQQHhhCPvzymvKJjavTu0r3jkD3Dn5Q5DCYwOM+hpFL7T57UBhscTEjo8wsM9xpV7L1qEfaDYzo/cS8jTCLC8xPssKMgZsqQJJiZ2LHcflcgUqb6pEenMCtWQ4J/Yj+aQuva/uf1ybJjUWfbJyf2FqJzo4egQGIEXIWzPs2Vm0B6zqm8dOOo5i4kn9DVQL/X6qmGPtrbvs41x5pJEl6mIxMSGPqufq7D9a26dM2ejb+sU/vLh19h0IAp+qtNkKjUzpOtutrZqetXL+t8S9R90Z8iMETOd/C/S5ITGMwB3g5LssV/aGiSf2C4V19ttjmss95J3J1n9J55nJ3TADMPO5HZhoH/8bnPN/i6zJRJzwDTjp5u3Y4aljoSd+x3LPzDf9VfV+0fvKf/pOZCkTKihwjBJOaebt7mWuUg/XZ42vAv2YOxZUICw+Orn6nkz5XOdzCs+aBc7+0/rfO3/W5D+lBX60+qeEeoaF/zQaXeP9g66tuqRl4F8P8ehlBgMM/VDksyoaXKnfw8PDB06VSZHX7UGjX86K4zTCnvk2af75eAmUA4ENjQcOLOwOB3LtgrC3Z+w3hdXbAQGAAAAGC8SMqQJIDpiA0I4dDgp20Lh4ixhsAAAAAA4wWBAWCMsUOObDiwk5ut9t/jMQzJC4EBAAAAxgsCA8A0gMAAAAAA4wWBAWAaQGAAAACA8YLAADANIDAAAADAeEFgAJgGEBgAAABgvCAwAEwDCAwAAAAwXhAYAKYBBAYAAAAYLwgMANMAAgMAAACMFwQGgGkAgWHy8CTim+RhavKY3yMAgAcCA8A0gMAQTH9Hk2pq6nWhp99dE6ZfPSOus//uMf/vxW/dEDcbirVrb7163OXJQldZulJSUlzzVe+uhxDO65M/9Ko8uV6pPaU71c7HIgCAA4EBYBpAYPChv0mF81I1K22+cnKzlZ42S7Pml6kjXO3X5yslvUxd7qKDd11XmdJNgZ1eNrRFT3W2KbjT5Vk1yA+X96h0T438fhO2IPX28zSMRR+hnynJgcE+h+jXPclEBwbLo/adgb9PAICZBoEBYBpAYBhOR+k8pebURFwN6Gi6MLQcT2CYM0dzBrfpUXW2KdrT/QLDNdXsekenAn4NBAYPUyQwWDoOva49p7rdJQCAmQuBAWAaQGAYTlPhnGGBIYJ4AkN6vvLDAaGnWtlzc5TjFxjad6q4/Jx+cBfDdFXnaO7cuZo7O1Wps81/7b+tOdWe/fbrQlmO5pltUlJna152qZo8Y5ri6qPngsrz5zvbpKTMUtr8QtX7jYsaVWDoUk1R6EpNSkqqZs/LUdmFoVe3qShdRdXlmj8rRbPml+tCfaHmuf/usBt0VSvHee6zlWp+zsGfw7ym1dGvZwDOa1HU5C6FsOtyIjroUI15LdLMvp3XIj1bRTVRO+goV8488zyc16pI5ea5+wUG9dRqb2mlOt1FAICZSkRgsEUHIk5NIQpToGanmYLVFP3l3go8TFyBoUz1ZemaX97jDEeaV1qjMp/AYM9E72146C556DeP6+lRdW6K0ksvOP8OOVRoO1dCMoaGSnVV5yotLV9N4U3i6KOnplSl9V1uOOo3fZoC2BTqw37q0QSGpjITCMz+3cWemlzNmVOocPlen58S+jnM/8rSU5WWX2O2bVLhnDkqdDYKzf/oMT9fSnqpLgz+HMFzQqLxuxIQfeXFLqeaMDX4s/c0qbreiSwhbPBLTVNuOGSY9tIME7T8AoO6dcpeObrtLgIAzFC4wgCQZB48eDBqCQxBdJmCP1/ps0wxOztDhd7T7vEEBltc95RrfnaZynJsUOjyCQyPdb48V5Xt7qIPtpj2H05Ur/zUuSr11LOmglX5/BRlV0eW+8F9RNJvi/CmIs31CwajusLgwYaYrnJle+ZzeJ+f/Xeo/ravV/jfLn6ve5zEExhssEtNL1T94GSVSJw+oq48+fUbIvbvFgBgJkBgAEgyfgEgUQkMsehXV02+5qWmuWe7DfEGBqeAT1Vqtj1j7xcYHqph71MGhoAC3m/7EQNDzwUn0MydO185hYUqLc0dh8DQpZrC+WYf6crOLVRRWaHmT8LA4FxhqS5Sth1yZIc+zc9X+YWh8OX3OgYHBqm9ksAAAEBgAEgyfgEgUQkM8VFvh/UMVbhO4eo9ue/cBSl89tlTXPfU2yE/tuj0CwzS5apclZ9/7C4Npyk/1b/Y769RzrC7LvWrJidFGeWR2wf2YX6C0nlzlFvjuSIRFAyeOjCY55Rr9h9xKaRe+U8TGJrylfqUgSHi9+MyPDB4MeGhvkgZJigWXQitsXNb5gymxhDBgaFbp/YUBE5mBwCYKRAYAJKMXwBIVAJDNF0qn5+hQu9k1x5T4KaFx9MbTLGeawrJ/Ppw+WkK7/TUoaFAvsW1f2B42LBZxZVfukvDcQrd7OqIQjdEvymu5yjNFKuDbR2lSk/NVtSIpBH6aFJ+anrEsKaO8mzN8Q0M5cpIMX0P7yQG5vXMSDGhxF009DQVat7TBAY7h+CpnoPBho05uRr6lZVp/uzIINVRXy3PBQXDBRXNTVV++Pdunvec1Jyh17f/QvAchh/Oqbx4p7jAAAAzHQIDQJLxCwCJSmAYTv+FMuXMm+XceSh0Z565yinz3FbV0N9U5MxvmJU2V7NTUzXXVMSDtWYCgUE/NJvCskTngw6j/U0qSp/l7MfeGchOah7qt0PlOXM1y7kDUppmz56vUs/dhwYZoY+O8vmaNXjnIRuUyk0Y8gkMTkCZq9RZaaF95fgFEH/66/M1N3WW0px9zDOvZbV5Pk8RGMwe7R2VZjnPwfSVZkOb2xQT81rNN79T9/nPM7+vjuqciMDQVRMajjTbeZ7G2bOVXtTk+Tnd/buvV9q8XJWXmjDm8yRun3pHpYeuuEsAADMXAgNAkvELAIlKYBgB9y5DIxXGzkTheCvnAHoaNqu0slkjHUmd/QTtyHmesZ9EcB9+31wdQJz7Gs7I33SdEHH8XoKI6/cVs/8Yr9fNGr7tGQDAhcAAkGT8AkCiEhgmA31qr1yrXYfaRwwNkxF7RSAlxU+/qxTjRehqhO/zeMo5D09NzzmVl25k7gIAgAuBASDJ+AUAr7t37/Zd75XAMFno0+2bPt/HAFOMe7p5O3gSOwDATIPAAJBk/AJAWBsWwvq1hyUwAAAAwHhBYABIMn4BwOoNC7FCA4EBAAAAxgsCA0CS8QsAfmEhrN/2BAYAAAAYLwgMAEnGLwAkKoEBAAAAxgsCA0CS8QsAiUpgAAAAgPGCwACQZPwCQKISGAAAAGC8IDA8Dd/s1Uu/262r7iLAaPALAIlKYAAAAIDxgsDwFHQfW6OMpQQGGBv8AkCiEhgAAABgvJjwwNB7+W/a+u4avfTiQmUsWKKX39quhlueL8gZ+E6NlRuVu3SJaV+o53+/Tgcuu+1xtYX6femtYh2/fD/U5tCu3UuzlFF8VgPuGum6DvzerHv3hHoHlxcqt7pVrdVuXy8sV27xUV11HvRYV4+tU/aCLD2b6bpgvWqdBz/St2eK9cbvzHMz6zNfXKk3dtfpW9sEMAJ+ASBRCQwAAAAwXkz8FYbOo9pdeVSNbe262nZUm35nCvY3j6rbaXyk1u3LTRG+XAWVJ9TYUqfjlfvV2BNv20ptOlZn2k5o/7t2OU8HOsNhJN7AYEPAQr28eb8aWhpVW7lOz5sA8FLlFWeL3lvtOvSW2ebF91X7zXV92/ld6LGde/Wy2S53b50uXm5X67m/afexVrdfgGDCRf/JkycTlsAAAAAA403ShyRd3WsL+2K12oWeE3pjQZayd7d6inqXGG0Fpu2lve1Dbb112vBClp4f3D6BwPCieT6DG13Rfhtq3jqhe87yYzUWL9Sz0UOSLm9XduZCraluJyRAQhAYAAAAYDIz8UOSvjmh3Zvz9PLSJcoMD+1Z8L4abYF+ebcpurO04ZzPc0m47boOvW4K/Tf/5l69iD8wZLx11A0Hlu906E3vuoDAYLar3bzcGY6UsXSdSk62qntoRzCJKPnrSW3Zd0z9A56hcFHYNrvN9r+ecteMHwSG8aJffT339TDKvn63eVj7YEMU36uzqVHNTTfU564J87h/+OOcdf1P3KUk0VWm9JR81buLAAAAo2FiA8Oto85Vguff3a/WW/c1YIqyi84VhnBg2O4M//EPBSO1+QeGA05gCA938gsMV7TbXj2IDgyDy5Z4A4Plse5dNoHo3ZXKNM8n8/X9+pbQMOmwgWFN0X59dCi4nNpTfcbZxm473kyPwPBQl4/t0bZt21Rauk3FxXtU9ZUzXjB5dB3SOykFen1uodZ6LK6+E9C+Xq/O/kA1HaFmh45j2jirQK9m7FLJfNM+6wNVXvjebZS+zC9QbuoefekuSxf1yRyzLv+8u5wkCAwAADCGTGhgGGh5XxmZC7W1LXxm95EaN5viOxwYekKBwn/Y0QhtvXXOkKTs3VFDkmw4Gdw+emiRwR3m9HSBYbspDYJ4rO5jeeZnXakDne4qmDT0PHykP5ZUOoHgb6db3LVD2HW2zW5jtx1vpkNgeHL5kD41lfZDd1k3T2lP8V41JDMzOIHAW8xH4dP+sHq7ctMPuScZrqlyXoE2lt1wlix99Xv0etp+czQJYQPD63MKtTNcmTft1+vpW1RAYAAAgGnExF5hsN9fkJmll4qPqvVyqxqq1+ulFzyBQffVsHmJWV6uDYMTm4t16JtYbY90cfdK0xY96XmNZ9KzCSfF5vGmiN907Kyzze63lisj4cAgXa00+8pc7vTT2tIauorwzVGVVJvnZSdzX27Uoc1m/y+E76AEk42uO/edUGBtbHfeRA723+H1dpuJYDoEhuHc1qk9xapsdxeTwVMEBnUcUkF4nS3+5+xX5I9gQsTcgsGAYAPDzvw9etUNCFcK16skZ1eCVxj6daEsR/NmpyoldbbmZZeqKSpodVXnKKe6y6TdehXOT9OslBTNmleqC267eeIqz5mn2almfdp8FZUXDQ8Mnsemzp6nnLILZs9DxLOPmvz5SpuVopSUWUpLz1ZRjdkeAACmPRM8h8EU9tUb9fILpgA3hf+a7Sd0tW23sgcDg6H3imp3r9fLLy50rkY8//pG1YbP0o/UZgqUoduqLtRLb76vQxG3VTX0tJogsVLPm5CQuTTPFPwmtOxeknBgUK/px4QNOwcj83fvh86idp7QpjdD655dsETZ5rkdaLsd2h4mJdHhIChEjDfTMzBc1qFtU+0KwxN1lm5Rbna9c6XkXrn9d83QVRMXGxLeKQu93k5gqGnUzjQbLC7qk7Rdaq7Zk1Bg6Cidp9SMMnW41XtXda7S0vLV5Knmu8rSNTcnV/PT81Xjbtg/OHeiR9XZqUrLrVaofO9RU2mGUr2Boada2bPmqbA+/AvpUFnGLGVXD/2CRt5HqD01p9r07tLTpOp67/gtAACYrkz4pGeAyYR3+NFIw5TGk+kYGDoOlaq06rJ+cJeTghMIouYw5NQMBf+o9teduQoVandr5O4yExh8Cv/owPBO2Q21F/5Jn5QdDA1Fqk8kMNQrP3WuSiPq7h6Vz08ZVsynzMlV/VD9PoQz/ChHNd62qCFJHaVzNaewyV1yaSrUnIxyN2TE2IehpzpbqemFqg8nGwAAmDEQGGDGE57gbLX/nmimW2C4eWqPivecUtKfUVxXGHbpnL1DUscxbU79kyo9hfvD6g+Um3FsKGC4NOdGBwbzbzt8KbVQn9iaPJHAEDDXoD4/RellQ8N9nGI+P3orl/p8paSXDRb+DlH92v5SUnz0PG7EfTj0q6O6SNnzZis1dbbmzs9X+YVkXkICAICJgsAAMx57C9X3PznmONKtVseL6RQYbtbt1TYTFjqTfFdRh7gCw1C7c0XBOwSp46AKUnepOeKEeps+mbM+FAwMQ1cbrqm+sMb8vyGRwNBfo5yUdHmygaFfNTkpyiiPMzDYKwVzChVx/SAqMDQVztHcyMsYw4gdGLyY8FBfpIzUNBUNTXIAAIBpCoEBIMlMj8DwSNdr9mjb3kkSFiwJBgbnlqhp67WzPnzb1Duqzy7Q6/mNboj4XtdKt+jVjGPuXZQihycNktCQpH7V589RminUB3NJR6nSU7PlGZEUo5hvUuGcVOUMPqBfF6LnMJg+56VmqCxq6JP3KyRiBYaO+mpFXlC4oKK5qcqPGukEAADTDwIDQJKZDoGhp2GviouLh7vnlJI29T/hwCD11exSrue2qepv01/SC5Q7a73Wzi7Qq+lDcxwsow8MFnuHo7maNXuu5s5N0+zZ81V6IXKeQKxivr+pSOmzUjV7rukjbZ5yy0uVHTXUqcdskzF7VmgbY1pahgo9t2OKtY+umtBwpPDj586erfSipqGgAwAA0xYCA0CSmQ6BYbozId/e3N+jnsBvm46P/p6emAW83WZU+3GeZ+z9AADA9IHAAJBkCAwAAAAwmSEwACQZAgMAAABMZggMAEmGwAAAAACTGQIDQJIhMAAAAMBkhsAAkGQIDAAAADCZITAAJBkCAwAAAExmCAwASYbAAAAAAJMZAgNAkiEwAAAAwGSGwACQZAgMAAAAMJkhMAAkGQIDAAAATGYiAsPjJz8i4gRLYAAAAIDJDIEBMckSGAAAAGAyQ2BATLIEBgAAAJjMEBgQkyyBYXx53H9DV2oa1X7hjh6760L0q6/nvh4O2u+uj+Z7dTY1qrnphvrcNYP0f6+H/U/cBZeIdU/i3MdIRD7PvqguHveb9dHPweL33ALo7+kxexlO0HoAAJhZEBgQk+z0CAw9+qpqj7YVb1Np6TYVm//uOXZZyb2Vwn015xcqd9Z6bczZo83z1uvVuXvU3OM2dx3SOykFen1uodY6mvbZH6imw223dBzTxlkFejVjl0rmm/ZZH6jywvduo9RdtkW5+efdpRCR685rp9nHqxH72KK/NA31EZOo5/m6fT7pFWoPV/JN+/V62n5dcRdD3FRN+nrtrI+v3G8qTFNaYZO75NJVpvQ5+YqzCwAAmMYQGBCT7LQIDI/adepUhx66i3r0lSq3Fauy3V1OAk7hnnFQ1zwF78OOa0PP0SnE9+hLd9HysHq7ctMPqdtZuqbKeQXaWHbDWbL01e+JKM7jCwxbVNPlLhqcPuZEF/gjMOx5fq/m3PV6vfCiu3xH9dnmeZbfcZelx3Yfgz9HHPRUKzt1vsrDYUr9qs+fo/QyzxMHAIAZC4EBMclOi8AwjIdq2Fus8vM/uMsTjSnUU9frk6iT5hH4BAZ1HFJBeJ09c28K+8jMY0LE3ALtrA8tPU1gUE+NNkevGwmf53mttNATGAwdB1Uw+FxDVxdG/Nl96CidpznhqwzO1YVCRXfRU1+o+WmzlJKSqtnzclR2IfLyQ8+FcuXPn6vZqSlKmZWm+YX1Gswglq5q5eRUq8usrS+cr7RZdrt5Kr3gtgMAwKSEwICYZKdXYHiiRw9vqr3mU+3aW2dK1yThFtnN7qIvwwrxJ+osNcV+dr1zFeJeuf13zdAVCZcv8wv0TlnoJ5u4Kwwf6C81jWq2ln+sd+Z9rC8javXvdS4ndJXBubrg87xj0l+jHOcqg726kKbs6ohSXz3V2Zo1r1D14dUdZcqYla2hzXpUU1qq+i73ifV3qDQ9RfOHLluEgsjcHOXOT1d+TUdofkQ/8yQAACY7BAbEJDudAsPlY6Uq3Vasbbuq1NCZcMk6dpiiOdcTBu5Vb3fnEBSquNoduuMU4lFzAzKG5gb4hQFL4oFhvTbmfqw9hR9rZ/af9OqsQu2pT3QOw5+02Tze9lEy/08qyNilGs9cCgd7lSFtu4rTCxO+uhDGXmVIy85Welr01QVT/M+do+hpDk2Fc5RR7neppF89PT1qKpqrlHz3cozFBoaUOcplYgQAwJSCwICYZKdTYBjkYYdq9mzTp02RZ6knjOgrDPaOQT33dS53qNgPbbNL5+zdhzqOaXPqn1TpmfD8sPoD5WYc0z13OUyzp4/4AkOhdpaHrg60X7g5/E5LsXB/luihU++k7lJzRN3db8LMeucKScL7CNNfr/w5Kcquji7ozfqUFKX46J3n0HOhTDnpczV3fo4KC014zPULDPmmNwAAmEoQGBCT7LQMDIZHTZ+quPy84rux51hzUZ/MKVBJTWTh6706EF2IO4W+dyiPPWM/rChvM/0OzQ9wHpPbGFpwuVK4XmtLr7lLPnMYEsUvMKjRt1+/AJMYXSpLT5G3xg/RpMI5c1XqvYNUNB2lmjcnVzURI5DSCQwAANMAAgNikp0OgeFRe42OfXXbEw561PBpsUqPXXeXJx7nCkHaLp3rGvpOBO/VgeGFuAkZafZWpOGhPqG7D72e3+iGiO91rXSLXs04NnT3ISdUmMI9XEj3mEJ+jndI0HgEhvu6YudazDuoTndNmPELDDYPzFNqRpkiMoP3exqa8pWaXupp71B59hwCAwDANIDAgJhkp0Ng0MPLqtlbquJtpSotLdW24mLtKm9I3qRnhyfqLN+ltXZuQlp4jsLHUd/DEHnmvq9mlwkZngnJ/W36S3qB810Oa2dHff+BS7edH5Fq2ux3LKQUaGPpFc+QoLEKDOY5hE1dr4Lsg2r3Ge01noHBhsCmogzNnjVbc+fONaYpLaNQQ6POTECYP0ups22b0bTVlOcqlcAAADDlmdqBoa9B65/L0uKKS/7tiFPAaREYwjx5pIcPH+pRcsYhBRD6tuXob0hOhMBvUx4k9G3MTz13YEoRmtAc+KXV/SO0AQDAlITAgJhkp1VgAHhqQlc3/CZWp6SXmVYAAEgWBAbEJEtgAAAAgMnMxAeGvhs6W1GoFTkLlfHcEi0u2Kqj7Xc923SoYtVCrT7SoY7TW7Vi0UJlbqpVj2170KaKTau1wISEzFfWacdnVXovKyowePvPWqJlG3ap7np/jL4fOst5ryxRRqbpe1Gu8nbWqiPcJ+I4SmAAAACAycwEB4aHat62XM8+l6v3jtTqbONx7dtgl/NUEVHU20CQq+ycddpSsU9VjTfM+m6d2LDQfWyDeexhfbg2VOAPBYZQ/xk5b6uisU2XrjSoomCJns3ZquYHI/R9vUzLTD8rPqrVV+1tajZBZMeRllBIwWnvw0f92vzxUUf7b79txlMCAwAAAExmJjYw3DmudXYI0Udt6g2ve1Cr9VlZWrCzxV0XKuqffW6djna52ziPPay86Mde36cV3sDwINT/ioo2dd7p1i1jZ2OJsjMXakurLQQD+m4PbbO6qo2QMAPd/bc6rSna72j/7bfNeEpgAAAAgMnMxAaG9l2mMM/S+s8eetZ3qOq1LGWsrVKnu2yL+oy1h91lV9/HntMW75Akd5tnfVznPC6g7yc3dGLTcudqRUbOOn1Y06LOPm87TlcPnmp2gsIfSyod7b/tOr9tx0sCAwAAAExmJkVgqHACQ7iId4v6guO6NbiN0b0KsL7RO2SkJSow2G2i+/ca0Ldjv261H9eODbnKNH1kvrZPHYSGae3nbVcHryx8233PMbxs2/weMx4SGAAAAGAyM7GB4UGtM2Qoe2fUkCSzLnpI0rCi/s5hrbZDkrwTnLuqtMK77s5xZ9jSgm3nhvqPcKTAELZfnUfylJGZq4rrfu04HQwKB9EhwvuY8ZLAAAAAAJOZCZ/0/NXOXJ9Jz6uHTXoeXtR360SBnfS8WltqGtRsHrujIDSMaChEPFTzTtNf5nKtq6hVs53AbLar2HlYl0bq+8phfVh1XGdb23Sp/ZyqNpk+st7WCWeiNE43b/c8HHH4kXeYkt02un2sJTAAAADAZGaCA4O123Nb1YVavHazqobdVjXgKsCdFlVsynVvq/q29jW2qGpt1FUH039z1WattrdINdtl2FukbgvfIjWg7+vH9d7a5co02z/73BJlv1aoitbuoXacVm6rOOEEgpEmOP+5+oyzjd3Wr30sDRf9o5HAAAAAAONFEgIDYnItqTip9z8Z+Raqts1uQ2AAAACAmQ6BATHJ+gWARCUwAAAAwHhBYEBMsn4BIFEJDAAAADBeEBgQk6xfAEhUAkMQ/bp34bya66/oXr+7apB+9fXc18NBozd4EtHe566NJHKbQfufuO2x9hEPkX30RXXxuN+sH9yfh/7v/df70N/TY/YynKD1AAAwsyAwICZZvwCQqJMrMNzUqT3FKt5zSrfdNUmh/7z2zC3Qq/O2qyT7T3p1VqF21txxGw1dh/ROSoFen1uotY7r9ersD1TT4bbrvHaa9lfd9tdnmX9nVKg9ooKO3GbQorZQc8x9xEFUH87zSPc8j6b9ej1tv664iyFuqiZ9vXbWx1fuNxWmKa2wyV1y6SpT+px8xdkFAABMYwgMiEnWLwAk6uQJDI/UXlmqPXv2JDkw9Ks51xTZ+eeHrgx0mMI79QPV97jLTiG+R1+6i5aH1duVm35I3c6SDQNbVNPlLBjuq73wT552S/Q2UcTcRxwM6+N787Ot1+uFF93lO6rPLtDG8qEw9Lh+j15PZB891cpOna/y8GtjXr/6/DlKLwv6wQAAYCZBYEBMsn4BIFEnS2B41F6p0j11um3+m9TA0FOjzSkfqHawALb061xOgd4pc18rn2LehoqCwXV+YaBNn8wp0M56d/EpAkPkPuLAp49rpYWewGDoOKiCOfvV7iyEri58EnXBIBYdpfM0J3yVwbm6UKjoLnrqCzU/bZZSUlI1e16Oyi5EXn7ouVCu/PlzNTs1RSmz0jS/sF4Rv4KuauXkVKvLrK0vnK+0WXa7eSq94LYDAMCkhMCAmGT9AkCiTorAcPOU9pRWqv2R+XeyA0PTx8o1BXTkMB2pu2yLcvPPhxaGFeJP1Flq2rPr9dBZ9g8D9srFYOhwtinUzvJGNde4Nt3QY7c19j7iwOnjA/0l3H/5x3pn3sf6MqJW/94JQ/Yqg3N1Ibsm/v7D9Ncox7nKYK8upCm7OqLUV091tmbNKxy6QtNRpoxZ2RrarEc1paWq73KfWH+HStNTNH/oskUoiMzNUe78dOXXdITmR/QzTwIAYLJDYEBMsn4BIFGTHhgetauydI9OhZ9GsgODKZr9hv0MDwxRcwMi5ij4B4Yv86MDw3ptzP1YewpdS88PFesx9xEHTh9/0ma3/5L5f1JBxi7VXPje3cDFXmVI267i9MKEry6EsVcZ0rKzlZ4WfXXBFP9z5yh6mkNT4RxllPtdXulXT0+PmormKiV/8HJMKDCkzFEuEyMAAKYUBAbEJOsXABI1uYHhkc6XF2tXVYO++uqrkMf2qri0Ug1fXdbNH9zNJhI7ETj1Y3eIzhDdZX+KCgy7dM7efajjmDan/kmVEZOR/QJDaFjT0HwB/1AxSMx9xIHTx/BhTe+k7lJzRN3db8LMeufqhf8dneKgv175c1KUXR1d0Jv1KSlK8dE7z6HnQply0udq7vwcFRaWqjTXLzDkm94AAGAqQWBATLJ+ASBRkxsYOtVUVaUqr5/uUvG2PaqsqlF7wmNjxoD+syoZVpzfUe38Am2uvh9ajCrEnasPEUN5fMLAsH7jCQwj7SMO/AKDGn33G3EF5anoUll6irw1fogmFc6Zq9KRwk5HqebNyVVNxAikdAIDAMA0gMCAmGT9AkCiTpZJz4Mke0iS4UphoXIzDpk4E+JezS69nvbx0HCgYYX4RX2SZm9FGh7qExkGHvdcVGVG1J2XEgwMw/cRB8P6uK8rdh7EvIODP1uY8QsMoeFKqRllisgM3u9paMpXanqpp71D5dlzCAwAANMAAgNikvULAIlKYPDjhupzTGhIXa+1aQXKnbtd9d5q1+fMfZ8JFbmD32lgw4B5XNjZf9Lmokbdc9rCRG0TNjx/IuY+4sDpw9O3+XkKsg+qPXJOssN4BgY7qbmpKEOzZ83W3LlzjWlKyyhU0+DzMAFh/iylzrZtRtNWU56rVAIDAMCUh8CAmGT9AkCiTrrAMJmw33j8VN+wDP6EJjQHvqT9I7QBAMCUhMCAmGT9AkCiEhhg6hO6uuE3sTolvcy0AgBAsiAwICZZvwCQqAQGAAAAGC8IDIhJ1i8AJCqBAQAAAMYLAgNikvULAIlKYAAAAIDxgsCAmGT9AkCiEhgAAABgvCAwICZZvwCQqAQGAAAAGC8IDIhJ1i8AJCqBAQAAAMYLAgNikvULAIlKYAAAAIDxgsCAmGT9AkCiEhgAAABgvCAwICZZvwCQqAQGAAAAGC8IDIhJ1i8AJCqBAQAAAMYLAgNikvULAIlKYAAAAIDxgsCAmGT9AkCiEhgAAABgvCAwICZZvwCQqAQGAAAAGC8IDIhJ1i8AJOpkCAztlcUqLo60st1tBAAAgCnLFAsMd9VcUaj3jrSp17fd2Neg9c9laXHFJf92xEmmXwBI1OQHhts6tYeAAAAAMB2ZYoHhho4WLNGCTbW65dtuJDDgFNMvACTq5AgMe3TqtrsIAAAA04bpNySJwIBTTL8AkKjJDwwdOrStVJU1NaqqqlLVsVP6qvOh2wYAAABTmSkWGDpUsSpLGRuOqye87kGbKjat1gITEjJfWacdn1XpvSwCA04d/QJAok6GKwxNJiicar+phw9v63pTlXYVmwDR/shtBwAAgKnKFA8M3TqxYaGefS5X7x1p0NnGw/pw7RJlZBIYcOroFwASdTJMeo6mp2Gvivc2iOsMAAAAU5upHRjuHFaeHX70kWcS9PV9WkFgwCmkXwBI1MkYGH44X67iPXXqcZcBAABgajK1A0P7LmWbcLD+s4eebc5pC0OScArpFwASNdmB4VH7KZ3q8FxLeNLp3DVpD7OgAQAApjxTPDCUmMCwUOsb+z3btBAYcErpFwASNelXGHq+UtWebSreVqrS0lJtKzZh4dhlhiMBAABMA6b8kKTV0XdE6qrSCu6ShFNIvwCQqJNmSNIPj/Tw4UM9euIuAwAAwJRn6k96LrCTnldrS02DmhuPa0fBciY945TSLwAk6mScwwAAAADTgykeGIx3WlSxKde9rerb2tfYoqq1BAacOvoFgEQlMAAAAMB4McUCA+L00y8AJCqBAQAAAMYLAgNikvULAIlKYAAAAIDxgsCAmGT9AkCiEhgAAABgvCAwICZZvwCQqAQGAAAAGC8IDIhJ1i8AJCqBAQAAAMYLAgNikvULAIlKYAAAAIDxgsCAmGT9AkCiEhgAAABgvCAwICZZvwCQqAQGAAAAGC8IDIhJ1i8AJCqBAQAAAMYLAgNikvULAIlKYAAAAIDxgsCAmGT9AkCiEhgAAABgvCAwICZZvwCQqAQGAAAAGC8IDIhJ1i8AJCqBAQAAAMYLAgNikvULAIlKYAAAAIDxgsCAmGT9AkCiEhgAAABgvCAwICZZvwCQqAQGAAAAGC8IDIhJ1i8AJCqBAQAAAMYLAgNikvULAIlKYAAAAIDxgsCAmGT9AkCiEhgAAABgvCAwICZZvwCQqAQGAAAAGC8IDIhJ1i8AJCqBAQAAAMYLAgNikvULAIlKYAAAAIDxgsCAmGT9AkCiEhgAAABgvCAwICZZvwCQqAQGAAAAGC8IDIhJ1i8AJCqBAQAAAMYLAgNikvULAIlKYAAAAIDxgsCAmGT9AkCiEhgAAABgvCAwICZZvwCQqAQGAAAAGC8IDIhJ1i8AJCqBAQAAAMYLAsOk966aKwr13pE29fq2G/satP65LC2uuOTfjpNavwCQqAQGAAAAGC8IDMnwSpkWv7JLl/zahnlDRwuWaMGmWt3ybTcSGKa0fgEgUQkMAAAAMF4QGJJg55HVysiJNzDEIYFhSusXABKVwAAAAADjxZQLDD3tVdqyYbUWL1qojOeWaFlBieq6+oe26buhsxWFWpGzxLQv1IJV61TR7rbH1Rbqd3HBVh1tvzvU75M27cjJUkZRg2doUIcqVpl1G46rZ3B5oVZUtai5yu0ra7lWFB3WpT7b3q9LR9Yp2xT3z2a6Pve2TjwI9+dn9D6MD9pUsWm1Fph+Ml9Zpx2fVem9LALDVNUvACQqgQEAAADGi6l3heH6Ye2oOKyzrW261HpY771iium1h9XptD9U87blpghfrnUVx3W2sVZHK/bp7J1423L13pFa03Zc+zbY5TxVXA+HkXgDgw0BC7Vs0z7VNZ7TiYp1WmCCQbiY7+lqU1WB2WbRZp240qGO6zeGgoCv0fvo1okNC93n2mCe62F9uNYEIM8+cGrpFwASlcAAAAAA48WUH5J06SNb2G9Vs12+c1x5z2Upe2fL8AnCMdrW2SE9H3kmFj+o1fqsLC0Y3D6BwLDIPB/nioL1kvbZUFNw3J2D0K+zRabgj3tIUtQ+7hx2fo6I53p9n1YQGKasfgEgUQkMAAAAMF5MvSFJV45rx6Y8LctZokxTOIeG9WzWWVugt+9Stlle/9nD4Y9NuK1DVa+ZQn1tlXv1Iv7AkFFw2DNB+Yaq1nrXjTIw+D7Xc9rCkKQpq18ASFQCAwAAAIwXUyswdIXOri/YsE/NXXfV29evr5wrDOHAUOIM//EPBSO1+QeGCicwhIc7+QWGS9phrx5EB4bBZetYB4YS81wXan2jZ97GkxYCwxTWLwAkKoEBAAAAxospFRh6GzcrwxTLW1rDxfJDnd1kx/O7gcEdruM/7GiEtge1zpCk7J1RQ5JsOBncPnpokdEd5vR0gaFEXw1uM5JRfZqfY7XZZ0Q46KrSiuh1OGX0CwCJSmAAAACA8WJqXWGw31+QaQrjosNqbm9RXdXbWpzlCQxP7qpu0xKzvFzrByc2b1XVlVhtD/XVzlzTFj3pebVn0rMJJ0Xm8ZnhycbHtaNguTISDgw/6lKF2Vfmcqef5sYWdQzOd/Azus9unSiwP/Nqbamxj3efh31dCAxTUr8AkKgEBgAAABgvptgcBlPYVxVqWZYpoE3hv3rbcV1q3aXswcBgfHBJJ3a+rWX2tquZC7XgtUKduB5HmynEh26rulCL125WVcRtVY13WkyQyA3dzjQnzxT8JrTsXJJwYHj8wPRjinw7ByPzlc2qc+7UFKRPn+Z5VGxyn8crb2ufCR12HwSGqalfAEhUAgMAAACMF1Nu0jPidNMvACSqDQzL/u0lRERExDGXwDAZ7DunD19ZruycKFftinOeA05l/QJAotrA8MO/DyAiIiKOuQQGxCTrFwASlcCAiIiI4yWBATHJ+gWARCUwICIi4nhJYEBMsn4BIFEJDIiIiDheEhgQk6xfAEhUAgMiIiKOlwQGxCTrFwASlcCAiIiI4yWBATHJ+gWARCUwICLOLP/S9b1+VntTP6nu1H84cANnsPY9YN8L9j3h914ZCwkMiEnWLwAkKoEBEXHm+Enn976FI6J9b/i9Z0YrgQExyfoFgEQlMCAizhzTTt30LRYR7XvD7z0zWgkMiEnWLwAkKoEBEXHm+J8YhoQB2veG33tmtBIYEJOsXwBIVAIDIuLM0a9QRAzr954ZrQQGxCTrFwASlcCAiDhz9CsSEcP6vWdGK4EBMcn6BYBEJTAgIs4c/YpExLB+75nRSmBATLJ+ASBRCQyIiDNHvyIRMazfe2a0EhgQk6xfAEhUAgMi4szRr0hEDOv3nhmtBAbEJOsXABKVwICIOHP0KxIRw/q9Z0YrgQExyfoFgEQlMCAizhz9ikTEsH7vmdFKYEBMsn4BIFEnKjD03vxCFZ9v0JunVmnVqTy9WVesP7df8912SvikU8fq1+id8+Nz32pExPHQr0hEDOv3nhmtBAbEJOsXABJ1QgLDo4v6tC5Pm5u/0o37j9R7v1vfXPtC576967/9VPDJXZ3+bI02f9nt346IOAn1KxLH1ep7qu7XMLq67+n/su1HelTz2KwwNeW/VHsfe0tbv/+79OOANp70rjdW31X5I9vL33Xh+m39R2/b4Dbufof16/HYfdXbfX/fq//Hu762VxfM6p47Pfq/vevDxtq//Zl8fuYQP6q65Tu3nxivTRL0e8+MVgIDYpL1CwCJOiGB4dZJbT5Voob7Pm3WgSuqqPujPr3mWecW5NvaHwyt6+9W8/md2libp9Wn1ujNuo917l6cbc0lese0/aH2LW3+4qS+HnwuD/RN28fabPb/h9o1xg3adv6i7sfR1vD5Gm1tn8KhBxFnnH5F4rgaLoofD2jvN73a6vi9Cpq63W2+0//p/tFs8ETlX3i+hfqMKdrN6p57DyOLeeP/1dKvLlOs9zhB45H+R1Vku+M4BoaY+6/q1v+57P6sNwbUY/u6/8j92R/q/9S628V8bSZev/fMaCUwICZZvwCQqBNzheEr7TXF+ta2a+r1a48rMDxSe+Nb+sNnVfry1iMTAh7pznfduv8kdtvXzRtU8MUXuvnILPff1ZeNG/Tm51/ojm3/rsoEiZ06d8duO6De+536+jt3nyO1mX6bP8/TtoueQIOIOMn1KxLH1TgK95802QJc6uq6p5+46/7L9cfq17+rvq0ravsuLb3z79KPj7W3y1bsP6q8yRM0wo5bYIhz/64/+aIv9LN1D/1sg8bzHCdYv/fMaCUwICZZvwCQqBM1h+H+tX/TVnuWvn6nKtov6ub3nvZ4AsODL7SjdoMOdnq2CTtS2/ctpq1Yp92i3/HWSW08VaJzD8y/O20oKFGDDRrex1lHajN++cUf9efL/m2IiJNRvyJxXA04i/5/GrzbuEN8+vv1nC2cq25rx/f2MT9o6THPdtbjD50iv98U+f/l7CN12GLcFPbDhvCMV2CId/+ucQWGkV6bCdbvPTNaCQyISdYvACTqRAUGx/67+vriv2nvZ3/UalPEH7zmhoF4AoNTvO9Rc79nm7AjtdmrBKfscKI/6s1B87Tq1Ps6ccu0P3mg9vPFzvrNX/ybznV6rhiM1GZsb9ygvVeGlhERJ7t+ReK4Gi6KI/i76i9HXjn4HzeemPV2fH+n/mODW4h3Dy/E//M3A+p35g7cMsHijvbaoGEK7pXRwWKcAkPc+3eNKzBEMPy1mUj93jOjlcCAmGT9AkCiTmhgGPSRvvnyfa2uq9I3A2bZNzB060T9GASGkdo89t67pnPn9zhzIDafvxIxdCqo7RsTJiq+HdoOEXGy61ckjqvxFO7GoZBwT//iCQ8R21Xd0g47Edq01d8InZHfe//fnSK76UrUuP84A4Mz4doEhv/Xu/5M6LnYwBARWBLZvytDkggMiEnXLwAkanICg9Et5L+0hfzANR2sy9Ofr3iG9/Rf1Ke1nsBw/wttO7VBB79z272O1OYOV6rwG67kY6/zvHaq2c53SKANEXEq6FckjqvxFsXhYrz/B9U4w5P6QsOTPNv8R3cIkB/OECHPtnHt12xTbrexQ5+ODK3/v9t+cCYqd3TdjbgDUkL7dyUwEBgQk65fAEjUCQkMty7q3OUrunHngXr7H+m+WT7x+R+dicehOw49UvMXeWb5s8GJyXYo0B9OeSc9P3DmDPzhs39T+x0TLJ7Yic3X3LkQI7W5E6Lr/xqaEG37spOXr3WGrhTcuaIvO++q117pMNveubhHBXX79bVdHqntSbfONZZo70Vuq4qIU0e/InFcDRfFcdwJ6L98Yyc6/904vFj/Dwc69VyXvZvS39X0za2h9VV3Q8OC9Fh7I+ZF+O3X2HbXc9XA9HnjibO/nu9/0N7rvdpx4wddsFcdfnysHd67NiW6f9enmcPAXZIQcUz1CwCJOiGB4eZn+nP9W+6Xttn5BO9pW+Nn+sY78fnOV6r4zBT24fbzX6nBhIChwGD8vlMNzcV6p3aN08+b9fvVHL496khtUbdcXe29Pep3ddpRb8KGs98/quCzPTr9rbvPkdoGrulYfZ42np/CXz6HiDNOvyJxXA0XxVHYAnrYROHaXjXZmlxPtPdsVNuRHre4/mHYfIH/fMXOKwiFjMGiPGC/9jao/9nzWDvBemXXgDoe26FGlr+r55Ep4L+8FRlYEt2/a+JzGAJemwnS7z0zWgkMiEnWLwAkatKGJCEi4oTrVyQihvV7z4xWAsNks69B65/L0uKKS/7tOO30CwCJSmBARJw5+hWJiGH93jOjlcAw2RzLwHClTItf2aVLfm04afQLAIlKYEBEnDn6FYmIYf3eM6OVwDDZHMPA0HlktTJyCAyTXb8AkKgEBkTEmaNfkYgY1u89M1qnXmDou6GzFYVakbNQGc8t0eKCrTrafjdgmyVmm4VasGqdKtr7Y7S1aUdOljKKGtQ72FeHKlaZdRuOq2dweaFWH+lQx+mtWrFooTI31Zq2oPXe/Znnm7VEyzbsUt1197lYH7SpYtNqLTAhIfOVddrxWZXey4ovMPS0V2nLhtVabPZnX4tlBSWq67J99+vSkXXKNn0+m+n63Ns68cC/H0yufgEgUQkMiIgzR78iETGs33tmtE6xwPBQzduWm+I3V+8dqdXZxuPat8Eu56lisAgPb7Nc6yqOm21qdbRin87eidUWb2CwhX2usnPWaYt5bFXjjRHWh/aXkfO2KhrbdOlKgyoKlujZnK1qdor3bp3YsND9eRrM8zmsD9eaIGMK/LiuMFw/rB0Vh3W21fTdeljvvWKe69rD6jRtPV1tqiowQWHRZp24YoLM9Rvuz4CTTb8AkKgEBkTEmaNfkYgY1u89M1qnVmC4c1zr7HCdj9qGivoHtVqflaUFO1tC68w2eWab7PCy15HaEggMzz63Tke7wtuMsP5B6PmuqGhT551u3TJ2NpYoO3OhtrSagHPnsPN8In6e6/u0It7AEOWlj2wYMmHEWe7X2SITRhiSNOn1CwCJSmBARJw5+hWJiGH93jOjdWoFhvZdptjO0vrPHnrWd6jqNXtmvco5s+6/jetIbQkEhvBZ/KHHBqx39zc4LMjjOvscfJ/POW2Jd0jSlePasSlPy3KWKNMED6fv5zbrbJ9tJzBMFf0CwH//7/89UL/tCQyIiDNHvyIRMazfe2a0TovAUOEEBrdYby/RgmHbuI7U5hsYLmmHHeYTHRgKjuvW4DYjrDf7Cw4o4faFWt/omdPwpCW+wNAVujqxYMM+NXfdVW9fv75yrjAQGKaafgHAGm9YsBIYEBFnjv+p2vvtxYhD2veG33tmtE6twPCg1hnik70zakiSLZwHhySFCmn/IUkjtJlwsM+GA2/R7w5heurA4D5+wbZzPvuz7Ye12rRHhIOuKq2IXudjb+NmZYSHNjnrHursJjsfIjowlOirqMfi5NIvAISNJyxYCQyIiDPHtFM3fYtFRPve8HvPjNYpN+n5q525piiOnvS82jPp+a7qNi0x65Zr/eDE5q2quhKrzRTcRaYtMzwB+bh2FCxXxmgCg530vNM8v0w7ybpWze1tajb9Vuw87J7179aJAlvkr9aWmganzdlnZhxXGOx3LNjtig6bfltUV/W2Fmd5A8OPulRhXiuzb/vzNDe2qMNdj5NLvwDgNVZYsBIYEBFnjp90fu9bLCLa94bfe2a0TrHAYO323FZ1oRav3ayq6NuqPrikEzvf1jJ7u9HMhVrwWqFOXI+j7U6LCSC5oVuc5uSZQtsU4juXjCIwWLvVXLVZq1+xt3E12yzKVd62WnWE280+Kza5+3zlbe0zhX3V2jgCgw1PVYValmX6NAFo9bbjutS6S9mewPD4gfl5TACx8xsyX9msOuduUDjZ9AsAiUpgQEScWf6l63v9rPamfsLwJDTa94J9T/i9V8bCKRgYEKeXfgEgUQkMiIiIOF4SGCazfef04SvLlZ0T5apdzEuYRvoFgEQlMCAiIuJ4SWBATLJ+ASBRCQyIiIg4XhIYEJOsXwBIVAIDIiIijpcEBsQk6xcAEpXAgIiIiOMlgQExyfoFgEQlMCAiIuJ4GREYAGBqQmBARETE8ZLAADANIDAgIiLieBkRGGzRgYiIiIiIGJbAgIiIiIiIgUYEhvuP/46IiIiIiDgogQEREREREQMlMCAiIiIiYqAEBkREREREDJTAgIiIiIiIgRIYEBERERExUAIDIiIiIiIGSmBARERERMRACQyIiIiIiBgogQEREREREQMlMCAiIiIiYqAEBkREREREDJTAgIiIiIiIgRIYEBERERExUAIDIiIiIiIGSmBARERERMRACQyIiIiIiBgogQEREREREQNNXmC497UO79+kpYvn67/98hn99Je/1rOLX9Ub++vUcs9ne0REREREnHCTEhi6rx/Rit/8k376mxUq2H9Eh882q+5snQ4cMAHiORMensvXges/+D42Pr/Why+8qv03/drGw4ne31Tylg4WLNSGLwZ82hARERFxsjvxgaHXFtf/pJ8tLlGd35WEe2368GUTGhZ/rJZen/Y47G4r0b/8cuIK+IneX9ivD6/Ws5lZEb5y+DvfbZPn8MBw+4vNKqjt8WyDiIiIiJPVCQ8M357O1z/+IksftgVfQXAK8F/8WqtPPxxc17I/Sz99wYQIz3Yhm1Xw62f0rwe6zL9/UMuBV/XsL/9J//Bzj78p0edm2yuHV+gfVx7RhZttKitcoWefeUY/e2a+/vWtEh2OuqIxFvuLfNzYe/6jlXrNBITbjwYG9dsuuUYHhgF9sXO51hIYEBEREaeEExwYflBN4a8DCnGvoasQ/1j4ubrddfEV8CZs3OvSheP5+tkvlmpnW5eu3LSGgocNDD/79VItenmR3jhQp7q2r/X52SN6f6V5Tr/O0wHPFYKx2N/4OqCGbUtU0NDr0+anLdzz9MmFr3WwaLWee26hp2i/pYbyjXolZ4meW7RSq7Yd1fn74cf16kLtdr32ynLTtlC/zVmtgsMXdNtp+1p7Vi3Xtgvhba09OmwCwtDz8gaGXn1Rvk5Zz2Xpf2YtV1bOcr1SfsFZH7wPREREREymExwYrqns5X/Sz96q07e+7WEf6vDaZ/TTl/+iC+66eAt4x7PvmAJ++BAhGxh++vNntOiwZ1vrvc/1xm/+Sc/ubEs4oDgG7G98NYX5hiUqOu/X5qct3Jdo0ap1Kmq4pmuPet2CfEDny1crZ9tn+vqRXe5Rw0erlVX0mb6z7dc+NUFis2pvu/3c/07nvwuHgUQDg13u1fFN3rBiHHEfiIiIiJhMJzgwuPMXPFcO/LVXIkxg8BTsYxYYfrHCp7D/QXXvR175mPyBIVSI/3bREv3WPWO/quhTNdwOGpYU2n7RR1Fn7h81asOi9TocLtat3x3VqqyNqrUBwhTzOTkbddy337ELDMH7QERERMRkOnmvMLw1TlcYfvmOanwmU184sFQ/fWaT6tzlyR8YjI969J1zVcB4/5pqd67Wb1d9OviaRRpduLvas/vP2WFAoSFCjiaE/M/n1umgEyJ69cXB9VpkAslr2/6m2mveM/9jFBhG3AciIiIiJtPpMYfhmQkODHHub8J99Jk2ZOWp/DufthECQ05WsRq86/y0geRwsV4xYeK1g1+PMIchtJ/EAoOr7z4QERERMZlOcGCwd0nKi3mXpPtff+x/l6TnfO4+dK9GK37xT/EHhqAhSTbILP7LYEAYi/1NuPdPa21W+MpAtAGBwQkZq/XJNc+6kbRXJLI2h4YrPb6mT1bZeRTePi9oW07swPCaX2AIG7EPREREREymEx4Y7ve2heYxvGyKcb/vYTDtO32+h+HK4Vf101/m6UDUY749bgLIz6MK+OZNJpQsVdn1yG2dwPDzZ7R02KTnOq3+dWjS89C2o9/fuPromhq++Fpf3w8V4rfvf63DRSv13IbTuha9rWNAYLC3Of3IPG5t2dD8Bzvp+MJ3oTP8t7/WF9d6BidIX/uiWIte2a3z7rK9U1NW0enBCdPnD6937sAUHBjs7WCXD02qto64D0RERERMphMfGIyD3/T83Kt6/0CNaprb9Hnz5zp8YGvwNz3fPKKlz/yTfrX2Yx1u+1otX7ep5vAm/evipfrfv4kaImSvAphtn33roOq+vqaWtmvOnAknMDyTpX95YZHeOPy5PjdtnzcfUcHLv9ZPf5Ovw94rBGOwv8H28fCRvT1qnhYtWqj/6cxByFPBR6d1IfCsfFBgCLU1HNysVa/YCdTubU0PXggV9N/VaMPa5fpt1kI9t2i5cgqKddg7x+D2ee3ZYAKHbX8lTxsOntfxnctHDAz3b3+mIqfPJcr56ELsfSAiIiJi0kxKYHC897UO739HSxfP1z/+woSHX/xazy5+VW/sr1OL35UH47dtB/XGyiz9t18+o3/8TZYWFf5FdTe7dGBNVAFvvHK2RCte+F/62S+e0a8Wfzz4xW0//fVW1V3/XDvfWhr64rZf2y9u+1g10QHFONr9edsREREREaeiyQsMSdAJDL8cmtiMiIiIiIgjS2BARERERMRACQyIiIiIiBgogQEREREREQOdUYEBERERERETk8CAiIiIiIiBEhgQERERETFQAgMiIiIiIgZKYEBERERExEAJDIiIiIiIGCiBARERERERAyUwICIiIiJioAQGREREREQMlMCAiIiIiIiBEhgQERERETFQAgMiIiIiIgZKYEBERERExEAjAsPl6zcREREREREHjQgMAAAAAAAAXggMAAAAAAAQCIEBAAAAAAACITAAAAAAAEAgBAYAAAAAAAiEwAAAAAAAAIEQGAAAAAAAIBACAwAAAAAABEJgAAAAAACAQAgMAAAAAAAQCIEBAAAAAAACITAAAAAAAEAgBAYAAAAAAAiEwAAAAAAAAIEQGAAAAAAAIBACAwAAAAAABEJgAAAAAACAQAgMAAAAAAAQCIEBAAAAAAACITAAAAAAAEAgExgYbuv4m1l6duluXXTXWHrPrFdG5nKVtD0OrRj4To2VG5W7dKEyXliil9/drYZOt83Qe/lv2vruGr30omlfYNrf2q6GW+H26zrw+4Vac+y6vj1TrFyzTebmOvW6rQAAABCM/Yzd9OZyZS7IMp/By5VrPoMbe2zLYzUWL9SzL26P+Ay/uHuJnl3wvlo9yxnvHtXFM9v1xu/Mv+3n9Ob9utjznRr2rtNLL9jP9pUqqGzVPfcxADD5mdArDL3nNirThoPL4QL/vmrfNQeg3+3WVWf5kVq3L1fG0vU60NKuq9+c1YG3zMFoabFaw1V/51HtrjyqxjbT3nZUm35nDmpvHlW302gDQ5Yyf7dS2UvXaWvlfh1q+c5pAQAAgBEYaFXJi+Yz9K29arzcrostJ3Ro71FdHbCN8QeGZxcs1POvb9fxlrOqrVyn5zNNny8sUe72v6nBrDuwebmezVwydKIQACY9EzskaaBRW83B6PntrXKOPz0nVLAgSy9XX3ea1Rtazq1sV3fPbd0zdrdsV3bmQm0NOLBc3WsOPAtMoHCWQoHh2QXrdPyWswIAAADiYeCsNr1gPqPfPapvnQ9pLwkEhsyV2t/prlC7di+1owvM48J93vqbck2IWHOME3oAU4UJnsPwWBdtgf/i+2o0B457Z9YpIzNPh8LF/eXdJhyYA4uPBedCz6/3mxPavTlPLy9d4lwyddrNwcr2Fw4MQ1ccAAAAID4e6+qx0BWBZ+2wob0ndLEnfLIukSsM4c9ky3c69Lr5XH7rxNAQpPDJwfDJQgCY9Ez8pOfO/Xo5c6E2tVzX8bfsQeTo0EHksr2akKUNbjgYxq2jesMcZJ5/d79ab93XwIAbQKIDg/fABAAAAHEzcKtRx3evU7Y9KffietU6J/X8AsNjtW4363wCQ3h5MDC8e2JoPiGBAWDKMfGBwZ38/Py7G03xv1AFZ+676w09J0KBYHtjaMhSFAMt7ysjYnjSIzVuDh2sCAwAAABjx8A3u/VyZpbeOHnbWW7dHn31wHzmmjBAYACY/iQhMJhjxZn1ynQueW5UQ8QtjB6pdbedDLVcBZV1ar3crtaWEzqw+2hoUvQ3e/WSedxLxUdNW6saqtc7d1wgMAAAAIyS3lYd2vs31ba06uI37WqstsOTlgyepLvn3NVwoXK3H1Vjy1kd352n5+1VCAIDwLQnKYFBvXXOwcL/SsJttVa/rzXO7djMQebFlXpje52+ddoe6WL1Rr38glm/YLnWbD+hq227lU1gAAAAGB0DV3Ro8xplm8/YZ00weP5367T1WLvn1uTfqXHw1qihz+CLZ943n8cEBoDpTnKuMLS8r+cjbq8KAAAAAACTkQkNDPe+aVTjuf3asDRLGW/+bWLuZDTQqJLfLVf20ih/H/kFcgAAAAAAMJwJDAyP1ehMmLLf3rxXrc43RwIAAAAAwGQmOXMYAAAAAABgSkBgAAAAAACAQAgMAAAAAAAQCIEBAAAAAAACITAAAAAAAEAgBAYAAAAAAAiEwAAAAAAAAIEQGAAAAAAAIBACAwAAAAAABEJgAAAAAACAQAgMAAAAAAAQCIEBAAAAAAACITAAAAAAAEAgBAYAAAAAAAiEwAAAAAAAAIEQGAAAAAAAIJCIwHD5+k1ERERERMRBIwLD4yc/IiIiIiIiDkpgQERERETEQAkMiIiIiIgYKIEBEREREREDJTAgIiIiImKgBAZERERERAyUwICIiIiIiIESGBARERERMVACAyIiIiIiBkpgQERERETEQAkMiIiIiIgYKIEBEREREREDJTAgIiIiImKgBAZERERERAyUwICIiIiIiIFOcGDo1632w/pww2plZy1UxqJc5X1Uq84+zzZ9HTqxc50WZ2UpI8u2N0S2O3br7M7VyszZpUsR6+/q0uldWv/aci2w/Wct1+qiKn31wLuNj6PaZ4BP3WeHKlZl6dlMfxdXXAptF6v/uPbvcbr3N1J7e4kW+LzWz2Yu1JZWTx+IiNPaqM/orCVaXLBVR688DLXfOa685/yOlVlaVtURuz1W/zHbh55n5+nNWpaVp6ou73o/H+pSzWatyDH9PbdEyzaUqflOIu2IaJ3YwNB3SVVFW1XVekO9Zrn3TpsqCswB4SO3CDYHga925ip703F1POjX4wcdOrppuZaZItlu72zzoE1VG3K1etPbWvxKVPH+oEUVH1Xp7PW7oeW+G6rblqsFmxrU490uwlHu09ex6NM8zgSgExsWKq+m2zzOLg+1jdx/HPuPcLr3F3t/vX39EXaeflsLVpnfy0ghBhFxWtmtsxW7dNR8Roc+Mx+qo6ZQC3JK9FX4WBh1rOzta9O+Vbna0W6OrTHbY/Ufx/7N52JzRZ4p7AuVtyh2YOhp3KzsVVt1tsuEjr67+qpqnRasrVJnnO2IGDLpQ5J6GwuVufZw6I+z75y2RB8AuvZpxaKtanYPFp01m7XldId6r5v1cRTvveZgkPnaCH/847DPsevzoeo2mcBw2g1AYWP1H3P/Hapau0QrnDM+cWw/4f1FOdr+Et3fnVqtz1mtfVfcD0BExJnqg+Nal/W2TgRcqe9t3KrsEQrsWO2x+o9u772yT+t32ivEbdqRE3VcH6Y96bZE6z7zfoaax72Sa47v8bQjYtikB4bOmjwtKGoInem1xbM9kxCxTYs+XLRaFde964wxi/d+9Vxv0I61uVp/utun3XVM9+k6Zn0GBIZY/cfcf7fOflSoDxvd12XS9RflaPtLaH93zWturz60BVztQEScGfY+6FDdttVatu1cwFX6bh0tWKL1EQV3/O2x+h+5PZ7A0KYPc6KP897P1Vjt3vWIM9vkBoYHpmgzSX7wUmb7LmWv2qeOiO06tG/Vcn3Y7l1ntEWgb6F9Q1VrFyrDjpt8brnWVbXo1rBtPI7JPqMcsz4DDlyx+k9k/9bp3l8C+7v1WaHZ1vw+/K48ICLOAC99lKsMZy7CQi0rqtKloKsLV3Zpmfn8GhouFF97rP7j238cgaHvnN7LWqejUXMSvtq5JDSnIla7Zx3iTDd5gaGvQ0ftGP6qoXHkdvJp3IVkzOK9Xz1dLTpaZMeu1waHhjHdp+uY9RkUGGL0n8j+rdO9v3j3x1AkRMRB7Rn+5qq3lf1KiZqHFe13VVe0RKuP3IhaH297rP5jtccTGBoCA4EzhDZWu2cd4kw3OYGh74ZObMrVio9aIi8z2uI53qEj8RbvD2q1zj0g3Dq9LnTlwbrI3c8o9zkefQ45XkOSopzu/cW1P4YiISIO94aqXluo9xqj7lTUVaXViwpV53v23xirfdCA/mO2P/2QpLP2c7XGDqGN1e5djziznfjA4IaF1RVRYcFp85ucWuU/OdUWgfEEBnubNxMYTkSdQRh0PPY5Zn0GBIZY/Seyf+t07y+O/TEUCRHRzw5VOAW798qrvfPcci3+KOgES6x2r379x9MeT2CwJ4Ki51BcciY173AnPY/cjohhJzYweK4s3Iq69Vpom35dqsjV4qLj6nAKvQ6zfcBBx6/Qvn5Ode0dTt92uffBJZ0oytWCDcdHmMcwyn36OlZ9Bk2+itV/rPaoScrTvr8Y7c5QJPMB0Xo34j059L5ERJwBms/Ms41t6rS3n7bLfd366sjbys7ZqrPeKwXmmLku+iSM16D2WP3Hu39H/8DQeXqr1ntOSPa0btXiVSU622X7vKtLR9ZpwWtDQ1RjtSNiyIkNDOYPMzM8fCdCzy3M7HcnOF+wZb+0JVd5O2tDRV50X76BoXboC1+eW6jMnNVa95FbJHq3i3Y0+wxyTPoMCgzGWP2P2O7eBvWIZ4zmtO5v5PZbNZ5hZVGu5rI0Is4U+y7p6LZ1WrbIHCefs19yab/8tMwtpoe266ha7dzd0O/ORiO2x+o/zv2H9AsMoZNDkScJ7Xc5bNXqwS9m26Wzd7z9xWpHRGvyJj0jIiIiIuKkl8CAiIiIiIiBEhgQERERETFQAgMiIiIiIgZKYEBERERExEAJDIiIiIiIGCiBARERERERAyUwICIiIiJioAQGREREREQMlMCAiIiIiIiBEhgQERERETFQAgMiIiIiIgZKYEBERERExEAJDIiIiIiIGCiBARERERERAyUwICIiIiJioAQGREREREQMlMCAiIiIiIiBEhgQERERETFQAgMiIiIiIgZKYEBERERExEAJDIiIiIiIGCiBARERERERAyUwICIiIiJioAQGREREREQMlMCAiIiIiIiBEhgQERERETFQAgMiIiIiIgYaERgAAAAAAAC8EBgAAAAAACAQAgMAAAAAAARCYAAAAAAAgEAIDAAAAAAAEAiBAQAAAAAAAiEwAAAAAABAIAQGAAAAAAAIhMAAAAAAAACBEBgAAAAAACAQAgMAAAAAAARCYAAAAAAAgEAIDAAAAAAAEAiBAQAAAAAAAiEwAAAAAABAIBMcGB7r3uWjKnl3jbJfWKiMF1fqjb116h5wmy0D11W7e51eeiFLGS/Y9rOR7Q631bh7jTKX7tZVd40fA5e366UFK7X/G3dFEGO4z0Geus/rOvD7LD2b6e9LlVdCm8XqP679e5ju/Y3Ubt4nz/u81s9mLtTWNncbAICZRu9ZbVqapTXHvnNXWB7p6sn3lbvUfIYvWKKX392r1h63KYw53jZUbtSa3y1Rpvmsf/6to+p2mzTwnRr2rtfLL5rHv7Bca7b/TRd73bZBHqv7zPt6+YU8HbrlrhpklPuP5pvdyo469me8e0LDnpLF9/UAmBlMbGAYuKJDxcU61PadbK020NOuA28t0Ut73SLYHCQu7l6p7M0n9G3vY/PHeV3HNy/Xy6ZIHqz9ett16N2VWrN5vV763QjF+0CrSl7PU+7vYgWGMdznIGPRp3mc7qv23YV64+Rt8zi7HCZW/3HsP4Lp3l/s/Q0MPI6w+8x6Pf9783vxf0IAANOc+2ooNp+hr5ui3lMg97a8r+zfF6vxlqkZBu7rYvU6Pf/m3zyB4LoOvblEubvrQsfbCB6p1RyLXyq2x2K7bB5/zHwGRhT099VamWeCwEa98eLwwDC6/Q9noO19Pb+5Tr3ezwC3LRL/1wNgppD0IUkDLRuV+aZ7sBho1NboA8St/cp9sVit7l9w98n3tfXMdQ10mvWBxbs9KK1RwclGHXg9RmAYs316GMOfo2GzCQxn7rvLLrH6j7l/94Bafd1pmnz9RTHa/hLdX0+dNixdY943sT9sAACmI/fOva/c4rNq2O0tkO1JrCUqOOf9TGrXbs+JuXv2ZEvgGf3W4cdifWc+P1Zqt/v4gW/2a8NuewXY9Ls0etvR7n84vXb73a3uUjD+rwfAzCHpgaH7ZJ6eN3+ETt1mi+el23XRaQnTqpIX1+hAp7sYZoRCu7dtu3LfPWEOGNdjB4Yx2mcEY9ZnQGCI1X/M/d9W496NKmm57bRMvv6iGG1/Ce3vvnnN7dWH9oCzTAAA0xx70uT199XYa6/OegvkdpUsjT5uej+nAj6zwgw0atML63Q8IgQ8VmNx6Ep6JH6BYZT796H7WJ5ztXlEAl8PgJlDcgNDrynafrdSuy+7Z3Iv71b27/fr29CSy3Xt//1ylVx2F8PYItCv0O5t1NbX16vWGdMYR2AYi31GM2Z9Bhz8YvWfyP4t072/BPZ379xGs635fZAWAGBGclu1m9doa0vocyeiQA4X/FFzBi7uXqKXnSvM9ri6UiVn6rT73TV6aelyZf9unVm+7p6AMX2/u0S5le3uHIHH6m7ZqzUv+s0L8AkMo97/cL6tXqmMF5boeTuv0vz35beKdeiy9zN3hNcDYAaRvMAwcF3H7Rj+as+49cvb4y8kfQvt+2rcvkYbzoTPVMQTGEa7Tx/GrM+gwBCj/0T2b5nu/cW7P4YiAcAM596Zjcrd3jg46TcyMJwNLNhDQ1LbVfLiQmVv/puuuh0M3KrTpt/ZY617XO1p1QFTgGe/uMQU8+bzuvqsDpnPuYJhVwX8AsMY7H8Yj9QbnuswcF9Xz7yvlzxXQUZ8PQBmEMkJDAPfmcS+Url7WyPvRGCL53iHjvgU2r0txXrZDkUasH/8xoErTmAIX8G4d2adMsJ3QnjR3c8o9zkefQ4REBhi9Z/I/i3Tvb+49sdQJACY4fScUIGdUNzjfoYaW50COXyG3n9IUKP9nHKGFF3RfjtqIOok3dW99tjqznEbhn3McvM57S4OEv+QpNHtP5rbOv6WG2Bivh4AM4eJDwxuWFhTGRUWLL6TU//mPznVFoERhXZoHKT31mheM+xdENwtIxjVPgMYsz4DAkOs/hPZv2W69xfH/hiKBAAznXsnPSfAon3BHC+dEytLtCFi0vEVZ9JxqEg3xXvxcm1q8dYToXH/uabI9mPgm9162Z7QGXbs9QsMY7//4dhJ2AvNPh7F8XoAzBwmNjB4rizc897CzLkiYHmsq5XuLdecQu+62X65Xtrrc9Y3ruI9jiFJY75Py1j1GTSBK1b/sdqjJilP+/5itDtDkcwHTtv9iPfk0PsSAGBmEj0Ep7etWC/9frsab9nj431dPbZOz78+NORz4LIJAL9/Xw2dtqZ4rN7L+0O3R424KmAJfS+THS606Vz4WO/FLzCMfv/dZ4q1YfCEpXl8S6u+7XkU+iwYuK2LxzYqe6kJA75nGBmSBDOXiQ0M5g890y+pZ3qKevulLs4XbNkJSCv1hr2Xcqjqi2TMAoNhTPfpMiZ9BgUGQ6z+R2x3b4PqPeMyrfszjNA+0lmkNcPu3AEAMHMYXiA/0rcni7Vm8IvTdrtDdsLYicy7VfD7JcpcsFDZr2/UgTbPcdTOKXvBtL24PDTB2NsWgX9gGN3+QyePnn/3hO45y/Z7HNYr9CVwWeY5rdSa4v1uGPGHwAAzleRNegYAAAAAgEkPgQEAAAAAAAIhMAAAAAAAQCAEBgAAAAAACITAAAAAAAAAgRAYAAAAAAAgEAIDAAAAAAAEQmAAAAAAAIBACAwAAAAAABAIgQEAAAAAAAIhMAAAAAAAQCAEBgAAAAAACITAAAAAAAAAgRAYAAAAAAAgEAIDAAAAAAAEQmAAAAAAAIBACAwAAAAAABAIgQEAAAAAAAIhMAAAAAAAQCAEBgAAAAAACITAAAAAAAAAgRAYAAAAAAAgEAIDAAAAAAAEQmAAAAAAAIBACAwAAAAAABAIgQEAAAAAAAIhMAAAAAAAQCARgeHxkx8REREREREHJTAgIiIiImKgBAZERERERAyUwICIiIiIiIESGBARERERMVACAyIiIiIiBkpgQERERETEQAkMiIiIiIgYKIEBEREREREDJTAgIiIiImKgBAZERERERAyUwICIiIiIiIESGBARERERMVACAyIiIiIiBkpgQERERETEQCc4MPTrVvthfbhhtbKzFipjUa7yPqpVZ59nm74Ondi5TouzspSRZdsbItsdu3V252pl5uzSpYj1P6rzyGo9m5kV4YojNyK2GeYo9+nrU/fZoYpVkc/f6+KKS6HtYvUf1/49Tvf+RmpvL9ECn9f62cyF2tLq6QMRcbp7ZZeyo46FGRuOq8e23TmuvOci28Iuq+qI/Xhjb9c5VWxbp2WLTA2QtUQrNpXp7B13344Pdalms1bkmPbnlmjZhjI1J9Tu8UGD3svJ0uqRaoC+G6r76G33+SzX6m1V+uqBz3bWePpDnKZObGDou6Sqoq2qar2hXrPce6dNFQVLtPgjtwg2geKrnbnK3nRcHQ/6zR9nh45uWq5lpki22zvbPGhT1YZcrd70tha/Mrx4v/SRKQbNH3NvX/+g3vbhjn6fwx2LPu3zvqsTGxYqr6bbPM77c8TqP479Rzjd+4u9P+/7xdp5+m0tWGV+LyOFGETEaWZv62Yt2FSrHu8x0buNd71jm/atytWOdnNsjfn4h2quKNSHp9t0yx5b+7rV/FGeMtdWqdPdpqdxs7JXbdXZroem/a6+qlqnBQm0D3lXdUV5WvGaCQGBBb55PuazYXGR/Wywy6a/I+YzueDwU/aHOH1N+pCk3sZCc7Bw/zj7zmnLojxVdXm26dqnFYu2qtkt3DprNmvL6Q71XjfrhxXa/WretkTrPzMHkoj1Izjqffo4Zn0+VN0mExhO341cH6v/mPvvUNXaJVoRPiM06fqLcrT9Jbq/O7Van7Na+66EPgAREWeKPfZkyc4W3zY/exu3Kttb0Cf4+Md3Disvq1B1bsF+YsMSrfvM+5nXph2v5JrjcTztQ976bLNWFDWobudIBX7L8M+GJzfM55kJQE/VH+L0NemBobMmTwvMH6FzBsIWzzkl+ipimxZ9uGi1Kq571xl9C+3QweTDRIaRjHqfPo5ZnwGBIVb/MfffrbMfFerDxu5Q26TrL8rR9pfQ/u6a19xefWiLPKuGiDgD7DyS51x99WsbbreOFtiTdEOfUYk93nilTMsGj89t+jAn+rjs/RyM1e6usyd9Xtussw/s1eURCvy+c3ova52ORgSGfp0tCl3ZH1wXb3+I09jkBoYHpmh7ZehS5uP2XcpetU8dEdt1aN+q5fqw3bvOaIvAYYW2PXgtVOaiJcp8zo5VN3/YRfvUfGeEM8Wj3qePY9ZnQGCI1X8i+7dO9/4S2N+tzwrNtub34XflARFxmttRlevMLVhg5xma/y4r2Kqq9qjPINfeK7u0zHx+feU5Xiby+NAwH1uAD12ddgr4qDkJX+00/dgr2LHaneVundi0WlsaQ/scucA3225YohUVbe4ci351NpZp9SLvPIVE+kOcviYvMPR16Kgdw181NI7cTj6Nu5AMKrT77qonfPB60BGaVDysT49jsc9ox6zPoMAQo/9E9m+d7v3Fuz+GIiHijPeheuxcL/tv83l66fRmLR52Ft5qi/0lPsVzvI9/qEtVeVq84fjQfIG+hsBA4Ax5jdVu/n3rdKFWbDs3OMk6ZoF/p0UVJhBkL1qi7FdWa31Vg6rM5+4693M34f4Qp6nJCQx9N0xiz9WKj1oG/wgdbfEc79CReIt35wATGqN46/Q6ZYTv3LDI3c8o9zkefQ45XkOSopzu/cW1P4YiISION3TlPlxAD9pVpdWLwnMPRtLv8TYsrNPigqqoq7n+Q47O2s9BZ4hQjPY7x7XOToh2RhWEbHYK/I4EjuuXtO+V5dphTyaNSX+I08OJDwxuWFhdERUWnDa/yalV/pNTbREYT2B4UKt1PmckBh2PfY5ZnwGBIVb/iezfOt37i2N/DEVCRPTTTgJeGHUzkdBY/sUfxXOCJfrxQWHBak/cRM6JsAW8ndQcmoQ8cvutGs8JvGizzPF+8DHBOsOs7Akm89zGoj/E6eLEBgbPlYVb3luuGUPb9OtShXuLM6fQ6zDbBxyU/Apts31z4yV1updDex9c0omiXC3YUKtb3u0iHOU+fR2rPgMCQ8z+Y7VHTVKe9v3FaHeGIpkPnNa7Ee/JofclIuJM8K4uNbao487D0LGxr1tfHSlUdo4pjr1XEswxc130SRjHWI8Ph4V9umQ+p/2OtT2tW7V4VYnOdtl1pr8j67TgtaEhpbHao40eQtR5eqvW+52wNJ8T9nui3ntlud77LPzZM1yGJOFMdWIDg/lDz/RL6pmeW6LZL1FxvmDLTpjKVd7O2lCRF92Xb2C4pKNFeVpsv4DluYXKzMnT+o8CHu91NPsMckz6DAoMxlj9j9ju3gY1PNFs2vc3cvtIZ5FWe++UgYg4rbXfa/C2Ql+KlqXMRbnOjUNCxfnQdh1Vq527Gw4vumM8/kGt1gd88dtQEf5QHTVbtXrwi9l2uUOCwvuI1R5pZIEfOnm0YMPxoZOIdo5b1hLzXJeHJmi3jnzMJzDgTDV5k54REREREXHSS2BARERERMRACQyIiIiIiBgogQEREREREQMlMCAiIiIiYqAEBkREREREDJTAgIiIiIiIgRIYEBERERExUAIDIiIiIiIGSmBARERERMRACQyIiIiIiBgogQEREREREQMlMCAiIiIiYqAEBkREREREDJTAgIiIiIiIgRIYEBERERExUAIDIiIiIiIGSmBARERERMRACQyIiIiIiBgogQEREREREQMlMCAiIiIiYqAEBkREREREDJTAgIiIiIiIgRIYEBERERExUAIDIiIiIiIGSmBARERERMRACQyIiIiIiBgogQEREREREQONCAwAAAAAAABeCAwAAAAAABAIgQEAAAAAAAIhMAAAAAAAQCAEBgAAAAAACITAAAAAAAAAgRAYAAAAAAAgEAIDAAAAAAAEQmAAAAAAAIBACAwAAAAAABAIgQEAAAAAAAIhMAAAAAAAQCAEBgAAAAAACITAAAAAAAAAgRAYAAAAAAAgkAkODI917/JRlby7RtkvLFTGiyv1xt46dQ+4zZaB66rdvU4vvZCljBds+9nIdofbaty9RplLd+uqu8bLwK1GHdi+Ti8vXaLMF5Yot/qK2xLAGOxzGE/d53Ud+H2Wns3096VK92eJ1X9c+/cw3fsbqf3ydj3v81o/m7lQW9vcbQAAZgyP1X3mfb38Qp4O3XJXuQx+vr5oPsPt5+vmvWrscRstA9+pYe/6wc/fl958X4cu33cbXczxuKFyo9b8zm6zUM+/dVTdblMEvWe1aWmW1hz7zl1hCPfv7H+51mz/my72um2DBDz/nhN6Y4HfsT5LL1dfdzeKIsb+Yr4eANOEiQ0MA1d0qLhYh9q+k63VBnradeAtc0DZGy7oH+vi7pXK3nxC3/Y+NgeL6zq+ebleNkXyYO3X265D767Ums3r9dLvfIr3WydUsHSlNp28onvegjGQMdjnMMaiT/M43Vftuwv1xsnb5nF2OUys/uPYfwTTvb/Y+xsYeBxh95n1ev735vfi/4QAAKYp99VamaeX392oN16MDgyPTNtGlZxpD32+DtxW6948Zb75t8GC/9vKlXp+81FzrLVLj3WvZbsppjeqMVxkm7Bw6E1TWO+uCx2PA7mvhuI85b5uivTBwGD2b47lLxXbY7ldvq+Lx8xnaETgGOn5G6KO9QMD7dr/+5XafdnvucTaX+zXA2C6kPQhSQMtG80fl/vHN9CordF/4Lf2K/fFYrW6hVv3yfe19cx1DXSa9cMKbfPHu32kwtOHUe/ThzHr85EaNpvAcCb67EyM/mPu3z1gh8+oTLr+ohhtf4nur6dOG5au0f5vRvowAwCYfgx8s18bdtsrsO3avTTquOlHz1G98cJGNbgBobF4oQoiPrNaVeLp5549GRN0RcHDvXPvK7f4rBp2ewND6/Bjub4znz+m4P8mtJTo8x9oKVZ2YIEfe3/DiHg9AKYPSQ8M3Sfz9Lw5KDh1my2el27XRacljDnYvLhGBzrdxTB+hfZAwLYjMdp9+jFmfQYEhlj9x9z/bTXu3aiSlttOy+TrL4rR9pfQ/u6b19yGzvb4QycAwLQjzsDwzV697Dm+9ra8r+zXd6u1x55weaxvT26MOCPv+5kWjT1p8/r7auy1V4c9gWGgUZteWKfjEc8pFFLslfhI4nn+t3X8rSXacC7g+SS0P5eo1wNgupDcwNBrirbfeS4FXt6t7N/v17ehJZfr2v/75Sq57C6GsUVgdKHtJPv3dbxlrznYrNRLS5eHxk9+M8LPNtp9+jFmfQYcXGP1n8j+LdO9vwT2d+/cRrOt+X2QFgBgRhNPwW2HDdmC3jv+PzR/4KUXluvl3y/RS3Yo6ODx1B53V6rkTJ12v7vG+YzO/t06s3zdc4Lmtmo3r9HWltDnXkRgsG3vLlFuZbtCJ/DNvszn/ZoXo+Y5OMR+/gPf7NbL5vP3YuDxPpH9WfxeD4DpQfICw8B1Hbdj+Ks9w4cub4+/kPQrtM26lxcs0RuVrYPzF+612fGT9kxFaHkYo92nH2PWZ1BgiNF/Ivu3TPf+4t0fQ5EAAFxiFdyPdLU6Ty+9eyJiOM9A5wlten2NNh07q8Yze7XBHGftZ3LoI7hdJS8uVPbmv+mq+5k8cKtOm35nj8Wh4+69MxuVu73R3T46MBh6WnXABIrsF5eYsLFGG6rP6pD5nIwcBmWJ9fxtcb8koPD3EPf+/F8PgOlCcgLDwHeq3bxSuXvDBxEXWzzHO3TEr9C+9TeT/KPHpX+nQ68vcQrDe2fWKSN8V4QX3f2Mcp/j0ecQ4zUkKYrp3l9c+2MoEgDAECMV3LY4XqeX3jKFf8QB87r5vF2urS2eesJOKh5cd0X77aiCqPH/V/faY+91U5yfUMHvi9XoDmeytjqBwXsFIhrb53LtHnayKUZgcOqFp5lr4Le/oNcDYPow8YHBDQtrBs84ePCdnPo3/8mptggcVmibInDpOh2PuKVZ6Ezy8IOJy6j36cOY9RkQGGL1n8j+LdO9vzj2x1AkAAAvQQX3CMXxwFltemG9aqM+3O1VglznTP4jNRYv1yZvoDChINR+XfdOek7ARfuCOV67j/DiDCuyJ4SGHbtHCgyhfb60N/ETRMP3R1iAmcHEBgbPlYV7Ubc2C/FYVyvdW5jZPzx77/zNAX/UAYX2t/aS4Oaj7uXOR86EK1sIBo9RHP0+hzNWfQZNEIvVf6z2qEnK076/GO3OUKSV2t12P+I9OfS+BACYafgV3OHieL/5jPU7VoYmEa+pDo/5N4fbzhOh46s71HPgsim4f/++GjptzfFYvZf3h25/6nd12TBsSNIgoe91ssOZNp3zm4A8QmAwx/yC6JNILt1nirXB74Sm7/5ivR4A04eJDQxtxcr0O3OQuVL7w5co7ZekOF+wZb8EZaXesPdqDlV9kQQW2vfVWr1RuUtDX6Ly8ru71XArxh/vqPfpw5j0GRQYDLH6H7HdvQ2qd2LWtO7PMEL7SGe11gTdCQMAYFrjU3D31mlDwBefDRb1Pa065Hxx6nJl2xuPvL5R+1tC370Uwk4c3q2C3y9R5oKFyjbtB9qCj7PDAoOdk2Y+2zNfXK6X37Lf6xT02ODA8G31GufujH6hwJ5cev7dE7rnrhlxf/G8HgDThORNegYAAAAAgEkPgQEAAAAAAAIhMAAAAAAAQCAEBgAAAAAACITAAAAAAAAAgRAYAAAAAAAgEAIDAAAAAAAEQmAAAAAAAIBACAwAAAAAABAIgQEAAAAAAAIhMAAAAAAAQCAEBgAAAAAACITAAAAAAAAAgRAYAAAAAAAgEAIDAAAAAAAEQmAAAAAAAIBACAwAAAAAABAIgQEAAAAAAAIhMAAAAAAAQCAEBgAAAAAACITAAAAAAAAAgRAYAAAAAAAgEAIDAAAAAAAEQmAAAAAAAIBACAwAAAAAABAIgQEAAAAAAAIhMAAAAAAAQCARgeHxkx8REREREREHJTAgIiIiImKgBAZERERERAyUwICIiIiIiIESGBARERERMVACAyIiIiIiBkpgQERERETEQAkMiIiIiIgYKIEBEREREREDJTAgIiIiImKgBAZERERERAyUwICIiIiIiIESGBARERERMVACAyIiIiIiBkpgQERERETEQCc4MPTrVvthfbhhtbKzFipjUa7yPqpVZ59nm74Ondi5TouzspSRZdsbItsdu3V252pl5uzSJc/63sbNysjM0rPDXKIP272Pj3IU+wz0qfvsUMUqv58h5OKKS6HtYvUf1/49Tvf+RmpvL9ECn9f62cyF2tLq6QMRcTp757jynvM7FmZpWVVHaJu+G6r76G0ty1mizKwlWrx2s6ra70b11a/O05u1LCtPVV3e9cYru5Qd1XfGhuPq8W4z0uNH8kGD3svJ0uojN9x1UTWHfb4FW3X0ysPIxyFiTCc2MPRdUlXRVlW13lCvWe6906aKAvMH/JFbBJs/7q925ip703F1POg3f/wdOrppuZaZItlu72zzoE1VG3K1etPbWvxKdPHer96+KK9XaXXOZp194N3O62j36edY9Gke9+SuTmxYqLyabvM4uzzUNnL/cew/wuneX+z9Rb9vOk+/rQWrzO9lpBCDiDjdjDoW9va1ad+qXO1oN8dO095RkasFmw6bY6nd3hTkjSVatqjQ8xl7V80VeVq2oVB5i4YX/L2tm83ja9Xj3YenPdbjg72ruqI8rXhtuScwdOtsxS4dNTVHKJA8VEdNoRbklOgrju2ICZn0IUm9jYXKXHtYnXa575y2RB8guvZpxaKtanb/uDtrNmvL6Q4TBMz6mMV7vy59lOsUhv7txjHfp3HM+nyouk0mMJyOOnsTq/+Y++9Q1dolWjF4xmiy9RflaPtLdH93arU+Z7X2XQl9QCIizlR7G7cqe21V6DPafKaeLVqodRGfSS36MGfo+Np7ZZ/W77RXcNu0w7M+bI89GbOzJWKd11iPD/LWZ5u1oqhBdTu9gcHHB8e1LuttnQg8iYiIfiY9MHTW5GmB+SN3zjDY4tkm/4htzMFo0WpVXPeuM8ZTvD9o0PpF63R0pAPOWO/TOmZ9BgSGWP3H3H+3zn5UqA8bu0Ntk66/KEfbX0L7u2tec3v1oS3qrBci4kyzW0cLlmj9Z0OfQT2Nm5X92i4137EnVPqdM/aLC9yTfhH6F/ydR/JGPok3aAKBwZ7kec2OJLBXk4MDQ++DDtVtW61l285FDYFCxFgmNzA8MEXbK0OXOh+371L2qn3qiNiuQ/tWLR8+B8EWgTGKd3tgyjZhZMQDwxjv03HM+gwIDLH6T2T/1uneXwL7u/VZodnW/D78rjwgIs4ge6/s0jLz+RQ5fCc0v2Bx1nItW7VEi+1QT9/jpX/B31GV68wlWODOKVhWsNVnDoQ13sDQrRObVmtLY6gPv8BgRxpkOHMzFmpZUZUucXUBMWGTFxj6OnTUjuGvGhpHbiefxl1Ixire+0JhJOawkrHcZ9gx6zMoMMToP5H9W6d7f/Huj6FIiIiudk7AkmHFd+/143rvtdV670iDzp4u03pzHM2raPE5MRdU8D9Uj51LZv/dd1eXnPDhNxIgvsBw63ShVniuGMS6wtBc9bayXylRM6EBMSGTExj6bujEplyt+CjqIGOL53iHjsQo3m/ZcZJRl0lvnV43dBelRe5+RrnP8ehzyPEakhTldO8vrv0xFAkRcdCuKq1eVKi6iMK6Q1WvLdeWRs9dhuyk6Oh1jvFfIThaED0vwhrH4+8c17pVW3XWHR5lbXYCQ8cIx/Eb5mdYqPeGPV9EHMmJDwxuWFjtd0bCd3Jqlf/kVFsEBhba9takS+I7IIzZPj2OWZ+JTHr29J/I/q3Tvb849sdQJETEsKG5AIs/ijqB0teg93wmDNttVww7qx9vYDAF/NqFWv9Z4oHjVo3nhF20Web47vMYpz5wAgNXkhETcWIDg+fKwi3vLdWMoW36dakiV4uL3DGR9t75m3wOWtYRCu3e1q2m+CuLXdg7js0+Ix2rPgMCQ8z+Y7VHTVKe9v3FaHeGIuVqR+vdiPfk0PsSEXEGaY6J66JPsjiGJkGvrmobPOFnhyg5x89hQzn9Cv67utTYoo47D0PH3r5ufXWkUNk5prgfNkTIPzB0nt6q9b5DoEJGDEl6cElnG9vUOTgEyu7vbWd/wbdaR0Q/JzYwmEI+0+9MQKada+BuY78UxvmCLTshKld5O2tDRV50X4GFduiAZr+7IHL9CI56nz6OSZ9BgcEYq/8R293boB5xb4M67fsbuX2ks1SrE3kfISJOAzuqVjt3L/Qtyu+0qGrbOi3LWW4K7+Va/Fqh9jWGvlspclv/wPBV1dtakWOOw89lKXNRrlYX7dPZLr+TM36PD538WbDhuG5FbDtkRGDou6Sj9rkuCu0vI8u0FZUF7A8RRzJ5k54REREREXHSS2BARERERMRACQyIiIiIiBgogQEREREREQMlMCAiIiIiYqAEBkREREREDJTAgIiIiIiIgRIYEBERERExUAIDIiIiIiIGSmBARERERMRACQyIiIiIiBgogQEREREREQMlMCAiIiIiYqAEBkREREREDJTAgIiIiIiIgRIYEBERERExUAIDIiIiIiIGSmBARERERMRACQyIiIiIiBgogQEREREREQMlMCAiIiIiYqAEBkREREREDJTAgIiIiIiIgRIYEBERERExUAIDIiIiIiIGSmBARERERMRACQyIiIiIiBgogQEREREREQONCAwAAAAAAABeCAwAAAAAABAIgQEAAAAAAAIhMAAAAAAAQCAEBgAAAAAACITAAAAAAAAAgRAYAAAAAAAgEAIDAAAAAAAEQmAAAAAAAIBACAwAAAAAABAIgQEAAAAAAAIhMAAAAAAAQCAEBgAAAAAACITAAAAAAAAAgRAYAAAAAAAgEAIDAAAAAAAEQmAAAAAAAIBACAwAAAAAABAIgQEAAAAAAAIhMAAAAAAAQADS/x8yvaSHwfcfQwAAAABJRU5ErkJggg==)"
      ],
      "metadata": {
        "id": "llxEnL8Z3peS"
      }
    },
    {
      "cell_type": "markdown",
      "source": [
        "# **L_7:** DATE_PART\n",
        "\n",
        "**unit of duration** ( \"century\", \"decade\", \"year\", \"quarter\", \"month\", \"week\", \"day\", \"hour\", \"minute\", \"second\", or \"millisecond\", dow, doy, epoch, isodow, isoyear, timezone, timezone_hour ,timezone_minute)\n"
      ],
      "metadata": {
        "id": "iaAKl8qUaNFF"
      }
    },
    {
      "cell_type": "code",
      "source": [
        "SQL_code = '''\n",
        "SELECT SR.name rep_name, COUNT(A.name) as number_of_accounts\n",
        "FROM accounts A    \n",
        "JOIN sales_reps SR  ON A.sales_rep_id = SR.id\n",
        "GROUP BY rep_name\n",
        "HAVING COUNT(A.name) > 5\n",
        "LIMIT 10\n",
        "'''\n",
        "\n",
        "code_execution = db.execute(SQL_code)\n",
        "\n",
        "for row in code_execution:\n",
        "  print(row)"
      ],
      "metadata": {
        "id": "kGah5v8_aNFF"
      },
      "execution_count": null,
      "outputs": []
    }
  ]
}