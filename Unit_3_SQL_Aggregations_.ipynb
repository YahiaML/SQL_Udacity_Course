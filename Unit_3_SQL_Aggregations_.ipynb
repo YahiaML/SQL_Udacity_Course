{
  "nbformat": 4,
  "nbformat_minor": 0,
  "metadata": {
    "colab": {
      "name": "Unit_3_SQL Aggregations .ipynb",
      "provenance": [],
      "collapsed_sections": [],
      "authorship_tag": "ABX9TyNS7GX1atFGGFNTTP5mGD0D",
      "include_colab_link": true
    },
    "kernelspec": {
      "name": "python3",
      "display_name": "Python 3"
    },
    "language_info": {
      "name": "python"
    }
  },
  "cells": [
    {
      "cell_type": "markdown",
      "metadata": {
        "id": "view-in-github",
        "colab_type": "text"
      },
      "source": [
        "<a href=\"https://colab.research.google.com/github/YahiaML/SQL_Udacity_Course/blob/main/Unit_3_SQL_Aggregations_.ipynb\" target=\"_parent\"><img src=\"https://colab.research.google.com/assets/colab-badge.svg\" alt=\"Open In Colab\"/></a>"
      ]
    },
    {
      "cell_type": "code",
      "source": [
        "import sqlite3\n",
        "import pandas as pd"
      ],
      "metadata": {
        "id": "N5R4p7i7ggyw"
      },
      "execution_count": null,
      "outputs": []
    },
    {
      "cell_type": "code",
      "source": [
        "db = sqlite3.connect('/content/parch_and_posey.db')"
      ],
      "metadata": {
        "id": "xu4mBSeMYjSY"
      },
      "execution_count": null,
      "outputs": []
    },
    {
      "cell_type": "markdown",
      "source": [
        "# **L_1:** SUM\n",
        "\n",
        "A NULL value is different from a zero value or a field that contains spaces. A field with a NULL value is one that has been left blank during record creation"
      ],
      "metadata": {
        "id": "VXpce29qbfhL"
      }
    },
    {
      "cell_type": "code",
      "source": [
        "SQL_code = '''\n",
        "SELECT SUM(poster_qty) poster_qty_sum, SUM(standard_qty ) standard_qty_sum, SUM(total_amt_usd) total_amt_usd_sum\n",
        "FROM orders \n",
        "'''\n",
        "\n",
        "code_execution = db.execute(SQL_code)\n",
        "\n",
        "for row in code_execution:\n",
        "  print(row)"
      ],
      "metadata": {
        "colab": {
          "base_uri": "https://localhost:8080/"
        },
        "id": "8dUSjqtAQuAR",
        "outputId": "6a292e81-78d2-433e-e0e7-38a663a8c93e"
      },
      "execution_count": null,
      "outputs": [
        {
          "output_type": "stream",
          "name": "stdout",
          "text": [
            "(723646, 1938346, 23141511.830000006)\n"
          ]
        }
      ]
    },
    {
      "cell_type": "markdown",
      "source": [
        "# **L_2:** MIN, MAX, & AVERAGE\n"
      ],
      "metadata": {
        "id": "GsRwympK_LEH"
      }
    },
    {
      "cell_type": "code",
      "source": [
        "SQL_code = '''\n",
        "SELECT MIN(occurred_at) \n",
        "FROM orders \n",
        "'''\n",
        "\n",
        "code_execution = db.execute(SQL_code)\n",
        "\n",
        "for row in code_execution:\n",
        "  print(row)"
      ],
      "metadata": {
        "colab": {
          "base_uri": "https://localhost:8080/"
        },
        "outputId": "429cf325-a701-43fb-b5d2-a790c39252ea",
        "id": "yJd87uL-_LER"
      },
      "execution_count": null,
      "outputs": [
        {
          "output_type": "stream",
          "name": "stdout",
          "text": [
            "('2013-12-04 04:22:44',)\n"
          ]
        }
      ]
    },
    {
      "cell_type": "code",
      "source": [
        "SQL_code = '''\n",
        "SELECT MAX(occurred_at)\n",
        "FROM web_events\n",
        "'''\n",
        "\n",
        "code_execution = db.execute(SQL_code)\n",
        "\n",
        "for row in code_execution:\n",
        "  print(row)"
      ],
      "metadata": {
        "colab": {
          "base_uri": "https://localhost:8080/"
        },
        "outputId": "95cc7915-fdfd-44ae-824a-06b487857959",
        "id": "p4VPJAgRA2_U"
      },
      "execution_count": null,
      "outputs": [
        {
          "output_type": "stream",
          "name": "stdout",
          "text": [
            "('2017-01-01 23:51:09',)\n"
          ]
        }
      ]
    },
    {
      "cell_type": "code",
      "source": [
        "SQL_code = '''\n",
        "SELECT AVG(standard_qty) mean_standard\n",
        "FROM orders\n",
        "'''\n",
        "\n",
        "code_execution = db.execute(SQL_code)\n",
        "\n",
        "for row in code_execution:\n",
        "  print(row)"
      ],
      "metadata": {
        "colab": {
          "base_uri": "https://localhost:8080/"
        },
        "outputId": "2ff1d13d-2aa6-4d16-ddb7-8cc6dab47636",
        "id": "564VSgWHA-xc"
      },
      "execution_count": null,
      "outputs": [
        {
          "output_type": "stream",
          "name": "stdout",
          "text": [
            "(280.43200231481484,)\n"
          ]
        }
      ]
    },
    {
      "cell_type": "markdown",
      "source": [
        "# **L_3:** GROUP BY\n",
        "\n",
        "A NULL value is different from a zero value or a field that contains spaces. A field with a NULL value is one that has been left blank during record creation"
      ],
      "metadata": {
        "id": "R1wC_SgaBF6b"
      }
    },
    {
      "cell_type": "code",
      "source": [
        "SQL_code = '''\n",
        "SELECT w.channel, COUNT(*)\n",
        "FROM web_events w\n",
        "GROUP BY w.channel\n",
        "'''\n",
        "\n",
        "code_execution = db.execute(SQL_code)\n",
        "\n",
        "for row in code_execution:\n",
        "  print(row)"
      ],
      "metadata": {
        "colab": {
          "base_uri": "https://localhost:8080/"
        },
        "outputId": "96cb1a0f-162b-4a72-b5f0-3cd856b7b2d8",
        "id": "EW0bmvBHBF6c"
      },
      "execution_count": null,
      "outputs": [
        {
          "output_type": "stream",
          "name": "stdout",
          "text": [
            "('adwords', 906)\n",
            "('banner', 476)\n",
            "('direct', 5298)\n",
            "('facebook', 967)\n",
            "('organic', 952)\n",
            "('twitter', 474)\n"
          ]
        }
      ]
    },
    {
      "cell_type": "code",
      "source": [
        "SQL_code = '''\n",
        "SELECT R.name region_name ,W.channel, COUNT(W.occurred_at) num_of_occurrences\n",
        "FROM web_events W\n",
        "\n",
        "JOIN accounts A     ON W.account_id   = A.id\n",
        "\n",
        "JOIN sales_reps SR  ON A.sales_rep_id = SR.id\n",
        "\n",
        "JOIN region R       ON SR.region_id   = R.id\n",
        "\n",
        "GROUP BY R.name, W.channel\n",
        "ORDER BY num_of_occurrences DESC\n",
        "\n",
        "'''\n",
        "\n",
        "code_execution = db.execute(SQL_code)\n",
        "\n",
        "for row in code_execution:\n",
        "  print(row)"
      ],
      "metadata": {
        "colab": {
          "base_uri": "https://localhost:8080/"
        },
        "outputId": "0abb5928-ee79-4423-de51-58a474b09ff2",
        "id": "-9_IcccD9L7t"
      },
      "execution_count": null,
      "outputs": [
        {
          "output_type": "stream",
          "name": "stdout",
          "text": [
            "('Northeast', 'direct', 1800)\n",
            "('Southeast', 'direct', 1548)\n",
            "('West', 'direct', 1254)\n",
            "('Midwest', 'direct', 696)\n",
            "('Northeast', 'facebook', 335)\n",
            "('Northeast', 'organic', 317)\n",
            "('Northeast', 'adwords', 300)\n",
            "('Southeast', 'facebook', 278)\n",
            "('Southeast', 'organic', 275)\n",
            "('Southeast', 'adwords', 264)\n",
            "('West', 'organic', 243)\n",
            "('West', 'adwords', 241)\n",
            "('West', 'facebook', 229)\n",
            "('Northeast', 'banner', 155)\n",
            "('Northeast', 'twitter', 154)\n",
            "('Southeast', 'banner', 146)\n",
            "('Southeast', 'twitter', 127)\n",
            "('Midwest', 'facebook', 125)\n",
            "('West', 'twitter', 122)\n",
            "('Midwest', 'organic', 117)\n",
            "('West', 'banner', 116)\n",
            "('Midwest', 'adwords', 101)\n",
            "('Midwest', 'twitter', 71)\n",
            "('Midwest', 'banner', 59)\n"
          ]
        }
      ]
    },
    {
      "cell_type": "markdown",
      "source": [
        "# **L_4:** SELECT DISTINCT\n",
        "\n",
        "used to return only distinct (different) values"
      ],
      "metadata": {
        "id": "UJTJut9kpeab"
      }
    },
    {
      "cell_type": "code",
      "source": [
        "SQL_code = '''\n",
        "SELECT DISTINCT id, name\n",
        "FROM sales_reps\n",
        "LIMIT 10\n",
        "'''\n",
        "\n",
        "code_execution = db.execute(SQL_code)\n",
        "\n",
        "for row in code_execution:\n",
        "  print(row)"
      ],
      "metadata": {
        "colab": {
          "base_uri": "https://localhost:8080/"
        },
        "outputId": "41cc140a-ed13-437b-df66-b03d9a169f8c",
        "id": "5gD8q6A5peak"
      },
      "execution_count": null,
      "outputs": [
        {
          "output_type": "stream",
          "name": "stdout",
          "text": [
            "(321500, 'Samuel Racine')\n",
            "(321510, 'Eugena Esser')\n",
            "(321520, 'Michel Averette')\n",
            "(321530, 'Renetta Carew')\n",
            "(321540, 'Cara Clarke')\n",
            "(321550, 'Lavera Oles')\n",
            "(321560, 'Elba Felder')\n",
            "(321570, 'Shawanda Selke')\n",
            "(321580, 'Sibyl Lauria')\n",
            "(321590, 'Necole Victory')\n"
          ]
        }
      ]
    },
    {
      "cell_type": "code",
      "source": [
        "SQL_code = '''\n",
        "SELECT R.name region_name ,W.channel, COUNT(W.occurred_at) num_of_occurrences\n",
        "FROM web_events W\n",
        "\n",
        "JOIN accounts A     ON W.account_id   = A.id\n",
        "\n",
        "JOIN sales_reps SR  ON A.sales_rep_id = SR.id\n",
        "\n",
        "JOIN region R       ON SR.region_id   = R.id\n",
        "\n",
        "GROUP BY R.name, W.channel\n",
        "ORDER BY num_of_occurrences DESC\n",
        "\n",
        "'''\n",
        "\n",
        "code_execution = db.execute(SQL_code)\n",
        "\n",
        "for row in code_execution:\n",
        "  print(row)"
      ],
      "metadata": {
        "colab": {
          "base_uri": "https://localhost:8080/"
        },
        "outputId": "14e45b41-6be8-4798-eff9-d71eb7185fc8",
        "id": "sGFyzvftpeal"
      },
      "execution_count": null,
      "outputs": [
        {
          "output_type": "stream",
          "name": "stdout",
          "text": [
            "('Northeast', 'direct', 1800)\n",
            "('Southeast', 'direct', 1548)\n",
            "('West', 'direct', 1254)\n",
            "('Midwest', 'direct', 696)\n",
            "('Northeast', 'facebook', 335)\n",
            "('Northeast', 'organic', 317)\n",
            "('Northeast', 'adwords', 300)\n",
            "('Southeast', 'facebook', 278)\n",
            "('Southeast', 'organic', 275)\n",
            "('Southeast', 'adwords', 264)\n",
            "('West', 'organic', 243)\n",
            "('West', 'adwords', 241)\n",
            "('West', 'facebook', 229)\n",
            "('Northeast', 'banner', 155)\n",
            "('Northeast', 'twitter', 154)\n",
            "('Southeast', 'banner', 146)\n",
            "('Southeast', 'twitter', 127)\n",
            "('Midwest', 'facebook', 125)\n",
            "('West', 'twitter', 122)\n",
            "('Midwest', 'organic', 117)\n",
            "('West', 'banner', 116)\n",
            "('Midwest', 'adwords', 101)\n",
            "('Midwest', 'twitter', 71)\n",
            "('Midwest', 'banner', 59)\n"
          ]
        }
      ]
    },
    {
      "cell_type": "markdown",
      "source": [
        "# **L_5:** HAVING\n",
        "\n",
        "It was added to SQL because the WHERE keyword cannot be used with aggregate functions (count, sum, min, ...etc.)."
      ],
      "metadata": {
        "id": "Eo43DMY2rpX_"
      }
    },
    {
      "cell_type": "code",
      "source": [
        "SQL_code = '''\n",
        "SELECT SR.name rep_name, COUNT(A.name) as number_of_accounts\n",
        "FROM accounts A    \n",
        "JOIN sales_reps SR  ON A.sales_rep_id = SR.id\n",
        "GROUP BY rep_name\n",
        "HAVING COUNT(A.name) > 5\n",
        "LIMIT 10\n",
        "'''\n",
        "\n",
        "code_execution = db.execute(SQL_code)\n",
        "\n",
        "for row in code_execution:\n",
        "  print(row)"
      ],
      "metadata": {
        "colab": {
          "base_uri": "https://localhost:8080/"
        },
        "outputId": "60b18ca7-d10f-400a-cadb-60c18a47243b",
        "id": "kGDKcjvjrpYI"
      },
      "execution_count": null,
      "outputs": [
        {
          "output_type": "stream",
          "name": "stdout",
          "text": [
            "('Arica Stoltzfus', 10)\n",
            "('Babette Soukup', 7)\n",
            "('Brandie Riva', 10)\n",
            "('Calvin Ollison', 11)\n",
            "('Charles Bidwell', 7)\n",
            "('Cliff Meints', 7)\n",
            "('Dawna Agnew', 9)\n",
            "('Debroah Wardle', 6)\n",
            "('Delilah Krum', 8)\n",
            "('Derrick Boggess', 7)\n"
          ]
        }
      ]
    },
    {
      "cell_type": "code",
      "source": [
        "SQL_code = '''\n",
        "SELECT R.name region_name ,W.channel, COUNT(W.occurred_at) num_of_occurrences\n",
        "FROM web_events W\n",
        "\n",
        "JOIN accounts A     ON W.account_id   = A.id\n",
        "\n",
        "JOIN sales_reps SR  ON A.sales_rep_id = SR.id\n",
        "\n",
        "JOIN region R       ON SR.region_id   = R.id\n",
        "\n",
        "GROUP BY R.name, W.channel\n",
        "ORDER BY num_of_occurrences DESC\n",
        "\n",
        "'''\n",
        "\n",
        "code_execution = db.execute(SQL_code)\n",
        "\n",
        "for row in code_execution:\n",
        "  print(row)"
      ],
      "metadata": {
        "colab": {
          "base_uri": "https://localhost:8080/"
        },
        "outputId": "14e45b41-6be8-4798-eff9-d71eb7185fc8",
        "id": "KxJusDdErpYJ"
      },
      "execution_count": null,
      "outputs": [
        {
          "output_type": "stream",
          "name": "stdout",
          "text": [
            "('Northeast', 'direct', 1800)\n",
            "('Southeast', 'direct', 1548)\n",
            "('West', 'direct', 1254)\n",
            "('Midwest', 'direct', 696)\n",
            "('Northeast', 'facebook', 335)\n",
            "('Northeast', 'organic', 317)\n",
            "('Northeast', 'adwords', 300)\n",
            "('Southeast', 'facebook', 278)\n",
            "('Southeast', 'organic', 275)\n",
            "('Southeast', 'adwords', 264)\n",
            "('West', 'organic', 243)\n",
            "('West', 'adwords', 241)\n",
            "('West', 'facebook', 229)\n",
            "('Northeast', 'banner', 155)\n",
            "('Northeast', 'twitter', 154)\n",
            "('Southeast', 'banner', 146)\n",
            "('Southeast', 'twitter', 127)\n",
            "('Midwest', 'facebook', 125)\n",
            "('West', 'twitter', 122)\n",
            "('Midwest', 'organic', 117)\n",
            "('West', 'banner', 116)\n",
            "('Midwest', 'adwords', 101)\n",
            "('Midwest', 'twitter', 71)\n",
            "('Midwest', 'banner', 59)\n"
          ]
        }
      ]
    }
  ]
}