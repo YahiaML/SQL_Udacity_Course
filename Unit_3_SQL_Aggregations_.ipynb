{
  "nbformat": 4,
  "nbformat_minor": 0,
  "metadata": {
    "colab": {
      "name": "Unit_3_SQL Aggregations .ipynb",
      "provenance": [],
      "collapsed_sections": [],
      "authorship_tag": "ABX9TyPLKEYRqz6u+scpXjTCYFav",
      "include_colab_link": true
    },
    "kernelspec": {
      "name": "python3",
      "display_name": "Python 3"
    },
    "language_info": {
      "name": "python"
    }
  },
  "cells": [
    {
      "cell_type": "markdown",
      "metadata": {
        "id": "view-in-github",
        "colab_type": "text"
      },
      "source": [
        "<a href=\"https://colab.research.google.com/github/YahiaML/SQL_Udacity_Course/blob/main/Unit_3_SQL_Aggregations_.ipynb\" target=\"_parent\"><img src=\"https://colab.research.google.com/assets/colab-badge.svg\" alt=\"Open In Colab\"/></a>"
      ]
    },
    {
      "cell_type": "code",
      "source": [
        "import sqlite3\n",
        "import pandas as pd"
      ],
      "metadata": {
        "id": "N5R4p7i7ggyw"
      },
      "execution_count": 1,
      "outputs": []
    },
    {
      "cell_type": "code",
      "source": [
        "db = sqlite3.connect('/content/parch_and_posey.db')"
      ],
      "metadata": {
        "id": "xu4mBSeMYjSY"
      },
      "execution_count": 2,
      "outputs": []
    },
    {
      "cell_type": "markdown",
      "source": [
        "# **L_1:** SUM\n",
        "\n",
        "A NULL value is different from a zero value or a field that contains spaces. A field with a NULL value is one that has been left blank during record creation"
      ],
      "metadata": {
        "id": "VXpce29qbfhL"
      }
    },
    {
      "cell_type": "code",
      "source": [
        "SQL_code = '''\n",
        "SELECT SUM(poster_qty) poster_qty_sum, SUM(standard_qty ) standard_qty_sum, SUM(total_amt_usd) total_amt_usd_sum\n",
        "FROM orders \n",
        "'''\n",
        "\n",
        "code_execution = db.execute(SQL_code)\n",
        "\n",
        "for row in code_execution:\n",
        "  print(row)"
      ],
      "metadata": {
        "colab": {
          "base_uri": "https://localhost:8080/"
        },
        "id": "8dUSjqtAQuAR",
        "outputId": "c8b917c1-4084-4fe8-9331-d80497f39f2c"
      },
      "execution_count": 3,
      "outputs": [
        {
          "output_type": "stream",
          "name": "stdout",
          "text": [
            "(723646, 1938346, 23141511.830000006)\n"
          ]
        }
      ]
    },
    {
      "cell_type": "markdown",
      "source": [
        "# **L_2:** MIN, MAX, & AVERAGE\n"
      ],
      "metadata": {
        "id": "GsRwympK_LEH"
      }
    },
    {
      "cell_type": "code",
      "source": [
        "SQL_code = '''\n",
        "SELECT MIN(occurred_at) \n",
        "FROM orders \n",
        "'''\n",
        "\n",
        "code_execution = db.execute(SQL_code)\n",
        "\n",
        "for row in code_execution:\n",
        "  print(row)"
      ],
      "metadata": {
        "colab": {
          "base_uri": "https://localhost:8080/"
        },
        "outputId": "8098318a-bd04-4c2f-becd-bea5043e07c6",
        "id": "yJd87uL-_LER"
      },
      "execution_count": 4,
      "outputs": [
        {
          "output_type": "stream",
          "name": "stdout",
          "text": [
            "('2013-12-04 04:22:44',)\n"
          ]
        }
      ]
    },
    {
      "cell_type": "code",
      "source": [
        "SQL_code = '''\n",
        "SELECT MAX(occurred_at)\n",
        "FROM web_events\n",
        "'''\n",
        "\n",
        "code_execution = db.execute(SQL_code)\n",
        "\n",
        "for row in code_execution:\n",
        "  print(row)"
      ],
      "metadata": {
        "colab": {
          "base_uri": "https://localhost:8080/"
        },
        "outputId": "f4efdc10-3b9f-48a7-88a1-e9b929850590",
        "id": "p4VPJAgRA2_U"
      },
      "execution_count": 5,
      "outputs": [
        {
          "output_type": "stream",
          "name": "stdout",
          "text": [
            "('2017-01-01 23:51:09',)\n"
          ]
        }
      ]
    },
    {
      "cell_type": "code",
      "source": [
        "SQL_code = '''\n",
        "SELECT AVG(standard_qty) mean_standard\n",
        "FROM orders\n",
        "'''\n",
        "\n",
        "code_execution = db.execute(SQL_code)\n",
        "\n",
        "for row in code_execution:\n",
        "  print(row)"
      ],
      "metadata": {
        "colab": {
          "base_uri": "https://localhost:8080/"
        },
        "outputId": "94b2009c-d6d5-40d5-b696-604559f0c46e",
        "id": "564VSgWHA-xc"
      },
      "execution_count": 6,
      "outputs": [
        {
          "output_type": "stream",
          "name": "stdout",
          "text": [
            "(280.43200231481484,)\n"
          ]
        }
      ]
    },
    {
      "cell_type": "markdown",
      "source": [
        "# **L_3:** GROUP BY\n",
        "\n",
        "A NULL value is different from a zero value or a field that contains spaces. A field with a NULL value is one that has been left blank during record creation"
      ],
      "metadata": {
        "id": "R1wC_SgaBF6b"
      }
    },
    {
      "cell_type": "code",
      "source": [
        "SQL_code = '''\n",
        "SELECT w.channel, COUNT(*)\n",
        "FROM web_events w\n",
        "GROUP BY w.channel\n",
        "'''\n",
        "\n",
        "code_execution = db.execute(SQL_code)\n",
        "\n",
        "for row in code_execution:\n",
        "  print(row)"
      ],
      "metadata": {
        "colab": {
          "base_uri": "https://localhost:8080/"
        },
        "outputId": "99889228-4700-48d2-a891-d9c829bdba3a",
        "id": "EW0bmvBHBF6c"
      },
      "execution_count": 7,
      "outputs": [
        {
          "output_type": "stream",
          "name": "stdout",
          "text": [
            "('adwords', 906)\n",
            "('banner', 476)\n",
            "('direct', 5298)\n",
            "('facebook', 967)\n",
            "('organic', 952)\n",
            "('twitter', 474)\n"
          ]
        }
      ]
    },
    {
      "cell_type": "code",
      "source": [
        "SQL_code = '''\n",
        "SELECT R.name region_name ,W.channel, COUNT(W.occurred_at) num_of_occurrences\n",
        "FROM web_events W\n",
        "\n",
        "JOIN accounts A     ON W.account_id   = A.id\n",
        "\n",
        "JOIN sales_reps SR  ON A.sales_rep_id = SR.id\n",
        "\n",
        "JOIN region R       ON SR.region_id   = R.id\n",
        "\n",
        "GROUP BY R.name, W.channel\n",
        "ORDER BY num_of_occurrences DESC\n",
        "\n",
        "'''\n",
        "\n",
        "code_execution = db.execute(SQL_code)\n",
        "\n",
        "for row in code_execution:\n",
        "  print(row)"
      ],
      "metadata": {
        "colab": {
          "base_uri": "https://localhost:8080/"
        },
        "outputId": "1ae13d1e-2613-4804-edcc-6f0d8f37ff98",
        "id": "-9_IcccD9L7t"
      },
      "execution_count": 8,
      "outputs": [
        {
          "output_type": "stream",
          "name": "stdout",
          "text": [
            "('Northeast', 'direct', 1800)\n",
            "('Southeast', 'direct', 1548)\n",
            "('West', 'direct', 1254)\n",
            "('Midwest', 'direct', 696)\n",
            "('Northeast', 'facebook', 335)\n",
            "('Northeast', 'organic', 317)\n",
            "('Northeast', 'adwords', 300)\n",
            "('Southeast', 'facebook', 278)\n",
            "('Southeast', 'organic', 275)\n",
            "('Southeast', 'adwords', 264)\n",
            "('West', 'organic', 243)\n",
            "('West', 'adwords', 241)\n",
            "('West', 'facebook', 229)\n",
            "('Northeast', 'banner', 155)\n",
            "('Northeast', 'twitter', 154)\n",
            "('Southeast', 'banner', 146)\n",
            "('Southeast', 'twitter', 127)\n",
            "('Midwest', 'facebook', 125)\n",
            "('West', 'twitter', 122)\n",
            "('Midwest', 'organic', 117)\n",
            "('West', 'banner', 116)\n",
            "('Midwest', 'adwords', 101)\n",
            "('Midwest', 'twitter', 71)\n",
            "('Midwest', 'banner', 59)\n"
          ]
        }
      ]
    },
    {
      "cell_type": "markdown",
      "source": [
        "We can use numbers instead of columns names in GROUP BY and ORDER BY"
      ],
      "metadata": {
        "id": "6MkgXNvs7Gp7"
      }
    },
    {
      "cell_type": "code",
      "source": [
        "SQL_code = '''\n",
        "SELECT R.name region_name ,W.channel, COUNT(W.occurred_at) num_of_occurrences\n",
        "FROM web_events W\n",
        "\n",
        "JOIN accounts A     ON W.account_id   = A.id\n",
        "\n",
        "JOIN sales_reps SR  ON A.sales_rep_id = SR.id\n",
        "\n",
        "JOIN region R       ON SR.region_id   = R.id\n",
        "\n",
        "GROUP BY 1, 2\n",
        "ORDER BY 3 DESC\n",
        "\n",
        "'''\n",
        "\n",
        "code_execution = db.execute(SQL_code)\n",
        "\n",
        "for row in code_execution:\n",
        "  print(row)"
      ],
      "metadata": {
        "colab": {
          "base_uri": "https://localhost:8080/"
        },
        "outputId": "103e023f-28bb-4c17-e9fb-bca033fd3965",
        "id": "am2LwdhZ7BxY"
      },
      "execution_count": 21,
      "outputs": [
        {
          "output_type": "stream",
          "name": "stdout",
          "text": [
            "('Northeast', 'direct', 1800)\n",
            "('Southeast', 'direct', 1548)\n",
            "('West', 'direct', 1254)\n",
            "('Midwest', 'direct', 696)\n",
            "('Northeast', 'facebook', 335)\n",
            "('Northeast', 'organic', 317)\n",
            "('Northeast', 'adwords', 300)\n",
            "('Southeast', 'facebook', 278)\n",
            "('Southeast', 'organic', 275)\n",
            "('Southeast', 'adwords', 264)\n",
            "('West', 'organic', 243)\n",
            "('West', 'adwords', 241)\n",
            "('West', 'facebook', 229)\n",
            "('Northeast', 'banner', 155)\n",
            "('Northeast', 'twitter', 154)\n",
            "('Southeast', 'banner', 146)\n",
            "('Southeast', 'twitter', 127)\n",
            "('Midwest', 'facebook', 125)\n",
            "('West', 'twitter', 122)\n",
            "('Midwest', 'organic', 117)\n",
            "('West', 'banner', 116)\n",
            "('Midwest', 'adwords', 101)\n",
            "('Midwest', 'twitter', 71)\n",
            "('Midwest', 'banner', 59)\n"
          ]
        }
      ]
    },
    {
      "cell_type": "markdown",
      "source": [
        "# **L_4:** SELECT DISTINCT\n",
        "\n",
        "used to return only distinct (different) values"
      ],
      "metadata": {
        "id": "UJTJut9kpeab"
      }
    },
    {
      "cell_type": "code",
      "source": [
        "SQL_code = '''\n",
        "SELECT DISTINCT id, name\n",
        "FROM sales_reps\n",
        "LIMIT 10\n",
        "'''\n",
        "\n",
        "code_execution = db.execute(SQL_code)\n",
        "\n",
        "for row in code_execution:\n",
        "  print(row)"
      ],
      "metadata": {
        "colab": {
          "base_uri": "https://localhost:8080/"
        },
        "outputId": "52faeb12-1dd3-4323-9395-7123c9af29a0",
        "id": "5gD8q6A5peak"
      },
      "execution_count": 9,
      "outputs": [
        {
          "output_type": "stream",
          "name": "stdout",
          "text": [
            "(321500, 'Samuel Racine')\n",
            "(321510, 'Eugena Esser')\n",
            "(321520, 'Michel Averette')\n",
            "(321530, 'Renetta Carew')\n",
            "(321540, 'Cara Clarke')\n",
            "(321550, 'Lavera Oles')\n",
            "(321560, 'Elba Felder')\n",
            "(321570, 'Shawanda Selke')\n",
            "(321580, 'Sibyl Lauria')\n",
            "(321590, 'Necole Victory')\n"
          ]
        }
      ]
    },
    {
      "cell_type": "code",
      "source": [
        "SQL_code = '''\n",
        "SELECT R.name region_name ,W.channel, COUNT(W.occurred_at) num_of_occurrences\n",
        "FROM web_events W\n",
        "\n",
        "JOIN accounts A     ON W.account_id   = A.id\n",
        "\n",
        "JOIN sales_reps SR  ON A.sales_rep_id = SR.id\n",
        "\n",
        "JOIN region R       ON SR.region_id   = R.id\n",
        "\n",
        "GROUP BY R.name, W.channel\n",
        "ORDER BY num_of_occurrences DESC\n",
        "\n",
        "'''\n",
        "\n",
        "code_execution = db.execute(SQL_code)\n",
        "\n",
        "for row in code_execution:\n",
        "  print(row)"
      ],
      "metadata": {
        "colab": {
          "base_uri": "https://localhost:8080/"
        },
        "outputId": "183f5e17-b8ee-478e-c9f0-34c32d44010f",
        "id": "sGFyzvftpeal"
      },
      "execution_count": 10,
      "outputs": [
        {
          "output_type": "stream",
          "name": "stdout",
          "text": [
            "('Northeast', 'direct', 1800)\n",
            "('Southeast', 'direct', 1548)\n",
            "('West', 'direct', 1254)\n",
            "('Midwest', 'direct', 696)\n",
            "('Northeast', 'facebook', 335)\n",
            "('Northeast', 'organic', 317)\n",
            "('Northeast', 'adwords', 300)\n",
            "('Southeast', 'facebook', 278)\n",
            "('Southeast', 'organic', 275)\n",
            "('Southeast', 'adwords', 264)\n",
            "('West', 'organic', 243)\n",
            "('West', 'adwords', 241)\n",
            "('West', 'facebook', 229)\n",
            "('Northeast', 'banner', 155)\n",
            "('Northeast', 'twitter', 154)\n",
            "('Southeast', 'banner', 146)\n",
            "('Southeast', 'twitter', 127)\n",
            "('Midwest', 'facebook', 125)\n",
            "('West', 'twitter', 122)\n",
            "('Midwest', 'organic', 117)\n",
            "('West', 'banner', 116)\n",
            "('Midwest', 'adwords', 101)\n",
            "('Midwest', 'twitter', 71)\n",
            "('Midwest', 'banner', 59)\n"
          ]
        }
      ]
    },
    {
      "cell_type": "markdown",
      "source": [
        "# **L_5:** HAVING\n",
        "\n",
        "It was added to SQL because the WHERE keyword cannot be used with aggregate functions (count, sum, min, ...etc.)."
      ],
      "metadata": {
        "id": "Eo43DMY2rpX_"
      }
    },
    {
      "cell_type": "code",
      "source": [
        "SQL_code = '''\n",
        "SELECT SR.name rep_name, COUNT(A.name) as number_of_accounts\n",
        "FROM accounts A    \n",
        "JOIN sales_reps SR  ON A.sales_rep_id = SR.id\n",
        "GROUP BY rep_name\n",
        "HAVING COUNT(A.name) > 5\n",
        "LIMIT 10\n",
        "'''\n",
        "\n",
        "code_execution = db.execute(SQL_code)\n",
        "\n",
        "for row in code_execution:\n",
        "  print(row)"
      ],
      "metadata": {
        "colab": {
          "base_uri": "https://localhost:8080/"
        },
        "outputId": "eae62618-15a6-4145-993c-9a8782582efe",
        "id": "kGDKcjvjrpYI"
      },
      "execution_count": 11,
      "outputs": [
        {
          "output_type": "stream",
          "name": "stdout",
          "text": [
            "('Arica Stoltzfus', 10)\n",
            "('Babette Soukup', 7)\n",
            "('Brandie Riva', 10)\n",
            "('Calvin Ollison', 11)\n",
            "('Charles Bidwell', 7)\n",
            "('Cliff Meints', 7)\n",
            "('Dawna Agnew', 9)\n",
            "('Debroah Wardle', 6)\n",
            "('Delilah Krum', 8)\n",
            "('Derrick Boggess', 7)\n"
          ]
        }
      ]
    },
    {
      "cell_type": "code",
      "source": [
        "SQL_code = '''\n",
        "SELECT R.name region_name ,W.channel, COUNT(W.occurred_at) num_of_occurrences\n",
        "FROM web_events W\n",
        "\n",
        "JOIN accounts A     ON W.account_id   = A.id\n",
        "\n",
        "JOIN sales_reps SR  ON A.sales_rep_id = SR.id\n",
        "\n",
        "JOIN region R       ON SR.region_id   = R.id\n",
        "\n",
        "GROUP BY R.name, W.channel\n",
        "ORDER BY num_of_occurrences DESC\n",
        "\n",
        "'''\n",
        "\n",
        "code_execution = db.execute(SQL_code)\n",
        "\n",
        "for row in code_execution:\n",
        "  print(row)"
      ],
      "metadata": {
        "colab": {
          "base_uri": "https://localhost:8080/"
        },
        "outputId": "82b9d19d-42e4-402d-d52d-0914d4dab2c0",
        "id": "KxJusDdErpYJ"
      },
      "execution_count": 12,
      "outputs": [
        {
          "output_type": "stream",
          "name": "stdout",
          "text": [
            "('Northeast', 'direct', 1800)\n",
            "('Southeast', 'direct', 1548)\n",
            "('West', 'direct', 1254)\n",
            "('Midwest', 'direct', 696)\n",
            "('Northeast', 'facebook', 335)\n",
            "('Northeast', 'organic', 317)\n",
            "('Northeast', 'adwords', 300)\n",
            "('Southeast', 'facebook', 278)\n",
            "('Southeast', 'organic', 275)\n",
            "('Southeast', 'adwords', 264)\n",
            "('West', 'organic', 243)\n",
            "('West', 'adwords', 241)\n",
            "('West', 'facebook', 229)\n",
            "('Northeast', 'banner', 155)\n",
            "('Northeast', 'twitter', 154)\n",
            "('Southeast', 'banner', 146)\n",
            "('Southeast', 'twitter', 127)\n",
            "('Midwest', 'facebook', 125)\n",
            "('West', 'twitter', 122)\n",
            "('Midwest', 'organic', 117)\n",
            "('West', 'banner', 116)\n",
            "('Midwest', 'adwords', 101)\n",
            "('Midwest', 'twitter', 71)\n",
            "('Midwest', 'banner', 59)\n"
          ]
        }
      ]
    },
    {
      "cell_type": "markdown",
      "source": [
        "# **L_6:** DATE_TRUNC\n",
        "\n",
        "used to truncate a date or datetime value to the start of a given unit of duration. Takes two arguments, the date to truncate and the unit of duration.\n",
        "\n",
        "**unit of duration** ( \"century\", \"decade\", \"year\", \"quarter\", \"month\", \"week\", \"day\", \"hour\", \"minute\", \"second\", or \"millisecond\")\n",
        "\n",
        "$NOTE:$ DATE_TRUNC can not be used in colab for unknown reason"
      ],
      "metadata": {
        "id": "xkF7m5M0ZNtw"
      }
    },
    {
      "cell_type": "code",
      "source": [
        "#SQL_code = '''\n",
        "#SELECT DATE_TRUNC('year', occurred_at) Year_ , SUM(total_amt_usd) \n",
        "#FROM orders\n",
        "#GROUP BY Year_\n",
        "#ORDER BY Year_\n",
        "\n",
        "#'''\n",
        "\n",
        "#code_execution = db.execute(SQL_code)\n",
        "\n",
        "#for row in code_execution:\n",
        "#  print(row)"
      ],
      "metadata": {
        "id": "OSfMwSkaZNt5"
      },
      "execution_count": 18,
      "outputs": []
    },
    {
      "cell_type": "markdown",
      "source": [
        "![Capture.PNG](data:image/png;base64,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)"
      ],
      "metadata": {
        "id": "llxEnL8Z3peS"
      }
    },
    {
      "cell_type": "markdown",
      "source": [
        "# **L_7:** DATE_PART\n",
        "\n",
        "**unit of duration** ( \"century\", \"decade\", \"year\", \"quarter\", \"month\", \"week\", \"day\", \"hour\", \"minute\", \"second\", or \"millisecond\", dow, doy, epoch, isodow, isoyear, timezone, timezone_hour ,timezone_minute)\n"
      ],
      "metadata": {
        "id": "iaAKl8qUaNFF"
      }
    },
    {
      "cell_type": "code",
      "source": [
        "#SQL_code = '''\n",
        "#SELECT A.name, DATE_PART('year', O.occurred_at) year_, DATE_PART('month', O.occurred_at) month_ , SUM(O.gloss_amt_usd) \n",
        "#FROM orders O\n",
        "#JOIN accounts A ON O.account_id = A.id\n",
        "#WHERE A.name = 'Walmart'\n",
        "#GROUP BY 1,2,3\n",
        "#ORDER BY 4 DESC\n",
        "#LIMIT 1\n",
        "#'''\n",
        "#\n",
        "#code_execution = db.execute(SQL_code)\n",
        "#\n",
        "#for row in code_execution:\n",
        "#  print(row)"
      ],
      "metadata": {
        "id": "kGah5v8_aNFF"
      },
      "execution_count": 20,
      "outputs": []
    },
    {
      "cell_type": "markdown",
      "source": [
        "![Capture.PNG](data:image/png;base64,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)"
      ],
      "metadata": {
        "id": "7067uRrQ7TWr"
      }
    }
  ]
}